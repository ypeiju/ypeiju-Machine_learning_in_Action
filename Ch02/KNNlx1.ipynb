{
 "cells": [
  {
   "cell_type": "code",
   "execution_count": 7,
   "metadata": {},
   "outputs": [],
   "source": [
    "#coding:utf-8\n",
    "\n",
    "from numpy import *\n",
    "import operator\n",
    "\n",
    "##给出训练数据以及对应的类别\n",
    "def createDataSet():\n",
    "    group = array([[1.0,2.0],[1.2,0.1],[0.1,1.4],[0.3,3.5]])\n",
    "    labels = ['A','A','B','B']\n",
    "    return group,labels\n",
    "\n",
    "###通过KNN进行分类\n",
    "def classify(input,dataSet,label,k):\n",
    "    dataSize = dataSet.shape[0]\n",
    "    ####计算欧式距离\n",
    "    diff = tile(input,(dataSize,1)) - dataSet\n",
    "    sqdiff = diff ** 2\n",
    "    squareDist = sum(sqdiff,axis = 1)###行向量分别相加，从而得到新的一个行向量\n",
    "    dist = squareDist ** 0.5\n",
    "    \n",
    "    ##对距离进行排序\n",
    "    sortedDistIndex = argsort(dist)##argsort()根据元素的值从大到小对元素进行排序，返回下标\n",
    "\n",
    "    classCount={}\n",
    "    for i in range(k):\n",
    "        voteLabel = label[sortedDistIndex[i]]\n",
    "        ###对选取的K个样本所属的类别个数进行统计\n",
    "        classCount[voteLabel] = classCount.get(voteLabel,0) + 1\n",
    "    ###选取出现的类别次数最多的类别\n",
    "    maxCount = 0\n",
    "    for key,value in classCount.items():\n",
    "        if value > maxCount:\n",
    "            maxCount = value\n",
    "            classes = key\n",
    "\n",
    "    return classes"
   ]
  },
  {
   "cell_type": "code",
   "execution_count": 8,
   "metadata": {},
   "outputs": [
    {
     "name": "stdout",
     "output_type": "stream",
     "text": [
      "A\n"
     ]
    }
   ],
   "source": [
    "group,labels=createDataSet()\n",
    "xx=[0.3,0.2]\n",
    "kk=3\n",
    "cc=classify(xx, group, labels, kk)\n",
    "print(cc)"
   ]
  },
  {
   "cell_type": "code",
   "execution_count": null,
   "metadata": {},
   "outputs": [],
   "source": []
  }
 ],
 "metadata": {
  "kernelspec": {
   "display_name": "Python 3",
   "language": "python",
   "name": "python3"
  },
  "language_info": {
   "codemirror_mode": {
    "name": "ipython",
    "version": 3
   },
   "file_extension": ".py",
   "mimetype": "text/x-python",
   "name": "python",
   "nbconvert_exporter": "python",
   "pygments_lexer": "ipython3",
   "version": "3.7.3"
  }
 },
 "nbformat": 4,
 "nbformat_minor": 2
}
