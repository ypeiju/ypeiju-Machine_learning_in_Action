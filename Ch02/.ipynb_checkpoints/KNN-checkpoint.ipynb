{
 "cells": [
  {
   "cell_type": "code",
   "execution_count": 13,
   "metadata": {},
   "outputs": [],
   "source": [
    "'''\n",
    "Created on Sep 16, 2010\n",
    "kNN: k Nearest Neighbors\n",
    "\n",
    "Input:      inX: vector to compare to existing dataset (1xN)\n",
    "            dataSet: size m data set of known vectors (NxM)\n",
    "            labels: data set labels (1xM vector)\n",
    "            k: number of neighbors to use for comparison (should be an odd number)\n",
    "            \n",
    "Output:     the most popular class label\n",
    "\n",
    "@author: pbharrin\n",
    "'''\n",
    "from numpy import *\n",
    "import operator\n",
    "from os import listdir\n",
    "\n",
    "def classify0(inX, dataSet, labels, k):\n",
    "    dataSetSize = dataSet.shape[0]\n",
    "    diffMat = tile(inX, (dataSetSize,1)) - dataSet\n",
    "    sqDiffMat = diffMat**2\n",
    "    sqDistances = sqDiffMat.sum(axis=1)\n",
    "    distances = sqDistances**0.5\n",
    "    sortedDistIndicies = distances.argsort()     \n",
    "    classCount={}          \n",
    "    for i in range(k):\n",
    "        voteIlabel = labels[sortedDistIndicies[i]]\n",
    "        classCount[voteIlabel] = classCount.get(voteIlabel,0) + 1\n",
    "    sortedClassCount = sorted(classCount.items(), key=operator.itemgetter(1), reverse=True)\n",
    "    return sortedClassCount[0][0]\n",
    "\n",
    "def createDataSet():\n",
    "    group = array([[1.0,1.1],[1.0,1.0],[0,0],[0,0.1]])\n",
    "    labels = ['A','A','B','B']\n",
    "    return group, labels\n",
    "\n",
    "def file2matrix(filename):\n",
    "    fr = open(filename)\n",
    "    numberOfLines = len(fr.readlines())         #get the number of lines in the file\n",
    "    returnMat = zeros((numberOfLines,3))        #prepare matrix to return\n",
    "    classLabelVector = []                       #prepare labels return   \n",
    " #   fr = open(filename)\n",
    "    index = 0\n",
    "    for line in fr.readlines():\n",
    "        line = line.strip()\n",
    "        listFromLine = line.split('\\t')\n",
    "        returnMat[index,:] = listFromLine[0:3]\n",
    "        classLabelVector.append(int(listFromLine[-1]))\n",
    "        index += 1\n",
    "    return returnMat,classLabelVector\n",
    "    \n",
    "def autoNorm(dataSet):\n",
    "    minVals = dataSet.min(0)\n",
    "    maxVals = dataSet.max(0)\n",
    "    ranges = maxVals - minVals\n",
    "    normDataSet = zeros(shape(dataSet))\n",
    "    m = dataSet.shape[0]\n",
    "    normDataSet = dataSet - tile(minVals, (m,1))\n",
    "    normDataSet = normDataSet/tile(ranges, (m,1))   #element wise divide\n",
    "    return normDataSet, ranges, minVals\n",
    "   \n",
    "def datingClassTest():\n",
    "    hoRatio = 0.50      #hold out 10%\n",
    "    datingDataMat,datingLabels = file2matrix('datingTestSet2.txt')       #load data setfrom file\n",
    "    normMat, ranges, minVals = autoNorm(datingDataMat)\n",
    "    m = normMat.shape[0]\n",
    "    numTestVecs = int(m*hoRatio)\n",
    "    errorCount = 0.0\n",
    "    for i in range(numTestVecs):\n",
    "        classifierResult = classify0(normMat[i,:],normMat[numTestVecs:m,:],datingLabels[numTestVecs:m],3)\n",
    "        print (\"the classifier came back with: %d, the real answer is: %d\" % (classifierResult, datingLabels[i]))\n",
    "        if (classifierResult != datingLabels[i]): errorCount += 1.0\n",
    "    print (\"the total error rate is: %f\" % (errorCount/float(numTestVecs)))\n",
    "    print (errorCount)\n",
    "    \n",
    "def img2vector(filename):\n",
    "    returnVect = zeros((1,1024))\n",
    "    fr = open(filename)\n",
    "    for i in range(32):\n",
    "        lineStr = fr.readline()\n",
    "        for j in range(32):\n",
    "            returnVect[0,32*i+j] = int(lineStr[j])\n",
    "    return returnVect\n",
    "\n",
    "def handwritingClassTest():\n",
    "    hwLabels = []\n",
    "    trainingFileList = listdir('trainingDigits')           #load the training set\n",
    "    m = len(trainingFileList)\n",
    "    trainingMat = zeros((m,1024))\n",
    "    for i in range(m):\n",
    "        fileNameStr = trainingFileList[i]\n",
    "        fileStr = fileNameStr.split('.')[0]     #take off .txt\n",
    "        classNumStr = int(fileStr.split('_')[0])\n",
    "        hwLabels.append(classNumStr)\n",
    "        trainingMat[i,:] = img2vector('trainingDigits/%s' % fileNameStr)\n",
    "    testFileList = listdir('testDigits')        #iterate through the test set\n",
    "    errorCount = 0.0\n",
    "    mTest = len(testFileList)\n",
    "    for i in range(mTest):\n",
    "        fileNameStr = testFileList[i]\n",
    "        fileStr = fileNameStr.split('.')[0]     #take off .txt\n",
    "        classNumStr = int(fileStr.split('_')[0])\n",
    "        vectorUnderTest = img2vector('testDigits/%s' % fileNameStr)\n",
    "        classifierResult = classify0(vectorUnderTest, trainingMat, hwLabels, 3)\n",
    "        print(\"the classifier came back with: %d, the real answer is: %d\" % (classifierResult, classNumStr))\n",
    "        if (classifierResult != classNumStr): errorCount += 1.0\n",
    "    print( \"\\nthe total number of errors is: %d\" % errorCount)\n",
    "    print (\"\\nthe total error rate is: %f\" % (errorCount/float(mTest)))"
   ]
  },
  {
   "cell_type": "code",
   "execution_count": 11,
   "metadata": {},
   "outputs": [
    {
     "name": "stdout",
     "output_type": "stream",
     "text": [
      "[[1.  1.1]\n",
      " [1.  1. ]\n",
      " [0.  0. ]\n",
      " [0.  0.1]]\n",
      "['A', 'A', 'B', 'B']\n",
      "B\n"
     ]
    }
   ],
   "source": [
    "group,labels=createDataSet()\n",
    "print(group)\n",
    "print(labels)\n",
    "xx=[0.3,0.2]\n",
    "kk=3\n",
    "cc=classify0(xx, group, labels, kk)\n",
    "print(cc)"
   ]
  },
  {
   "cell_type": "code",
   "execution_count": 14,
   "metadata": {},
   "outputs": [],
   "source": [
    "aa,bb=file2matrix(\"datingTestSet.txt\")"
   ]
  },
  {
   "cell_type": "code",
   "execution_count": 15,
   "metadata": {},
   "outputs": [
    {
     "name": "stdout",
     "output_type": "stream",
     "text": [
      "[[0. 0. 0.]\n",
      " [0. 0. 0.]\n",
      " [0. 0. 0.]\n",
      " ...\n",
      " [0. 0. 0.]\n",
      " [0. 0. 0.]\n",
      " [0. 0. 0.]]\n"
     ]
    }
   ],
   "source": [
    "print(aa)"
   ]
  },
  {
   "cell_type": "code",
   "execution_count": 16,
   "metadata": {},
   "outputs": [
    {
     "name": "stdout",
     "output_type": "stream",
     "text": [
      "[]\n"
     ]
    }
   ],
   "source": [
    "print(bb)"
   ]
  },
  {
   "cell_type": "code",
   "execution_count": null,
   "metadata": {},
   "outputs": [],
   "source": []
  }
 ],
 "metadata": {
  "kernelspec": {
   "display_name": "Python 3",
   "language": "python",
   "name": "python3"
  },
  "language_info": {
   "codemirror_mode": {
    "name": "ipython",
    "version": 3
   },
   "file_extension": ".py",
   "mimetype": "text/x-python",
   "name": "python",
   "nbconvert_exporter": "python",
   "pygments_lexer": "ipython3",
   "version": "3.7.3"
  }
 },
 "nbformat": 4,
 "nbformat_minor": 2
}
