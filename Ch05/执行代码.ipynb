{
 "cells": [
  {
   "cell_type": "code",
   "execution_count": 4,
   "metadata": {},
   "outputs": [],
   "source": [
    "%run logRegres.py"
   ]
  },
  {
   "cell_type": "code",
   "execution_count": 5,
   "metadata": {},
   "outputs": [
    {
     "name": "stdout",
     "output_type": "stream",
     "text": [
      "the error rate of this test is: 0.343284\n",
      "the error rate of this test is: 0.268657\n",
      "the error rate of this test is: 0.298507\n",
      "the error rate of this test is: 0.447761\n",
      "the error rate of this test is: 0.313433\n",
      "the error rate of this test is: 0.388060\n",
      "the error rate of this test is: 0.343284\n",
      "the error rate of this test is: 0.343284\n",
      "the error rate of this test is: 0.343284\n",
      "the error rate of this test is: 0.402985\n",
      "after 10 iterations the average error rate is: 0.349254\n"
     ]
    }
   ],
   "source": [
    "multiTest()"
   ]
  },
  {
   "cell_type": "code",
   "execution_count": null,
   "metadata": {},
   "outputs": [],
   "source": []
  }
 ],
 "metadata": {
  "kernelspec": {
   "display_name": "Python 3",
   "language": "python",
   "name": "python3"
  },
  "language_info": {
   "codemirror_mode": {
    "name": "ipython",
    "version": 3
   },
   "file_extension": ".py",
   "mimetype": "text/x-python",
   "name": "python",
   "nbconvert_exporter": "python",
   "pygments_lexer": "ipython3",
   "version": "3.7.3"
  }
 },
 "nbformat": 4,
 "nbformat_minor": 2
}
