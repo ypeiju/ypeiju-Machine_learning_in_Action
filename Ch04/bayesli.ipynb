{
 "cells": [
  {
   "cell_type": "code",
   "execution_count": 138,
   "metadata": {},
   "outputs": [],
   "source": [
    "%run bayes.py"
   ]
  },
  {
   "cell_type": "code",
   "execution_count": 20,
   "metadata": {},
   "outputs": [],
   "source": [
    "listOPosts,listClasses=loadDataSet()"
   ]
  },
  {
   "cell_type": "code",
   "execution_count": 21,
   "metadata": {},
   "outputs": [],
   "source": [
    "myVocabList= createVocabList(listOPosts)"
   ]
  },
  {
   "cell_type": "code",
   "execution_count": 22,
   "metadata": {},
   "outputs": [
    {
     "data": {
      "text/plain": [
       "[0,\n",
       " 1,\n",
       " 0,\n",
       " 0,\n",
       " 0,\n",
       " 1,\n",
       " 0,\n",
       " 0,\n",
       " 0,\n",
       " 0,\n",
       " 0,\n",
       " 0,\n",
       " 0,\n",
       " 0,\n",
       " 0,\n",
       " 1,\n",
       " 0,\n",
       " 1,\n",
       " 0,\n",
       " 0,\n",
       " 0,\n",
       " 0,\n",
       " 0,\n",
       " 0,\n",
       " 0,\n",
       " 0,\n",
       " 0,\n",
       " 0,\n",
       " 0,\n",
       " 0,\n",
       " 0,\n",
       " 1]"
      ]
     },
     "execution_count": 22,
     "metadata": {},
     "output_type": "execute_result"
    }
   ],
   "source": [
    "setOfWords2Vec(myVocabList, listOPosts[3])"
   ]
  },
  {
   "cell_type": "code",
   "execution_count": 23,
   "metadata": {},
   "outputs": [
    {
     "name": "stdout",
     "output_type": "stream",
     "text": [
      "['love', 'my', 'dalmation'] classified as:  0\n",
      "['stupid', 'garbage'] classified as:  1\n"
     ]
    }
   ],
   "source": [
    "testingNB()"
   ]
  },
  {
   "cell_type": "code",
   "execution_count": 39,
   "metadata": {},
   "outputs": [],
   "source": [
    "mySent=\"This is the best books on Python or M.L. I have ever laid eyes upon.\""
   ]
  },
  {
   "cell_type": "code",
   "execution_count": 40,
   "metadata": {},
   "outputs": [
    {
     "data": {
      "text/plain": [
       "['This',\n",
       " 'is',\n",
       " 'the',\n",
       " 'best',\n",
       " 'books',\n",
       " 'on',\n",
       " 'Python',\n",
       " 'or',\n",
       " 'M.L.',\n",
       " 'I',\n",
       " 'have',\n",
       " 'ever',\n",
       " 'laid',\n",
       " 'eyes',\n",
       " 'upon.']"
      ]
     },
     "execution_count": 40,
     "metadata": {},
     "output_type": "execute_result"
    }
   ],
   "source": [
    "mySent.split()"
   ]
  },
  {
   "cell_type": "code",
   "execution_count": 102,
   "metadata": {},
   "outputs": [
    {
     "data": {
      "text/plain": [
       "['This',\n",
       " 'is',\n",
       " 'the',\n",
       " 'best',\n",
       " 'books',\n",
       " 'on',\n",
       " 'Python',\n",
       " 'or',\n",
       " 'M',\n",
       " 'L',\n",
       " 'I',\n",
       " 'have',\n",
       " 'ever',\n",
       " 'laid',\n",
       " 'eyes',\n",
       " 'upon',\n",
       " '']"
      ]
     },
     "execution_count": 102,
     "metadata": {},
     "output_type": "execute_result"
    }
   ],
   "source": [
    "import re\n",
    "mySent='This is the best books on Python or M.L. I have ever laid eyes upon.'\n",
    "regEx=re.compile('\\\\W+')\n",
    "listOfTokens=regEx.split(mySent)\n",
    "listOfTokens"
   ]
  },
  {
   "cell_type": "code",
   "execution_count": 76,
   "metadata": {},
   "outputs": [
    {
     "data": {
      "text/plain": [
       "'aaa bbb ccc;ddd   eee,fff'"
      ]
     },
     "execution_count": 76,
     "metadata": {},
     "output_type": "execute_result"
    }
   ],
   "source": [
    "import re\n",
    "line = 'aaa bbb ccc;ddd   eee,fff'\n",
    "line"
   ]
  },
  {
   "cell_type": "code",
   "execution_count": 77,
   "metadata": {},
   "outputs": [
    {
     "data": {
      "text/plain": [
       "['aaa bbb ccc', 'ddd   eee,fff']"
      ]
     },
     "execution_count": 77,
     "metadata": {},
     "output_type": "execute_result"
    }
   ],
   "source": [
    " re.split(r';',line)"
   ]
  },
  {
   "cell_type": "code",
   "execution_count": 78,
   "metadata": {},
   "outputs": [
    {
     "data": {
      "text/plain": [
       "['aaa bbb ccc', 'ddd   eee', 'fff']"
      ]
     },
     "execution_count": 78,
     "metadata": {},
     "output_type": "execute_result"
    }
   ],
   "source": [
    "re.split(r'[;,]',line)"
   ]
  },
  {
   "cell_type": "code",
   "execution_count": 79,
   "metadata": {},
   "outputs": [
    {
     "data": {
      "text/plain": [
       "['aaa', 'bbb', 'ccc', 'ddd', '', '', 'eee', 'fff']"
      ]
     },
     "execution_count": 79,
     "metadata": {},
     "output_type": "execute_result"
    }
   ],
   "source": [
    " re.split(r'[;,\\s]',line)"
   ]
  },
  {
   "cell_type": "code",
   "execution_count": 80,
   "metadata": {},
   "outputs": [
    {
     "data": {
      "text/plain": [
       "['aaa bbb ccc', ';', 'ddd   eee,fff']"
      ]
     },
     "execution_count": 80,
     "metadata": {},
     "output_type": "execute_result"
    }
   ],
   "source": [
    "re.split(r'([;])',line)"
   ]
  },
  {
   "cell_type": "code",
   "execution_count": 137,
   "metadata": {},
   "outputs": [],
   "source": [
    "i=23\n",
    "tt=open('email/ham/%d.txt' % i).read()"
   ]
  },
  {
   "cell_type": "code",
   "execution_count": 133,
   "metadata": {},
   "outputs": [],
   "source": [
    "wordList = textParse(tt)"
   ]
  },
  {
   "cell_type": "code",
   "execution_count": 134,
   "metadata": {},
   "outputs": [
    {
     "data": {
      "text/plain": [
       "['that',\n",
       " 'cold',\n",
       " 'there',\n",
       " 'going',\n",
       " 'retirement',\n",
       " 'party',\n",
       " 'are',\n",
       " 'the',\n",
       " 'leaves',\n",
       " 'changing',\n",
       " 'color']"
      ]
     },
     "execution_count": 134,
     "metadata": {},
     "output_type": "execute_result"
    }
   ],
   "source": [
    "wordList"
   ]
  },
  {
   "cell_type": "code",
   "execution_count": 135,
   "metadata": {},
   "outputs": [
    {
     "data": {
      "text/plain": [
       "'That is cold.  Is there going to be a retirement party?  \\nAre the leaves changing color?'"
      ]
     },
     "execution_count": 135,
     "metadata": {},
     "output_type": "execute_result"
    }
   ],
   "source": [
    "tt"
   ]
  },
  {
   "cell_type": "code",
   "execution_count": 139,
   "metadata": {},
   "outputs": [
    {
     "name": "stdout",
     "output_type": "stream",
     "text": [
      "1\n",
      "2\n",
      "3\n",
      "4\n",
      "5\n",
      "6\n",
      "7\n",
      "8\n",
      "9\n",
      "10\n",
      "11\n",
      "12\n",
      "13\n",
      "14\n",
      "15\n",
      "16\n",
      "17\n",
      "18\n",
      "19\n",
      "20\n",
      "21\n",
      "22\n",
      "23\n",
      "24\n",
      "25\n"
     ]
    },
    {
     "ename": "TypeError",
     "evalue": "'range' object doesn't support item deletion",
     "output_type": "error",
     "traceback": [
      "\u001b[1;31m---------------------------------------------------------------------------\u001b[0m",
      "\u001b[1;31mTypeError\u001b[0m                                 Traceback (most recent call last)",
      "\u001b[1;32m<ipython-input-139-b80a62153a4e>\u001b[0m in \u001b[0;36m<module>\u001b[1;34m\u001b[0m\n\u001b[1;32m----> 1\u001b[1;33m \u001b[0mspamTest\u001b[0m\u001b[1;33m(\u001b[0m\u001b[1;33m)\u001b[0m\u001b[1;33m\u001b[0m\u001b[1;33m\u001b[0m\u001b[0m\n\u001b[0m",
      "\u001b[1;32mE:\\Python\\jupyter\\machinelearninginaction\\Ch04\\bayes.py\u001b[0m in \u001b[0;36mspamTest\u001b[1;34m()\u001b[0m\n\u001b[0;32m     98\u001b[0m         \u001b[0mrandIndex\u001b[0m \u001b[1;33m=\u001b[0m \u001b[0mint\u001b[0m\u001b[1;33m(\u001b[0m\u001b[0mrandom\u001b[0m\u001b[1;33m.\u001b[0m\u001b[0muniform\u001b[0m\u001b[1;33m(\u001b[0m\u001b[1;36m0\u001b[0m\u001b[1;33m,\u001b[0m\u001b[0mlen\u001b[0m\u001b[1;33m(\u001b[0m\u001b[0mtrainingSet\u001b[0m\u001b[1;33m)\u001b[0m\u001b[1;33m)\u001b[0m\u001b[1;33m)\u001b[0m\u001b[1;33m\u001b[0m\u001b[1;33m\u001b[0m\u001b[0m\n\u001b[0;32m     99\u001b[0m         \u001b[0mtestSet\u001b[0m\u001b[1;33m.\u001b[0m\u001b[0mappend\u001b[0m\u001b[1;33m(\u001b[0m\u001b[0mtrainingSet\u001b[0m\u001b[1;33m[\u001b[0m\u001b[0mrandIndex\u001b[0m\u001b[1;33m]\u001b[0m\u001b[1;33m)\u001b[0m\u001b[1;33m\u001b[0m\u001b[1;33m\u001b[0m\u001b[0m\n\u001b[1;32m--> 100\u001b[1;33m         \u001b[1;32mdel\u001b[0m\u001b[1;33m(\u001b[0m\u001b[0mtrainingSet\u001b[0m\u001b[1;33m[\u001b[0m\u001b[0mrandIndex\u001b[0m\u001b[1;33m]\u001b[0m\u001b[1;33m)\u001b[0m\u001b[1;33m\u001b[0m\u001b[1;33m\u001b[0m\u001b[0m\n\u001b[0m\u001b[0;32m    101\u001b[0m     \u001b[0mtrainMat\u001b[0m\u001b[1;33m=\u001b[0m\u001b[1;33m[\u001b[0m\u001b[1;33m]\u001b[0m\u001b[1;33m;\u001b[0m \u001b[0mtrainClasses\u001b[0m \u001b[1;33m=\u001b[0m \u001b[1;33m[\u001b[0m\u001b[1;33m]\u001b[0m\u001b[1;33m\u001b[0m\u001b[1;33m\u001b[0m\u001b[0m\n\u001b[0;32m    102\u001b[0m     \u001b[1;32mfor\u001b[0m \u001b[0mdocIndex\u001b[0m \u001b[1;32min\u001b[0m \u001b[0mtrainingSet\u001b[0m\u001b[1;33m:\u001b[0m\u001b[1;31m#train the classifier (get probs) trainNB0\u001b[0m\u001b[1;33m\u001b[0m\u001b[1;33m\u001b[0m\u001b[0m\n",
      "\u001b[1;31mTypeError\u001b[0m: 'range' object doesn't support item deletion"
     ]
    }
   ],
   "source": [
    "spamTest()"
   ]
  },
  {
   "cell_type": "code",
   "execution_count": 140,
   "metadata": {},
   "outputs": [],
   "source": [
    "trainingSet = range(50)"
   ]
  },
  {
   "cell_type": "code",
   "execution_count": 141,
   "metadata": {},
   "outputs": [
    {
     "data": {
      "text/plain": [
       "range(0, 50)"
      ]
     },
     "execution_count": 141,
     "metadata": {},
     "output_type": "execute_result"
    }
   ],
   "source": [
    "trainingSet"
   ]
  },
  {
   "cell_type": "code",
   "execution_count": 90,
   "metadata": {},
   "outputs": [
    {
     "data": {
      "text/plain": [
       "['a', 'b', '', '', 'c']"
      ]
     },
     "execution_count": 90,
     "metadata": {},
     "output_type": "execute_result"
    }
   ],
   "source": [
    "'a b   c'.split(' ')      "
   ]
  },
  {
   "cell_type": "code",
   "execution_count": 91,
   "metadata": {},
   "outputs": [
    {
     "data": {
      "text/plain": [
       "['a', 'b', 'c']"
      ]
     },
     "execution_count": 91,
     "metadata": {},
     "output_type": "execute_result"
    }
   ],
   "source": [
    " re.split(r'\\s+', 'a b   c')"
   ]
  },
  {
   "cell_type": "code",
   "execution_count": 92,
   "metadata": {},
   "outputs": [
    {
     "data": {
      "text/plain": [
       "['a', 'b', 'c']"
      ]
     },
     "execution_count": 92,
     "metadata": {},
     "output_type": "execute_result"
    }
   ],
   "source": [
    " re.split(r'\\s+', 'a b      c')"
   ]
  },
  {
   "cell_type": "code",
   "execution_count": 94,
   "metadata": {},
   "outputs": [
    {
     "data": {
      "text/plain": [
       "['a', 'b', 'c', 'd']"
      ]
     },
     "execution_count": 94,
     "metadata": {},
     "output_type": "execute_result"
    }
   ],
   "source": [
    " re.split(r'[\\s\\,]+', 'a,,b, c    d')"
   ]
  },
  {
   "cell_type": "code",
   "execution_count": 95,
   "metadata": {},
   "outputs": [
    {
     "data": {
      "text/plain": [
       "['Words', 'words', 'words', '']"
      ]
     },
     "execution_count": 95,
     "metadata": {},
     "output_type": "execute_result"
    }
   ],
   "source": [
    "re.split('\\W+', 'Words, words, words.') "
   ]
  },
  {
   "cell_type": "code",
   "execution_count": 96,
   "metadata": {},
   "outputs": [
    {
     "data": {
      "text/plain": [
       "['Words', ', ', 'words', ', ', 'words', '.', '']"
      ]
     },
     "execution_count": 96,
     "metadata": {},
     "output_type": "execute_result"
    }
   ],
   "source": [
    "re.split('(\\W+)', 'Words, words, words.') "
   ]
  },
  {
   "cell_type": "code",
   "execution_count": 3,
   "metadata": {},
   "outputs": [],
   "source": [
    "%run bayes.py"
   ]
  },
  {
   "cell_type": "code",
   "execution_count": 4,
   "metadata": {},
   "outputs": [
    {
     "name": "stdout",
     "output_type": "stream",
     "text": [
      "1\n",
      "2\n",
      "3\n",
      "4\n",
      "5\n",
      "6\n",
      "7\n",
      "8\n",
      "9\n",
      "10\n",
      "11\n",
      "12\n",
      "13\n",
      "14\n",
      "15\n",
      "16\n",
      "17\n",
      "18\n",
      "19\n",
      "20\n",
      "21\n",
      "22\n",
      "23\n",
      "24\n",
      "25\n",
      "classification error ['home', 'based', 'business', 'opportunity', 'knocking', 'your', 'door', 'don抰', 'rude', 'and', 'let', 'this', 'chance', 'you', 'can', 'earn', 'great', 'income', 'and', 'find', 'your', 'financial', 'life', 'transformed', 'learn', 'more', 'here', 'your', 'success', 'work', 'from', 'home', 'finder', 'experts']\n",
      "the error rate is:  0.1\n"
     ]
    }
   ],
   "source": [
    "spamTest()"
   ]
  },
  {
   "cell_type": "code",
   "execution_count": 7,
   "metadata": {},
   "outputs": [
    {
     "data": {
      "text/plain": [
       "['aa', 1, 'bb', None, 'bb', 2, {'dd': 3}]"
      ]
     },
     "execution_count": 7,
     "metadata": {},
     "output_type": "execute_result"
    }
   ],
   "source": [
    "lia = ['aa', 1, 'bb', None]\n",
    "lib = ['bb', 2, {'dd': 3}]\n",
    "lia.extend(lib) \n",
    "lia"
   ]
  },
  {
   "cell_type": "code",
   "execution_count": 8,
   "metadata": {},
   "outputs": [
    {
     "data": {
      "text/plain": [
       "['aa', 1, 'bb', None, 'bb', 2, {'dd': 3}]"
      ]
     },
     "execution_count": 8,
     "metadata": {},
     "output_type": "execute_result"
    }
   ],
   "source": [
    "lia"
   ]
  },
  {
   "cell_type": "code",
   "execution_count": 11,
   "metadata": {},
   "outputs": [
    {
     "data": {
      "text/plain": [
       "20"
      ]
     },
     "execution_count": 11,
     "metadata": {},
     "output_type": "execute_result"
    }
   ],
   "source": [
    "import feedparser\n",
    "ny=feedparser.parse('https://blog.csdn.net/qq_34243930/rss/list')\n",
    "len(ny['entries'])"
   ]
  },
  {
   "cell_type": "code",
   "execution_count": 12,
   "metadata": {},
   "outputs": [
    {
     "data": {
      "text/plain": [
       "[{'title': '[原]python之位运算符(&amp;按位与)(|按位或)(^按位异或)(~按位取反)(＜＜左移)(＞＞右移) #关于取反运算符的详细说明',\n",
       "  'title_detail': {'type': 'text/html',\n",
       "   'language': None,\n",
       "   'base': 'https://blog.csdn.net/qq_34243930/rss/list',\n",
       "   'value': '[原]python之位运算符(&amp;按位与)(|按位或)(^按位异或)(~按位取反)(＜＜左移)(＞＞右移) #关于取反运算符的详细说明'},\n",
       "  'links': [{'rel': 'alternate',\n",
       "    'type': 'text/html',\n",
       "    'href': 'https://blog.csdn.net/qq_34243930/article/details/108847757'}],\n",
       "  'link': 'https://blog.csdn.net/qq_34243930/article/details/108847757',\n",
       "  'id': 'https://blog.csdn.net/qq_34243930/article/details/108847757',\n",
       "  'guidislink': False,\n",
       "  'authors': [{'name': 'qq_34243930'}],\n",
       "  'author': 'qq_34243930',\n",
       "  'author_detail': {'name': 'qq_34243930'},\n",
       "  'published': '2020/09/28 13:13:41',\n",
       "  'published_parsed': time.struct_time(tm_year=2020, tm_mon=10, tm_mday=1, tm_hour=0, tm_min=0, tm_sec=0, tm_wday=3, tm_yday=275, tm_isdst=0),\n",
       "  'summary': '文章目录一、先了解python里十进制转各个进制的写法：二、python位运算符三、关于取反运算符的说明\\n一、先了解python里十进制转各个进制的写法：\\n十进制转二进制：bin(10) ，输出：0b1010是字符串类型， 0b：表示2进制\\n十进制转八进制：oct(10) ，输出：0o12是字符串类型， 0o：表示8进制\\n十进制转十六进制：hex(10) ，输出：0xa是字符串类型， 0x：表示16进制\\n二、python位运算符\\n\\n\\n\\n\\n运算符\\n描述\\n实例\\n\\n\\n\\n\\n&amp;\\n按位与，两个相应位都为1,则该                    <div>\\n                        作者：qq_34243930 发表于 2020/09/28 13:13:41 <a href=\"https://blog.csdn.net/qq_34243930/article/details/108847757\">原文链接</a> https://blog.csdn.net/qq_34243930/article/details/108847757                    </div>\\n                    <div>\\n                        阅读：76                     </div>',\n",
       "  'summary_detail': {'type': 'text/html',\n",
       "   'language': None,\n",
       "   'base': 'https://blog.csdn.net/qq_34243930/rss/list',\n",
       "   'value': '文章目录一、先了解python里十进制转各个进制的写法：二、python位运算符三、关于取反运算符的说明\\n一、先了解python里十进制转各个进制的写法：\\n十进制转二进制：bin(10) ，输出：0b1010是字符串类型， 0b：表示2进制\\n十进制转八进制：oct(10) ，输出：0o12是字符串类型， 0o：表示8进制\\n十进制转十六进制：hex(10) ，输出：0xa是字符串类型， 0x：表示16进制\\n二、python位运算符\\n\\n\\n\\n\\n运算符\\n描述\\n实例\\n\\n\\n\\n\\n&amp;\\n按位与，两个相应位都为1,则该                    <div>\\n                        作者：qq_34243930 发表于 2020/09/28 13:13:41 <a href=\"https://blog.csdn.net/qq_34243930/article/details/108847757\">原文链接</a> https://blog.csdn.net/qq_34243930/article/details/108847757                    </div>\\n                    <div>\\n                        阅读：76                     </div>'},\n",
       "  'tags': []},\n",
       " {'title': '[原]python正负无穷float(“inf“)、float(“-inf“)的用法',\n",
       "  'title_detail': {'type': 'text/plain',\n",
       "   'language': None,\n",
       "   'base': 'https://blog.csdn.net/qq_34243930/rss/list',\n",
       "   'value': '[原]python正负无穷float(“inf“)、float(“-inf“)的用法'},\n",
       "  'links': [{'rel': 'alternate',\n",
       "    'type': 'text/html',\n",
       "    'href': 'https://blog.csdn.net/qq_34243930/article/details/108818664'}],\n",
       "  'link': 'https://blog.csdn.net/qq_34243930/article/details/108818664',\n",
       "  'id': 'https://blog.csdn.net/qq_34243930/article/details/108818664',\n",
       "  'guidislink': False,\n",
       "  'authors': [{'name': 'qq_34243930'}],\n",
       "  'author': 'qq_34243930',\n",
       "  'author_detail': {'name': 'qq_34243930'},\n",
       "  'published': '2020/09/26 22:43:08',\n",
       "  'published_parsed': time.struct_time(tm_year=2020, tm_mon=10, tm_mday=1, tm_hour=0, tm_min=0, tm_sec=0, tm_wday=3, tm_yday=275, tm_isdst=0),\n",
       "  'summary': '一、python里如何表示正负无穷\\n\\n正无穷：float(\\'inf\\')\\n负无穷：float(\\'-inf\\')\\n\\n二、用inf做简单加、乘算术运算会得到inf\\n  print(1 + float(\\'inf\\'))\\n  #inf\\n  print(2 * float(\\'inf\\'))\\n  #inf\\n\\n三、除了inf外的其他数除以inf，会得到0\\n\\n999/float(\\'inf\\')结果为：0.0\\n999/float(\\'-inf\\')结果为：-0.0\\n\\n四、nan代表Not A Number（不是一个数），它并不等于0\\n\\nf                    <div>\\n                        作者：qq_34243930 发表于 2020/09/26 22:43:08 <a href=\"https://blog.csdn.net/qq_34243930/article/details/108818664\">原文链接</a> https://blog.csdn.net/qq_34243930/article/details/108818664                    </div>\\n                    <div>\\n                        阅读：35                     </div>',\n",
       "  'summary_detail': {'type': 'text/html',\n",
       "   'language': None,\n",
       "   'base': 'https://blog.csdn.net/qq_34243930/rss/list',\n",
       "   'value': '一、python里如何表示正负无穷\\n\\n正无穷：float(\\'inf\\')\\n负无穷：float(\\'-inf\\')\\n\\n二、用inf做简单加、乘算术运算会得到inf\\n  print(1 + float(\\'inf\\'))\\n  #inf\\n  print(2 * float(\\'inf\\'))\\n  #inf\\n\\n三、除了inf外的其他数除以inf，会得到0\\n\\n999/float(\\'inf\\')结果为：0.0\\n999/float(\\'-inf\\')结果为：-0.0\\n\\n四、nan代表Not A Number（不是一个数），它并不等于0\\n\\nf                    <div>\\n                        作者：qq_34243930 发表于 2020/09/26 22:43:08 <a href=\"https://blog.csdn.net/qq_34243930/article/details/108818664\">原文链接</a> https://blog.csdn.net/qq_34243930/article/details/108818664                    </div>\\n                    <div>\\n                        阅读：35                     </div>'},\n",
       "  'tags': []},\n",
       " {'title': '[原]python之字符串(str)和列表(list)的相互转换——`list(str)`，`str.split()`，`str.join()`',\n",
       "  'title_detail': {'type': 'text/plain',\n",
       "   'language': None,\n",
       "   'base': 'https://blog.csdn.net/qq_34243930/rss/list',\n",
       "   'value': '[原]python之字符串(str)和列表(list)的相互转换——`list(str)`，`str.split()`，`str.join()`'},\n",
       "  'links': [{'rel': 'alternate',\n",
       "    'type': 'text/html',\n",
       "    'href': 'https://blog.csdn.net/qq_34243930/article/details/108707744'}],\n",
       "  'link': 'https://blog.csdn.net/qq_34243930/article/details/108707744',\n",
       "  'id': 'https://blog.csdn.net/qq_34243930/article/details/108707744',\n",
       "  'guidislink': False,\n",
       "  'authors': [{'name': 'qq_34243930'}],\n",
       "  'author': 'qq_34243930',\n",
       "  'author_detail': {'name': 'qq_34243930'},\n",
       "  'published': '2020/09/21 14:32:51',\n",
       "  'published_parsed': time.struct_time(tm_year=2020, tm_mon=10, tm_mday=1, tm_hour=0, tm_min=0, tm_sec=0, tm_wday=3, tm_yday=275, tm_isdst=0),\n",
       "  'summary': '在leetcode上做了一个题目涉及到字符串(str)和列表(list)的转换，在此来总结一下\\n文章目录一、字符串(str) &gt;&gt;&gt; 列表(list)1. 直接`list(str)`分解字符串2. 使用`str.split()`通过指定分隔符对字符串进行切片——输出的是一个列表list二、列表(list)&gt;&gt;&gt; 字符串(str)1. 使用`str.join()`方法把单个字符串用另一个样式连接在一起\\n一、字符串(str) &gt;&gt;&gt; 列表(list)\\n1.                     <div>\\n                        作者：qq_34243930 发表于 2020/09/21 14:32:51 <a href=\"https://blog.csdn.net/qq_34243930/article/details/108707744\">原文链接</a> https://blog.csdn.net/qq_34243930/article/details/108707744                    </div>\\n                    <div>\\n                        阅读：27                     </div>',\n",
       "  'summary_detail': {'type': 'text/html',\n",
       "   'language': None,\n",
       "   'base': 'https://blog.csdn.net/qq_34243930/rss/list',\n",
       "   'value': '在leetcode上做了一个题目涉及到字符串(str)和列表(list)的转换，在此来总结一下\\n文章目录一、字符串(str) &gt;&gt;&gt; 列表(list)1. 直接`list(str)`分解字符串2. 使用`str.split()`通过指定分隔符对字符串进行切片——输出的是一个列表list二、列表(list)&gt;&gt;&gt; 字符串(str)1. 使用`str.join()`方法把单个字符串用另一个样式连接在一起\\n一、字符串(str) &gt;&gt;&gt; 列表(list)\\n1.                     <div>\\n                        作者：qq_34243930 发表于 2020/09/21 14:32:51 <a href=\"https://blog.csdn.net/qq_34243930/article/details/108707744\">原文链接</a> https://blog.csdn.net/qq_34243930/article/details/108707744                    </div>\\n                    <div>\\n                        阅读：27                     </div>'},\n",
       "  'tags': []},\n",
       " {'title': '[原]Linux--`.bashrc`文件的作用 #利用.bashrc进行个性化设置，例如设置命令别名',\n",
       "  'title_detail': {'type': 'text/plain',\n",
       "   'language': None,\n",
       "   'base': 'https://blog.csdn.net/qq_34243930/rss/list',\n",
       "   'value': '[原]Linux--`.bashrc`文件的作用 #利用.bashrc进行个性化设置，例如设置命令别名'},\n",
       "  'links': [{'rel': 'alternate',\n",
       "    'type': 'text/html',\n",
       "    'href': 'https://blog.csdn.net/qq_34243930/article/details/108654895'}],\n",
       "  'link': 'https://blog.csdn.net/qq_34243930/article/details/108654895',\n",
       "  'id': 'https://blog.csdn.net/qq_34243930/article/details/108654895',\n",
       "  'guidislink': False,\n",
       "  'authors': [{'name': 'qq_34243930'}],\n",
       "  'author': 'qq_34243930',\n",
       "  'author_detail': {'name': 'qq_34243930'},\n",
       "  'published': '2020/09/17 23:19:08',\n",
       "  'published_parsed': time.struct_time(tm_year=2020, tm_mon=10, tm_mday=1, tm_hour=0, tm_min=0, tm_sec=0, tm_wday=3, tm_yday=275, tm_isdst=0),\n",
       "  'summary': '文章目录一、`.bashrc`文件介绍二、利用`.bashrc`进行个性化设置\\n一、.bashrc文件介绍\\nLinux 系统中很多 shell，包括bash，sh，zsh，dash 和 korn 等，不管哪种 shell 都会有一个 .bashrc 的隐藏文件，它就相当于 shell 的配置文件。\\n在这里我们主要来探讨下用户主目录下的 .bashrc 文件/home/ml/.bashrc。\\n这里我的主目录是/home/ml/\\n\\n/home/ml/.bashrc：是 bash 的配置文件，保存个人的一些个性化                    <div>\\n                        作者：qq_34243930 发表于 2020/09/17 23:19:08 <a href=\"https://blog.csdn.net/qq_34243930/article/details/108654895\">原文链接</a> https://blog.csdn.net/qq_34243930/article/details/108654895                    </div>\\n                    <div>\\n                        阅读：53 评论：2 <a href=\"https://blog.csdn.net/qq_34243930/article/details/108654895#comments\" target=\"_blank\">查看评论</a>                    </div>',\n",
       "  'summary_detail': {'type': 'text/html',\n",
       "   'language': None,\n",
       "   'base': 'https://blog.csdn.net/qq_34243930/rss/list',\n",
       "   'value': '文章目录一、`.bashrc`文件介绍二、利用`.bashrc`进行个性化设置\\n一、.bashrc文件介绍\\nLinux 系统中很多 shell，包括bash，sh，zsh，dash 和 korn 等，不管哪种 shell 都会有一个 .bashrc 的隐藏文件，它就相当于 shell 的配置文件。\\n在这里我们主要来探讨下用户主目录下的 .bashrc 文件/home/ml/.bashrc。\\n这里我的主目录是/home/ml/\\n\\n/home/ml/.bashrc：是 bash 的配置文件，保存个人的一些个性化                    <div>\\n                        作者：qq_34243930 发表于 2020/09/17 23:19:08 <a href=\"https://blog.csdn.net/qq_34243930/article/details/108654895\">原文链接</a> https://blog.csdn.net/qq_34243930/article/details/108654895                    </div>\\n                    <div>\\n                        阅读：53 评论：2 <a href=\"https://blog.csdn.net/qq_34243930/article/details/108654895#comments\" target=\"_blank\">查看评论</a>                    </div>'},\n",
       "  'tags': []},\n",
       " {'title': '[原]python之list添加元素的方法append()、extend()和insert()',\n",
       "  'title_detail': {'type': 'text/plain',\n",
       "   'language': None,\n",
       "   'base': 'https://blog.csdn.net/qq_34243930/rss/list',\n",
       "   'value': '[原]python之list添加元素的方法append()、extend()和insert()'},\n",
       "  'links': [{'rel': 'alternate',\n",
       "    'type': 'text/html',\n",
       "    'href': 'https://blog.csdn.net/qq_34243930/article/details/108622570'}],\n",
       "  'link': 'https://blog.csdn.net/qq_34243930/article/details/108622570',\n",
       "  'id': 'https://blog.csdn.net/qq_34243930/article/details/108622570',\n",
       "  'guidislink': False,\n",
       "  'authors': [{'name': 'qq_34243930'}],\n",
       "  'author': 'qq_34243930',\n",
       "  'author_detail': {'name': 'qq_34243930'},\n",
       "  'published': '2020/09/16 15:22:48',\n",
       "  'published_parsed': time.struct_time(tm_year=2020, tm_mon=10, tm_mday=1, tm_hour=0, tm_min=0, tm_sec=0, tm_wday=3, tm_yday=275, tm_isdst=0),\n",
       "  'summary': '文章目录——都是浅拷贝list.append()在列表末尾添加新的对象list.extend()在列表末尾一次性追加另一个序列中的多个值（用新列表扩展原来的列表）list.insert()用于将指定对象插入列表的指定位置。\\n——都是浅拷贝\\nlist.append()在列表末尾添加新的对象\\n语法：\\nlist.append(obj)\\n\\nobj – 添加到列表末尾的对象。\\n该方法无返回值，但是会修改原来的列表。\\n\\na = [1, 2, 3, 4, 5]\\na.append(6)\\nprint(a)\\n#输出\\n#[1,                     <div>\\n                        作者：qq_34243930 发表于 2020/09/16 15:22:48 <a href=\"https://blog.csdn.net/qq_34243930/article/details/108622570\">原文链接</a> https://blog.csdn.net/qq_34243930/article/details/108622570                    </div>\\n                    <div>\\n                        阅读：37                     </div>',\n",
       "  'summary_detail': {'type': 'text/html',\n",
       "   'language': None,\n",
       "   'base': 'https://blog.csdn.net/qq_34243930/rss/list',\n",
       "   'value': '文章目录——都是浅拷贝list.append()在列表末尾添加新的对象list.extend()在列表末尾一次性追加另一个序列中的多个值（用新列表扩展原来的列表）list.insert()用于将指定对象插入列表的指定位置。\\n——都是浅拷贝\\nlist.append()在列表末尾添加新的对象\\n语法：\\nlist.append(obj)\\n\\nobj – 添加到列表末尾的对象。\\n该方法无返回值，但是会修改原来的列表。\\n\\na = [1, 2, 3, 4, 5]\\na.append(6)\\nprint(a)\\n#输出\\n#[1,                     <div>\\n                        作者：qq_34243930 发表于 2020/09/16 15:22:48 <a href=\"https://blog.csdn.net/qq_34243930/article/details/108622570\">原文链接</a> https://blog.csdn.net/qq_34243930/article/details/108622570                    </div>\\n                    <div>\\n                        阅读：37                     </div>'},\n",
       "  'tags': []},\n",
       " {'title': '[原]python之*（单星号）和**(双星号）',\n",
       "  'title_detail': {'type': 'text/plain',\n",
       "   'language': None,\n",
       "   'base': 'https://blog.csdn.net/qq_34243930/rss/list',\n",
       "   'value': '[原]python之*（单星号）和**(双星号）'},\n",
       "  'links': [{'rel': 'alternate',\n",
       "    'type': 'text/html',\n",
       "    'href': 'https://blog.csdn.net/qq_34243930/article/details/108524225'}],\n",
       "  'link': 'https://blog.csdn.net/qq_34243930/article/details/108524225',\n",
       "  'id': 'https://blog.csdn.net/qq_34243930/article/details/108524225',\n",
       "  'guidislink': False,\n",
       "  'authors': [{'name': 'qq_34243930'}],\n",
       "  'author': 'qq_34243930',\n",
       "  'author_detail': {'name': 'qq_34243930'},\n",
       "  'published': '2020/09/10 23:28:02',\n",
       "  'published_parsed': time.struct_time(tm_year=2020, tm_mon=10, tm_mday=1, tm_hour=0, tm_min=0, tm_sec=0, tm_wday=3, tm_yday=275, tm_isdst=0),\n",
       "  'summary': '文章目录1. 运算2. 收集列表中多余的值3. 解包——用在变量前面4. 在函数定义中使用，收集参数。【`*`代表收集参数，`**`代表收集关键字参数】4.1. 一个`*`的情况4.2. 两个`**`的情况\\n星号在python中分为单星号和双星号：分别可以用在运算、收集列表中多余的值、解包（用在变量前面）以及传递参数这几个方面。\\n1. 运算\\n一个 * ：乘法\\n两个 **： 乘幂\\n2. 收集列表中多余的值\\n只用于列表。\\na,b,*c=[1,2,3,4]\\nprint(c)\\n#输出\\n#[3, 4]\\n\\n3. 解包—                    <div>\\n                        作者：qq_34243930 发表于 2020/09/10 23:28:02 <a href=\"https://blog.csdn.net/qq_34243930/article/details/108524225\">原文链接</a> https://blog.csdn.net/qq_34243930/article/details/108524225                    </div>\\n                    <div>\\n                        阅读：45                     </div>',\n",
       "  'summary_detail': {'type': 'text/html',\n",
       "   'language': None,\n",
       "   'base': 'https://blog.csdn.net/qq_34243930/rss/list',\n",
       "   'value': '文章目录1. 运算2. 收集列表中多余的值3. 解包——用在变量前面4. 在函数定义中使用，收集参数。【`*`代表收集参数，`**`代表收集关键字参数】4.1. 一个`*`的情况4.2. 两个`**`的情况\\n星号在python中分为单星号和双星号：分别可以用在运算、收集列表中多余的值、解包（用在变量前面）以及传递参数这几个方面。\\n1. 运算\\n一个 * ：乘法\\n两个 **： 乘幂\\n2. 收集列表中多余的值\\n只用于列表。\\na,b,*c=[1,2,3,4]\\nprint(c)\\n#输出\\n#[3, 4]\\n\\n3. 解包—                    <div>\\n                        作者：qq_34243930 发表于 2020/09/10 23:28:02 <a href=\"https://blog.csdn.net/qq_34243930/article/details/108524225\">原文链接</a> https://blog.csdn.net/qq_34243930/article/details/108524225                    </div>\\n                    <div>\\n                        阅读：45                     </div>'},\n",
       "  'tags': []},\n",
       " {'title': '[原]python实现矩阵转置的几种方法',\n",
       "  'title_detail': {'type': 'text/plain',\n",
       "   'language': None,\n",
       "   'base': 'https://blog.csdn.net/qq_34243930/rss/list',\n",
       "   'value': '[原]python实现矩阵转置的几种方法'},\n",
       "  'links': [{'rel': 'alternate',\n",
       "    'type': 'text/html',\n",
       "    'href': 'https://blog.csdn.net/qq_34243930/article/details/108524383'}],\n",
       "  'link': 'https://blog.csdn.net/qq_34243930/article/details/108524383',\n",
       "  'id': 'https://blog.csdn.net/qq_34243930/article/details/108524383',\n",
       "  'guidislink': False,\n",
       "  'authors': [{'name': 'qq_34243930'}],\n",
       "  'author': 'qq_34243930',\n",
       "  'author_detail': {'name': 'qq_34243930'},\n",
       "  'published': '2020/09/10 22:40:47',\n",
       "  'published_parsed': time.struct_time(tm_year=2020, tm_mon=10, tm_mday=1, tm_hour=0, tm_min=0, tm_sec=0, tm_wday=3, tm_yday=275, tm_isdst=0),\n",
       "  'summary': '文章目录（1）方法一、使用numpy转置（2）方法二、使用zip()函数（3）方法三、使用python列表表达式【不占用额外空间，“原地修改”】（4）方法四、新建列表B，使用双重循环添加元素\\n（1）方法一、使用numpy转置\\nimport numpy as np\\nA = np.mat([[1,2,3],[4,5,6],[7,8,9]])\\nprint(A.T)\\nprint(A.swapaxes(0, 1))\\n# 均输出\\n# [[1 4 7]\\n#  [2 5 8]\\n#  [3 6 9]]\\n\\nimport num                    <div>\\n                        作者：qq_34243930 发表于 2020/09/10 22:40:47 <a href=\"https://blog.csdn.net/qq_34243930/article/details/108524383\">原文链接</a> https://blog.csdn.net/qq_34243930/article/details/108524383                    </div>\\n                    <div>\\n                        阅读：149                     </div>',\n",
       "  'summary_detail': {'type': 'text/html',\n",
       "   'language': None,\n",
       "   'base': 'https://blog.csdn.net/qq_34243930/rss/list',\n",
       "   'value': '文章目录（1）方法一、使用numpy转置（2）方法二、使用zip()函数（3）方法三、使用python列表表达式【不占用额外空间，“原地修改”】（4）方法四、新建列表B，使用双重循环添加元素\\n（1）方法一、使用numpy转置\\nimport numpy as np\\nA = np.mat([[1,2,3],[4,5,6],[7,8,9]])\\nprint(A.T)\\nprint(A.swapaxes(0, 1))\\n# 均输出\\n# [[1 4 7]\\n#  [2 5 8]\\n#  [3 6 9]]\\n\\nimport num                    <div>\\n                        作者：qq_34243930 发表于 2020/09/10 22:40:47 <a href=\"https://blog.csdn.net/qq_34243930/article/details/108524383\">原文链接</a> https://blog.csdn.net/qq_34243930/article/details/108524383                    </div>\\n                    <div>\\n                        阅读：149                     </div>'},\n",
       "  'tags': []},\n",
       " {'title': '[原]Windows10系统内置的emoji表情',\n",
       "  'title_detail': {'type': 'text/plain',\n",
       "   'language': None,\n",
       "   'base': 'https://blog.csdn.net/qq_34243930/rss/list',\n",
       "   'value': '[原]Windows10系统内置的emoji表情'},\n",
       "  'links': [{'rel': 'alternate',\n",
       "    'type': 'text/html',\n",
       "    'href': 'https://blog.csdn.net/qq_34243930/article/details/108453968'}],\n",
       "  'link': 'https://blog.csdn.net/qq_34243930/article/details/108453968',\n",
       "  'id': 'https://blog.csdn.net/qq_34243930/article/details/108453968',\n",
       "  'guidislink': False,\n",
       "  'authors': [{'name': 'qq_34243930'}],\n",
       "  'author': 'qq_34243930',\n",
       "  'author_detail': {'name': 'qq_34243930'},\n",
       "  'published': '2020/09/07 19:10:26',\n",
       "  'published_parsed': time.struct_time(tm_year=2020, tm_mon=10, tm_mday=1, tm_hour=0, tm_min=0, tm_sec=0, tm_wday=3, tm_yday=275, tm_isdst=0),\n",
       "  'summary': 'Windows10系统也内置了emoji表情，我们可以在输入文字的时候，同时快速输入emoji表情来表达意思。\\n在Windows10系统，任意的界面打字状态下，同时按住【win】键 + 【;】就能唤起emoji表情符号面板。\\n\\n\\n...                    <div>\\n                        作者：qq_34243930 发表于 2020/09/07 19:10:26 <a href=\"https://blog.csdn.net/qq_34243930/article/details/108453968\">原文链接</a> https://blog.csdn.net/qq_34243930/article/details/108453968                    </div>\\n                    <div>\\n                        阅读：36                     </div>',\n",
       "  'summary_detail': {'type': 'text/html',\n",
       "   'language': None,\n",
       "   'base': 'https://blog.csdn.net/qq_34243930/rss/list',\n",
       "   'value': 'Windows10系统也内置了emoji表情，我们可以在输入文字的时候，同时快速输入emoji表情来表达意思。\\n在Windows10系统，任意的界面打字状态下，同时按住【win】键 + 【;】就能唤起emoji表情符号面板。\\n\\n\\n...                    <div>\\n                        作者：qq_34243930 发表于 2020/09/07 19:10:26 <a href=\"https://blog.csdn.net/qq_34243930/article/details/108453968\">原文链接</a> https://blog.csdn.net/qq_34243930/article/details/108453968                    </div>\\n                    <div>\\n                        阅读：36                     </div>'},\n",
       "  'tags': []},\n",
       " {'title': '[原]VSCode之图片路径自动展示识别,快速补全——一个小技巧（不是使用插件）',\n",
       "  'title_detail': {'type': 'text/plain',\n",
       "   'language': None,\n",
       "   'base': 'https://blog.csdn.net/qq_34243930/rss/list',\n",
       "   'value': '[原]VSCode之图片路径自动展示识别,快速补全——一个小技巧（不是使用插件）'},\n",
       "  'links': [{'rel': 'alternate',\n",
       "    'type': 'text/html',\n",
       "    'href': 'https://blog.csdn.net/qq_34243930/article/details/108442588'}],\n",
       "  'link': 'https://blog.csdn.net/qq_34243930/article/details/108442588',\n",
       "  'id': 'https://blog.csdn.net/qq_34243930/article/details/108442588',\n",
       "  'guidislink': False,\n",
       "  'authors': [{'name': 'qq_34243930'}],\n",
       "  'author': 'qq_34243930',\n",
       "  'author_detail': {'name': 'qq_34243930'},\n",
       "  'published': '2020/09/07 10:45:32',\n",
       "  'published_parsed': time.struct_time(tm_year=2020, tm_mon=10, tm_mday=1, tm_hour=0, tm_min=0, tm_sec=0, tm_wday=3, tm_yday=275, tm_isdst=0),\n",
       "  'summary': '文章目录一、用vscode打开当前markdown文件所在的文件夹二、导入一张图片\\n一、用vscode打开当前markdown文件所在的文件夹\\n\\n\\n二、导入一张图片\\n例如我要导入一张图片：\\n\\n\\n                    <div>\\n                        作者：qq_34243930 发表于 2020/09/07 10:45:32 <a href=\"https://blog.csdn.net/qq_34243930/article/details/108442588\">原文链接</a> https://blog.csdn.net/qq_34243930/article/details/108442588                    </div>\\n                    <div>\\n                        阅读：179                     </div>',\n",
       "  'summary_detail': {'type': 'text/html',\n",
       "   'language': None,\n",
       "   'base': 'https://blog.csdn.net/qq_34243930/rss/list',\n",
       "   'value': '文章目录一、用vscode打开当前markdown文件所在的文件夹二、导入一张图片\\n一、用vscode打开当前markdown文件所在的文件夹\\n\\n\\n二、导入一张图片\\n例如我要导入一张图片：\\n\\n\\n                    <div>\\n                        作者：qq_34243930 发表于 2020/09/07 10:45:32 <a href=\"https://blog.csdn.net/qq_34243930/article/details/108442588\">原文链接</a> https://blog.csdn.net/qq_34243930/article/details/108442588                    </div>\\n                    <div>\\n                        阅读：179                     </div>'},\n",
       "  'tags': []},\n",
       " {'title': '[原]python之reversed()函数 #列表逆序成一个新数组#区别于list.reverse()函数',\n",
       "  'title_detail': {'type': 'text/plain',\n",
       "   'language': None,\n",
       "   'base': 'https://blog.csdn.net/qq_34243930/rss/list',\n",
       "   'value': '[原]python之reversed()函数 #列表逆序成一个新数组#区别于list.reverse()函数'},\n",
       "  'links': [{'rel': 'alternate',\n",
       "    'type': 'text/html',\n",
       "    'href': 'https://blog.csdn.net/qq_34243930/article/details/107896827'}],\n",
       "  'link': 'https://blog.csdn.net/qq_34243930/article/details/107896827',\n",
       "  'id': 'https://blog.csdn.net/qq_34243930/article/details/107896827',\n",
       "  'guidislink': False,\n",
       "  'authors': [{'name': 'qq_34243930'}],\n",
       "  'author': 'qq_34243930',\n",
       "  'author_detail': {'name': 'qq_34243930'},\n",
       "  'published': '2020/08/09 17:22:28',\n",
       "  'published_parsed': time.struct_time(tm_year=2020, tm_mon=10, tm_mday=1, tm_hour=0, tm_min=0, tm_sec=0, tm_wday=3, tm_yday=275, tm_isdst=0),\n",
       "  'summary': 'python 中 reversed()函数\\nheight=[1,8,6,2,5,4,8,3,7]是一个列表\\nheight_reverse=reversed(height)是一个对象\\nprint(height_reverse)\\n输出：&lt;list_reverseiterator object at 0x00000132E63D34E0&gt;显示为一个迭代器对象的内存地址\\n转为列表：\\nheight_reverse=list(reversed(height))\\nprint(height_reverse)\\n\\n                    <div>\\n                        作者：qq_34243930 发表于 2020/08/09 17:22:28 <a href=\"https://blog.csdn.net/qq_34243930/article/details/107896827\">原文链接</a> https://blog.csdn.net/qq_34243930/article/details/107896827                    </div>\\n                    <div>\\n                        阅读：136                     </div>',\n",
       "  'summary_detail': {'type': 'text/html',\n",
       "   'language': None,\n",
       "   'base': 'https://blog.csdn.net/qq_34243930/rss/list',\n",
       "   'value': 'python 中 reversed()函数\\nheight=[1,8,6,2,5,4,8,3,7]是一个列表\\nheight_reverse=reversed(height)是一个对象\\nprint(height_reverse)\\n输出：&lt;list_reverseiterator object at 0x00000132E63D34E0&gt;显示为一个迭代器对象的内存地址\\n转为列表：\\nheight_reverse=list(reversed(height))\\nprint(height_reverse)\\n\\n                    <div>\\n                        作者：qq_34243930 发表于 2020/08/09 17:22:28 <a href=\"https://blog.csdn.net/qq_34243930/article/details/107896827\">原文链接</a> https://blog.csdn.net/qq_34243930/article/details/107896827                    </div>\\n                    <div>\\n                        阅读：136                     </div>'},\n",
       "  'tags': []},\n",
       " {'title': '[原]VSCode之Markdown导出PDF——使用插件Markdown PDF及css美化',\n",
       "  'title_detail': {'type': 'text/plain',\n",
       "   'language': None,\n",
       "   'base': 'https://blog.csdn.net/qq_34243930/rss/list',\n",
       "   'value': '[原]VSCode之Markdown导出PDF——使用插件Markdown PDF及css美化'},\n",
       "  'links': [{'rel': 'alternate',\n",
       "    'type': 'text/html',\n",
       "    'href': 'https://blog.csdn.net/qq_34243930/article/details/107815936'}],\n",
       "  'link': 'https://blog.csdn.net/qq_34243930/article/details/107815936',\n",
       "  'id': 'https://blog.csdn.net/qq_34243930/article/details/107815936',\n",
       "  'guidislink': False,\n",
       "  'authors': [{'name': 'qq_34243930'}],\n",
       "  'author': 'qq_34243930',\n",
       "  'author_detail': {'name': 'qq_34243930'},\n",
       "  'published': '2020/08/05 16:32:33',\n",
       "  'published_parsed': time.struct_time(tm_year=2020, tm_mon=10, tm_mday=1, tm_hour=0, tm_min=0, tm_sec=0, tm_wday=3, tm_yday=275, tm_isdst=0),\n",
       "  'summary': '文章目录一、安装插件Markdown PDF二、css美化\\n一、安装插件Markdown PDF\\n\\n安装就行。\\n右击选择Export(pdf)即可导出PDF\\n\\n默认格式样式：\\n二、css美化\\n先来看一下它使用说明里说的怎么修改样式：\\n找到markdown-pdf.styles这里\\n\\n\\n意思就是你要有一个css文件“markdown-pdf.css”\\n然后还要去用户设置里设置：\\n\"markdown-pdf.styles\": [\\n  \"markdown-pdf.css\",\\n],\\n\\n还说了如果用本地css文件怎么                    <div>\\n                        作者：qq_34243930 发表于 2020/08/05 16:32:33 <a href=\"https://blog.csdn.net/qq_34243930/article/details/107815936\">原文链接</a> https://blog.csdn.net/qq_34243930/article/details/107815936                    </div>\\n                    <div>\\n                        阅读：306                     </div>',\n",
       "  'summary_detail': {'type': 'text/html',\n",
       "   'language': None,\n",
       "   'base': 'https://blog.csdn.net/qq_34243930/rss/list',\n",
       "   'value': '文章目录一、安装插件Markdown PDF二、css美化\\n一、安装插件Markdown PDF\\n\\n安装就行。\\n右击选择Export(pdf)即可导出PDF\\n\\n默认格式样式：\\n二、css美化\\n先来看一下它使用说明里说的怎么修改样式：\\n找到markdown-pdf.styles这里\\n\\n\\n意思就是你要有一个css文件“markdown-pdf.css”\\n然后还要去用户设置里设置：\\n\"markdown-pdf.styles\": [\\n  \"markdown-pdf.css\",\\n],\\n\\n还说了如果用本地css文件怎么                    <div>\\n                        作者：qq_34243930 发表于 2020/08/05 16:32:33 <a href=\"https://blog.csdn.net/qq_34243930/article/details/107815936\">原文链接</a> https://blog.csdn.net/qq_34243930/article/details/107815936                    </div>\\n                    <div>\\n                        阅读：306                     </div>'},\n",
       "  'tags': []},\n",
       " {'title': '[原]Python+VSCode IDE 快速开发配置 #VSCode上配置Jupyter Notebook',\n",
       "  'title_detail': {'type': 'text/plain',\n",
       "   'language': None,\n",
       "   'base': 'https://blog.csdn.net/qq_34243930/rss/list',\n",
       "   'value': '[原]Python+VSCode IDE 快速开发配置 #VSCode上配置Jupyter Notebook'},\n",
       "  'links': [{'rel': 'alternate',\n",
       "    'type': 'text/html',\n",
       "    'href': 'https://blog.csdn.net/qq_34243930/article/details/107775059'}],\n",
       "  'link': 'https://blog.csdn.net/qq_34243930/article/details/107775059',\n",
       "  'id': 'https://blog.csdn.net/qq_34243930/article/details/107775059',\n",
       "  'guidislink': False,\n",
       "  'authors': [{'name': 'qq_34243930'}],\n",
       "  'author': 'qq_34243930',\n",
       "  'author_detail': {'name': 'qq_34243930'},\n",
       "  'published': '2020/08/04 16:04:30',\n",
       "  'published_parsed': time.struct_time(tm_year=2020, tm_mon=10, tm_mday=1, tm_hour=0, tm_min=0, tm_sec=0, tm_wday=3, tm_yday=275, tm_isdst=0),\n",
       "  'summary': '文章目录一、安装step1.安装Pythonstep2.安装VSCode（及配置中文环境）step3.在VSCode中安装python插件二、使用step1.在VSCode中选择python环境方法一、（简洁方便）方法二、打开用户设置step2.打开工作目录step3.新建文件step4.关于如何运行方法一、使用插件coderunner（报错Python was not found but can be installed解决）方法二、F5/Shift+F5运行+调试（要自定义运行和调试创建launch.j                    <div>\\n                        作者：qq_34243930 发表于 2020/08/04 16:04:30 <a href=\"https://blog.csdn.net/qq_34243930/article/details/107775059\">原文链接</a> https://blog.csdn.net/qq_34243930/article/details/107775059                    </div>\\n                    <div>\\n                        阅读：375 评论：3 <a href=\"https://blog.csdn.net/qq_34243930/article/details/107775059#comments\" target=\"_blank\">查看评论</a>                    </div>',\n",
       "  'summary_detail': {'type': 'text/html',\n",
       "   'language': None,\n",
       "   'base': 'https://blog.csdn.net/qq_34243930/rss/list',\n",
       "   'value': '文章目录一、安装step1.安装Pythonstep2.安装VSCode（及配置中文环境）step3.在VSCode中安装python插件二、使用step1.在VSCode中选择python环境方法一、（简洁方便）方法二、打开用户设置step2.打开工作目录step3.新建文件step4.关于如何运行方法一、使用插件coderunner（报错Python was not found but can be installed解决）方法二、F5/Shift+F5运行+调试（要自定义运行和调试创建launch.j                    <div>\\n                        作者：qq_34243930 发表于 2020/08/04 16:04:30 <a href=\"https://blog.csdn.net/qq_34243930/article/details/107775059\">原文链接</a> https://blog.csdn.net/qq_34243930/article/details/107775059                    </div>\\n                    <div>\\n                        阅读：375 评论：3 <a href=\"https://blog.csdn.net/qq_34243930/article/details/107775059#comments\" target=\"_blank\">查看评论</a>                    </div>'},\n",
       "  'tags': []},\n",
       " {'title': '[原]用markdown写博客的一些语法记录',\n",
       "  'title_detail': {'type': 'text/plain',\n",
       "   'language': None,\n",
       "   'base': 'https://blog.csdn.net/qq_34243930/rss/list',\n",
       "   'value': '[原]用markdown写博客的一些语法记录'},\n",
       "  'links': [{'rel': 'alternate',\n",
       "    'type': 'text/html',\n",
       "    'href': 'https://blog.csdn.net/qq_34243930/article/details/107764594'}],\n",
       "  'link': 'https://blog.csdn.net/qq_34243930/article/details/107764594',\n",
       "  'id': 'https://blog.csdn.net/qq_34243930/article/details/107764594',\n",
       "  'guidislink': False,\n",
       "  'authors': [{'name': 'qq_34243930'}],\n",
       "  'author': 'qq_34243930',\n",
       "  'author_detail': {'name': 'qq_34243930'},\n",
       "  'published': '2020/08/03 15:38:48',\n",
       "  'published_parsed': time.struct_time(tm_year=2020, tm_mon=10, tm_mday=1, tm_hour=0, tm_min=0, tm_sec=0, tm_wday=3, tm_yday=275, tm_isdst=0),\n",
       "  'summary': '这是一个汇总帖，是本人写博客（一般用VSCode写）过程中会用到的一些语法，会一直更新，也是方便自己查询【其实就是我自己记不住，敲敲脑袋】。\\n文章目录1. markdown中实现首行缩进2. markdown中高亮文字3. markdown中更改文字颜色4. markdown语法——插入图片\\n1. markdown中实现首行缩进\\n方法一：【注意分号不要漏，直接在分号后接着写文字】\\n半方大的空白&amp;ensp;或&amp;#8194;\\n全方大的空白&amp;emsp;或&amp;#8195;\\n方法二：\\nm                    <div>\\n                        作者：qq_34243930 发表于 2020/08/03 15:38:48 <a href=\"https://blog.csdn.net/qq_34243930/article/details/107764594\">原文链接</a> https://blog.csdn.net/qq_34243930/article/details/107764594                    </div>\\n                    <div>\\n                        阅读：82                     </div>',\n",
       "  'summary_detail': {'type': 'text/html',\n",
       "   'language': None,\n",
       "   'base': 'https://blog.csdn.net/qq_34243930/rss/list',\n",
       "   'value': '这是一个汇总帖，是本人写博客（一般用VSCode写）过程中会用到的一些语法，会一直更新，也是方便自己查询【其实就是我自己记不住，敲敲脑袋】。\\n文章目录1. markdown中实现首行缩进2. markdown中高亮文字3. markdown中更改文字颜色4. markdown语法——插入图片\\n1. markdown中实现首行缩进\\n方法一：【注意分号不要漏，直接在分号后接着写文字】\\n半方大的空白&amp;ensp;或&amp;#8194;\\n全方大的空白&amp;emsp;或&amp;#8195;\\n方法二：\\nm                    <div>\\n                        作者：qq_34243930 发表于 2020/08/03 15:38:48 <a href=\"https://blog.csdn.net/qq_34243930/article/details/107764594\">原文链接</a> https://blog.csdn.net/qq_34243930/article/details/107764594                    </div>\\n                    <div>\\n                        阅读：82                     </div>'},\n",
       "  'tags': []},\n",
       " {'title': '[原]EXCEL常用快捷键&amp;常用操作',\n",
       "  'title_detail': {'type': 'text/html',\n",
       "   'language': None,\n",
       "   'base': 'https://blog.csdn.net/qq_34243930/rss/list',\n",
       "   'value': '[原]EXCEL常用快捷键&amp;常用操作'},\n",
       "  'links': [{'rel': 'alternate',\n",
       "    'type': 'text/html',\n",
       "    'href': 'https://blog.csdn.net/qq_34243930/article/details/107616102'}],\n",
       "  'link': 'https://blog.csdn.net/qq_34243930/article/details/107616102',\n",
       "  'id': 'https://blog.csdn.net/qq_34243930/article/details/107616102',\n",
       "  'guidislink': False,\n",
       "  'authors': [{'name': 'qq_34243930'}],\n",
       "  'author': 'qq_34243930',\n",
       "  'author_detail': {'name': 'qq_34243930'},\n",
       "  'published': '2020/07/27 17:07:55',\n",
       "  'published_parsed': time.struct_time(tm_year=2020, tm_mon=10, tm_mday=1, tm_hour=0, tm_min=0, tm_sec=0, tm_wday=3, tm_yday=275, tm_isdst=0),\n",
       "  'summary': '待更新。。。\\nEXCEL常用快捷键\\n\\n\\n\\n\\n操作\\n快捷键\\n\\n\\n\\n\\n同一单元格内换行\\nAlt+Enter\\n\\n\\nEXCEL常用操作\\n\\n                    <div>\\n                        作者：qq_34243930 发表于 2020/07/27 17:07:55 <a href=\"https://blog.csdn.net/qq_34243930/article/details/107616102\">原文链接</a> https://blog.csdn.net/qq_34243930/article/details/107616102                    </div>\\n                    <div>\\n                        阅读：55                     </div>',\n",
       "  'summary_detail': {'type': 'text/html',\n",
       "   'language': None,\n",
       "   'base': 'https://blog.csdn.net/qq_34243930/rss/list',\n",
       "   'value': '待更新。。。\\nEXCEL常用快捷键\\n\\n\\n\\n\\n操作\\n快捷键\\n\\n\\n\\n\\n同一单元格内换行\\nAlt+Enter\\n\\n\\nEXCEL常用操作\\n\\n                    <div>\\n                        作者：qq_34243930 发表于 2020/07/27 17:07:55 <a href=\"https://blog.csdn.net/qq_34243930/article/details/107616102\">原文链接</a> https://blog.csdn.net/qq_34243930/article/details/107616102                    </div>\\n                    <div>\\n                        阅读：55                     </div>'},\n",
       "  'tags': []},\n",
       " {'title': '[原]Python Error fix-Import Error: no module named ‘past‘',\n",
       "  'title_detail': {'type': 'text/plain',\n",
       "   'language': None,\n",
       "   'base': 'https://blog.csdn.net/qq_34243930/rss/list',\n",
       "   'value': '[原]Python Error fix-Import Error: no module named ‘past‘'},\n",
       "  'links': [{'rel': 'alternate',\n",
       "    'type': 'text/html',\n",
       "    'href': 'https://blog.csdn.net/qq_34243930/article/details/107600383'}],\n",
       "  'link': 'https://blog.csdn.net/qq_34243930/article/details/107600383',\n",
       "  'id': 'https://blog.csdn.net/qq_34243930/article/details/107600383',\n",
       "  'guidislink': False,\n",
       "  'authors': [{'name': 'qq_34243930'}],\n",
       "  'author': 'qq_34243930',\n",
       "  'author_detail': {'name': 'qq_34243930'},\n",
       "  'published': '2020/07/26 21:49:29',\n",
       "  'published_parsed': time.struct_time(tm_year=2020, tm_mon=10, tm_mday=1, tm_hour=0, tm_min=0, tm_sec=0, tm_wday=3, tm_yday=275, tm_isdst=0),\n",
       "  'summary': '报错如下：\\nImport Error: no module named \\'past\\'\\n解决方法：\\n这个模块用pip安装是竟然是 pip install future\\n\\n                    <div>\\n                        作者：qq_34243930 发表于 2020/07/26 21:49:29 <a href=\"https://blog.csdn.net/qq_34243930/article/details/107600383\">原文链接</a> https://blog.csdn.net/qq_34243930/article/details/107600383                    </div>\\n                    <div>\\n                        阅读：44                     </div>',\n",
       "  'summary_detail': {'type': 'text/html',\n",
       "   'language': None,\n",
       "   'base': 'https://blog.csdn.net/qq_34243930/rss/list',\n",
       "   'value': '报错如下：\\nImport Error: no module named \\'past\\'\\n解决方法：\\n这个模块用pip安装是竟然是 pip install future\\n\\n                    <div>\\n                        作者：qq_34243930 发表于 2020/07/26 21:49:29 <a href=\"https://blog.csdn.net/qq_34243930/article/details/107600383\">原文链接</a> https://blog.csdn.net/qq_34243930/article/details/107600383                    </div>\\n                    <div>\\n                        阅读：44                     </div>'},\n",
       "  'tags': []},\n",
       " {'title': '[原]Python-ImportError: TensorBoard logging requires TensorBoard with Python summary writer installed.',\n",
       "  'title_detail': {'type': 'text/plain',\n",
       "   'language': None,\n",
       "   'base': 'https://blog.csdn.net/qq_34243930/rss/list',\n",
       "   'value': '[原]Python-ImportError: TensorBoard logging requires TensorBoard with Python summary writer installed.'},\n",
       "  'links': [{'rel': 'alternate',\n",
       "    'type': 'text/html',\n",
       "    'href': 'https://blog.csdn.net/qq_34243930/article/details/107600246'}],\n",
       "  'link': 'https://blog.csdn.net/qq_34243930/article/details/107600246',\n",
       "  'id': 'https://blog.csdn.net/qq_34243930/article/details/107600246',\n",
       "  'guidislink': False,\n",
       "  'authors': [{'name': 'qq_34243930'}],\n",
       "  'author': 'qq_34243930',\n",
       "  'author_detail': {'name': 'qq_34243930'},\n",
       "  'published': '2020/07/26 21:45:40',\n",
       "  'published_parsed': time.struct_time(tm_year=2020, tm_mon=10, tm_mday=1, tm_hour=0, tm_min=0, tm_sec=0, tm_wday=3, tm_yday=275, tm_isdst=0),\n",
       "  'summary': 'pytorch中使用TensorBoard\\n报错如下：\\nImportError: TensorBoard logging requires TensorBoard with Python summary writer installed. This should be available in 1.14 or above.\\n报错原因：\\n由于当前的环境中没有安装TensorBoard。\\n解决方法：\\n如果电脑上安装有anaconda，那么直接使用命令conda install tensorboard即可。\\nor                    <div>\\n                        作者：qq_34243930 发表于 2020/07/26 21:45:40 <a href=\"https://blog.csdn.net/qq_34243930/article/details/107600246\">原文链接</a> https://blog.csdn.net/qq_34243930/article/details/107600246                    </div>\\n                    <div>\\n                        阅读：526                     </div>',\n",
       "  'summary_detail': {'type': 'text/html',\n",
       "   'language': None,\n",
       "   'base': 'https://blog.csdn.net/qq_34243930/rss/list',\n",
       "   'value': 'pytorch中使用TensorBoard\\n报错如下：\\nImportError: TensorBoard logging requires TensorBoard with Python summary writer installed. This should be available in 1.14 or above.\\n报错原因：\\n由于当前的环境中没有安装TensorBoard。\\n解决方法：\\n如果电脑上安装有anaconda，那么直接使用命令conda install tensorboard即可。\\nor                    <div>\\n                        作者：qq_34243930 发表于 2020/07/26 21:45:40 <a href=\"https://blog.csdn.net/qq_34243930/article/details/107600246\">原文链接</a> https://blog.csdn.net/qq_34243930/article/details/107600246                    </div>\\n                    <div>\\n                        阅读：526                     </div>'},\n",
       "  'tags': []},\n",
       " {'title': '[原]PyTorch Error fix-RuntimeError: kind_.is_prim() INTERNAL ASSERT FAILED',\n",
       "  'title_detail': {'type': 'text/plain',\n",
       "   'language': None,\n",
       "   'base': 'https://blog.csdn.net/qq_34243930/rss/list',\n",
       "   'value': '[原]PyTorch Error fix-RuntimeError: kind_.is_prim() INTERNAL ASSERT FAILED'},\n",
       "  'links': [{'rel': 'alternate',\n",
       "    'type': 'text/html',\n",
       "    'href': 'https://blog.csdn.net/qq_34243930/article/details/107598496'}],\n",
       "  'link': 'https://blog.csdn.net/qq_34243930/article/details/107598496',\n",
       "  'id': 'https://blog.csdn.net/qq_34243930/article/details/107598496',\n",
       "  'guidislink': False,\n",
       "  'authors': [{'name': 'qq_34243930'}],\n",
       "  'author': 'qq_34243930',\n",
       "  'author_detail': {'name': 'qq_34243930'},\n",
       "  'published': '2020/07/26 21:41:04',\n",
       "  'published_parsed': time.struct_time(tm_year=2020, tm_mon=10, tm_mday=1, tm_hour=0, tm_min=0, tm_sec=0, tm_wday=3, tm_yday=275, tm_isdst=0),\n",
       "  'summary': '报错如下：\\nRuntimeError: kind_.is_prim() INTERNAL ASSERT FAILED at /pytorch/torch/csrc/jit/ir.cpp:904, please report a bug to PyTorch. Only prim ops are allowed to not have a registered operator but aten::_convolution doesn\\'t have one either. We don\\'t know if t                    <div>\\n                        作者：qq_34243930 发表于 2020/07/26 21:41:04 <a href=\"https://blog.csdn.net/qq_34243930/article/details/107598496\">原文链接</a> https://blog.csdn.net/qq_34243930/article/details/107598496                    </div>\\n                    <div>\\n                        阅读：224                     </div>',\n",
       "  'summary_detail': {'type': 'text/html',\n",
       "   'language': None,\n",
       "   'base': 'https://blog.csdn.net/qq_34243930/rss/list',\n",
       "   'value': '报错如下：\\nRuntimeError: kind_.is_prim() INTERNAL ASSERT FAILED at /pytorch/torch/csrc/jit/ir.cpp:904, please report a bug to PyTorch. Only prim ops are allowed to not have a registered operator but aten::_convolution doesn\\'t have one either. We don\\'t know if t                    <div>\\n                        作者：qq_34243930 发表于 2020/07/26 21:41:04 <a href=\"https://blog.csdn.net/qq_34243930/article/details/107598496\">原文链接</a> https://blog.csdn.net/qq_34243930/article/details/107598496                    </div>\\n                    <div>\\n                        阅读：224                     </div>'},\n",
       "  'tags': []},\n",
       " {'title': '[原]Python Error fix-TypeError: Object of type ‘uint16‘ is not JSON serializable',\n",
       "  'title_detail': {'type': 'text/plain',\n",
       "   'language': None,\n",
       "   'base': 'https://blog.csdn.net/qq_34243930/rss/list',\n",
       "   'value': '[原]Python Error fix-TypeError: Object of type ‘uint16‘ is not JSON serializable'},\n",
       "  'links': [{'rel': 'alternate',\n",
       "    'type': 'text/html',\n",
       "    'href': 'https://blog.csdn.net/qq_34243930/article/details/107570498'}],\n",
       "  'link': 'https://blog.csdn.net/qq_34243930/article/details/107570498',\n",
       "  'id': 'https://blog.csdn.net/qq_34243930/article/details/107570498',\n",
       "  'guidislink': False,\n",
       "  'authors': [{'name': 'qq_34243930'}],\n",
       "  'author': 'qq_34243930',\n",
       "  'author_detail': {'name': 'qq_34243930'},\n",
       "  'published': '2020/07/24 22:08:09',\n",
       "  'published_parsed': time.struct_time(tm_year=2020, tm_mon=10, tm_mday=1, tm_hour=0, tm_min=0, tm_sec=0, tm_wday=3, tm_yday=275, tm_isdst=0),\n",
       "  'summary': '报错如下：\\nTypeError: Object of type \\'uint16\\' is not JSON serializable\\n\\n报错原因：\\n我这里是要把matlab的数据.mat格式的注释文件转换成coco数据集格式\\n应该是有numpy的类型没有转成int\\n就是从matlab读出来的。。。可能有的是numpy.uint类型，就存不了，需要转成int类型\\n解决方法：\\n试试把之前每个整数的地方都加个int（)\\n由于coco数据格式分为三部分，所以可以尝试分别吧images 和 annotations和ca                    <div>\\n                        作者：qq_34243930 发表于 2020/07/24 22:08:09 <a href=\"https://blog.csdn.net/qq_34243930/article/details/107570498\">原文链接</a> https://blog.csdn.net/qq_34243930/article/details/107570498                    </div>\\n                    <div>\\n                        阅读：50                     </div>',\n",
       "  'summary_detail': {'type': 'text/html',\n",
       "   'language': None,\n",
       "   'base': 'https://blog.csdn.net/qq_34243930/rss/list',\n",
       "   'value': '报错如下：\\nTypeError: Object of type \\'uint16\\' is not JSON serializable\\n\\n报错原因：\\n我这里是要把matlab的数据.mat格式的注释文件转换成coco数据集格式\\n应该是有numpy的类型没有转成int\\n就是从matlab读出来的。。。可能有的是numpy.uint类型，就存不了，需要转成int类型\\n解决方法：\\n试试把之前每个整数的地方都加个int（)\\n由于coco数据格式分为三部分，所以可以尝试分别吧images 和 annotations和ca                    <div>\\n                        作者：qq_34243930 发表于 2020/07/24 22:08:09 <a href=\"https://blog.csdn.net/qq_34243930/article/details/107570498\">原文链接</a> https://blog.csdn.net/qq_34243930/article/details/107570498                    </div>\\n                    <div>\\n                        阅读：50                     </div>'},\n",
       "  'tags': []},\n",
       " {'title': '[原]pytorch之torch.utils.model_zoo.load_url()在给定URL上加载Torch序列化对象',\n",
       "  'title_detail': {'type': 'text/plain',\n",
       "   'language': None,\n",
       "   'base': 'https://blog.csdn.net/qq_34243930/rss/list',\n",
       "   'value': '[原]pytorch之torch.utils.model_zoo.load_url()在给定URL上加载Torch序列化对象'},\n",
       "  'links': [{'rel': 'alternate',\n",
       "    'type': 'text/html',\n",
       "    'href': 'https://blog.csdn.net/qq_34243930/article/details/107268945'}],\n",
       "  'link': 'https://blog.csdn.net/qq_34243930/article/details/107268945',\n",
       "  'id': 'https://blog.csdn.net/qq_34243930/article/details/107268945',\n",
       "  'guidislink': False,\n",
       "  'authors': [{'name': 'qq_34243930'}],\n",
       "  'author': 'qq_34243930',\n",
       "  'author_detail': {'name': 'qq_34243930'},\n",
       "  'published': '2020/07/10 22:37:47',\n",
       "  'published_parsed': time.struct_time(tm_year=2020, tm_mon=10, tm_mday=1, tm_hour=0, tm_min=0, tm_sec=0, tm_wday=3, tm_yday=275, tm_isdst=0),\n",
       "  'summary': 'torch.utils.model_zoo.load_url(url, model_dir=None)\\n在给定URL上加载Torch序列化对象。\\n通俗点说，就是通过提供的.pth文件的url地址来下载指定的.pth文件【在pytorch中.pth文件就是模型的参数文件】\\n参数：\\n\\nurl (string) - 要下载对象的URL\\nmodel_dir (string, optional) - 保存对象的目录\\n\\n如果对象已经存在于model_dir中，则将被反序列化并返回。【也就是后面所说的——已经下载好模型的                    <div>\\n                        作者：qq_34243930 发表于 2020/07/10 22:37:47 <a href=\"https://blog.csdn.net/qq_34243930/article/details/107268945\">原文链接</a> https://blog.csdn.net/qq_34243930/article/details/107268945                    </div>\\n                    <div>\\n                        阅读：409                     </div>',\n",
       "  'summary_detail': {'type': 'text/html',\n",
       "   'language': None,\n",
       "   'base': 'https://blog.csdn.net/qq_34243930/rss/list',\n",
       "   'value': 'torch.utils.model_zoo.load_url(url, model_dir=None)\\n在给定URL上加载Torch序列化对象。\\n通俗点说，就是通过提供的.pth文件的url地址来下载指定的.pth文件【在pytorch中.pth文件就是模型的参数文件】\\n参数：\\n\\nurl (string) - 要下载对象的URL\\nmodel_dir (string, optional) - 保存对象的目录\\n\\n如果对象已经存在于model_dir中，则将被反序列化并返回。【也就是后面所说的——已经下载好模型的                    <div>\\n                        作者：qq_34243930 发表于 2020/07/10 22:37:47 <a href=\"https://blog.csdn.net/qq_34243930/article/details/107268945\">原文链接</a> https://blog.csdn.net/qq_34243930/article/details/107268945                    </div>\\n                    <div>\\n                        阅读：409                     </div>'},\n",
       "  'tags': []},\n",
       " {'title': '[原]pytorch之torch.nn.Conv2d()函数详解',\n",
       "  'title_detail': {'type': 'text/plain',\n",
       "   'language': None,\n",
       "   'base': 'https://blog.csdn.net/qq_34243930/rss/list',\n",
       "   'value': '[原]pytorch之torch.nn.Conv2d()函数详解'},\n",
       "  'links': [{'rel': 'alternate',\n",
       "    'type': 'text/html',\n",
       "    'href': 'https://blog.csdn.net/qq_34243930/article/details/107231539'}],\n",
       "  'link': 'https://blog.csdn.net/qq_34243930/article/details/107231539',\n",
       "  'id': 'https://blog.csdn.net/qq_34243930/article/details/107231539',\n",
       "  'guidislink': False,\n",
       "  'authors': [{'name': 'qq_34243930'}],\n",
       "  'author': 'qq_34243930',\n",
       "  'author_detail': {'name': 'qq_34243930'},\n",
       "  'published': '2020/07/09 22:48:24',\n",
       "  'published_parsed': time.struct_time(tm_year=2020, tm_mon=10, tm_mday=1, tm_hour=0, tm_min=0, tm_sec=0, tm_wday=3, tm_yday=275, tm_isdst=0),\n",
       "  'summary': '文章目录一、官方文档介绍二、torch.nn.Conv2d()函数详解参数详解参数dilation——扩张卷积（也叫空洞卷积）参数groups——分组卷积三、代码实例\\n一、官方文档介绍\\n官网\\n\\nnn.Conv2d：对由多个输入平面组成的输入信号进行二维卷积\\n\\n\\n二、torch.nn.Conv2d()函数详解\\n参数详解\\ntorch.nn.Conv2d(in_channels, out_channels, kernel_size, stride=1, padding=0, dilation=1, groups=                    <div>\\n                        作者：qq_34243930 发表于 2020/07/09 22:48:24 <a href=\"https://blog.csdn.net/qq_34243930/article/details/107231539\">原文链接</a> https://blog.csdn.net/qq_34243930/article/details/107231539                    </div>\\n                    <div>\\n                        阅读：956                     </div>',\n",
       "  'summary_detail': {'type': 'text/html',\n",
       "   'language': None,\n",
       "   'base': 'https://blog.csdn.net/qq_34243930/rss/list',\n",
       "   'value': '文章目录一、官方文档介绍二、torch.nn.Conv2d()函数详解参数详解参数dilation——扩张卷积（也叫空洞卷积）参数groups——分组卷积三、代码实例\\n一、官方文档介绍\\n官网\\n\\nnn.Conv2d：对由多个输入平面组成的输入信号进行二维卷积\\n\\n\\n二、torch.nn.Conv2d()函数详解\\n参数详解\\ntorch.nn.Conv2d(in_channels, out_channels, kernel_size, stride=1, padding=0, dilation=1, groups=                    <div>\\n                        作者：qq_34243930 发表于 2020/07/09 22:48:24 <a href=\"https://blog.csdn.net/qq_34243930/article/details/107231539\">原文链接</a> https://blog.csdn.net/qq_34243930/article/details/107231539                    </div>\\n                    <div>\\n                        阅读：956                     </div>'},\n",
       "  'tags': []}]"
      ]
     },
     "execution_count": 12,
     "metadata": {},
     "output_type": "execute_result"
    }
   ],
   "source": [
    "ny['entries']"
   ]
  },
  {
   "cell_type": "code",
   "execution_count": 13,
   "metadata": {},
   "outputs": [],
   "source": [
    "d=feedparser.parse('http://feed.cnblogs.com/blog/sitehome/rss')"
   ]
  },
  {
   "cell_type": "code",
   "execution_count": 14,
   "metadata": {},
   "outputs": [
    {
     "data": {
      "text/plain": [
       "'博客园_首页'"
      ]
     },
     "execution_count": 14,
     "metadata": {},
     "output_type": "execute_result"
    }
   ],
   "source": [
    "d['feed']['title']"
   ]
  },
  {
   "cell_type": "code",
   "execution_count": 15,
   "metadata": {},
   "outputs": [
    {
     "data": {
      "text/plain": [
       "'博客园_首页'"
      ]
     },
     "execution_count": 15,
     "metadata": {},
     "output_type": "execute_result"
    }
   ],
   "source": [
    "d.feed.title    #通过属性的方式访问\n"
   ]
  },
  {
   "cell_type": "code",
   "execution_count": 16,
   "metadata": {},
   "outputs": [
    {
     "data": {
      "text/plain": [
       "'代码改变世界'"
      ]
     },
     "execution_count": 16,
     "metadata": {},
     "output_type": "execute_result"
    }
   ],
   "source": [
    "d.feed.subtitle"
   ]
  },
  {
   "cell_type": "code",
   "execution_count": 17,
   "metadata": {},
   "outputs": [
    {
     "data": {
      "text/plain": [
       "'uuid:652048df-f22c-4aec-a87f-968d27646cc5;id=21'"
      ]
     },
     "execution_count": 17,
     "metadata": {},
     "output_type": "execute_result"
    }
   ],
   "source": [
    "d.feed.link"
   ]
  },
  {
   "cell_type": "code",
   "execution_count": 18,
   "metadata": {},
   "outputs": [
    {
     "data": {
      "text/plain": [
       "list"
      ]
     },
     "execution_count": 18,
     "metadata": {},
     "output_type": "execute_result"
    }
   ],
   "source": [
    "type(d.entries)"
   ]
  },
  {
   "cell_type": "code",
   "execution_count": 19,
   "metadata": {},
   "outputs": [
    {
     "data": {
      "text/plain": [
       "20"
      ]
     },
     "execution_count": 19,
     "metadata": {},
     "output_type": "execute_result"
    }
   ],
   "source": [
    "len(d.entries) "
   ]
  },
  {
   "cell_type": "code",
   "execution_count": 20,
   "metadata": {},
   "outputs": [
    {
     "data": {
      "text/plain": [
       "['C# Redis分布式锁(RedLock) - 多节点 - 热敷哥',\n",
       " '程序员让计算机替自己完成工作，老板该不该解雇他？（老王观点） - 软件老王',\n",
       " '成理信安协会题目反序列化02 - Riv3r1and',\n",
       " 'Unity Shader 00 - 梳理 Unity Shader 的基本结构 - drnkcff',\n",
       " '我竟在arm汇编除法算法里找到了leetcode某道题的解法 - Binfun']"
      ]
     },
     "execution_count": 20,
     "metadata": {},
     "output_type": "execute_result"
    }
   ],
   "source": [
    "[e.title for e in d.entries][:5]  "
   ]
  },
  {
   "cell_type": "code",
   "execution_count": 21,
   "metadata": {},
   "outputs": [
    {
     "data": {
      "text/plain": [
       "'Redis单节点的分布式锁只需要注意三点就可以了: 1.加锁并设置锁的过期时间必须是原子操作; 2.锁的value值必须要有唯一性; 3.释放锁的时候要验证其value值,不是自己加的锁不能释放. 但是单节点分布式锁最大的缺点就是,它只作用在一个Redis节点上,如果该节点挂了,那就挂了. 那可不可'"
      ]
     },
     "execution_count": 21,
     "metadata": {},
     "output_type": "execute_result"
    }
   ],
   "source": [
    "d.entries[0].summary   #第一篇文章的摘要  和d.entries[0].description功能一样"
   ]
  },
  {
   "cell_type": "code",
   "execution_count": 22,
   "metadata": {},
   "outputs": [
    {
     "data": {
      "text/plain": [
       "{'feed': {'title': '博客园_首页',\n",
       "  'title_detail': {'type': 'text/plain',\n",
       "   'language': None,\n",
       "   'base': 'http://feed.cnblogs.com/blog/sitehome/rss',\n",
       "   'value': '博客园_首页'},\n",
       "  'subtitle': '代码改变世界',\n",
       "  'subtitle_detail': {'type': 'text/plain',\n",
       "   'language': None,\n",
       "   'base': 'http://feed.cnblogs.com/blog/sitehome/rss',\n",
       "   'value': '代码改变世界'},\n",
       "  'id': 'uuid:652048df-f22c-4aec-a87f-968d27646cc5;id=21',\n",
       "  'guidislink': True,\n",
       "  'link': 'uuid:652048df-f22c-4aec-a87f-968d27646cc5;id=21',\n",
       "  'updated': '2020-10-07T08:18:34Z',\n",
       "  'updated_parsed': time.struct_time(tm_year=2020, tm_mon=10, tm_mday=7, tm_hour=8, tm_min=18, tm_sec=34, tm_wday=2, tm_yday=281, tm_isdst=0),\n",
       "  'generator_detail': {'name': 'feed.cnblogs.com'},\n",
       "  'generator': 'feed.cnblogs.com'},\n",
       " 'entries': [{'id': 'http://www.cnblogs.com/refuge/p/13777704.html',\n",
       "   'guidislink': True,\n",
       "   'link': 'http://www.cnblogs.com/refuge/p/13777704.html',\n",
       "   'title': 'C# Redis分布式锁(RedLock) - 多节点 - 热敷哥',\n",
       "   'title_detail': {'type': 'text/plain',\n",
       "    'language': None,\n",
       "    'base': 'http://feed.cnblogs.com/blog/sitehome/rss',\n",
       "    'value': 'C# Redis分布式锁(RedLock) - 多节点 - 热敷哥'},\n",
       "   'summary': 'Redis单节点的分布式锁只需要注意三点就可以了: 1.加锁并设置锁的过期时间必须是原子操作; 2.锁的value值必须要有唯一性; 3.释放锁的时候要验证其value值,不是自己加的锁不能释放. 但是单节点分布式锁最大的缺点就是,它只作用在一个Redis节点上,如果该节点挂了,那就挂了. 那可不可',\n",
       "   'summary_detail': {'type': 'text/plain',\n",
       "    'language': None,\n",
       "    'base': 'http://feed.cnblogs.com/blog/sitehome/rss',\n",
       "    'value': 'Redis单节点的分布式锁只需要注意三点就可以了: 1.加锁并设置锁的过期时间必须是原子操作; 2.锁的value值必须要有唯一性; 3.释放锁的时候要验证其value值,不是自己加的锁不能释放. 但是单节点分布式锁最大的缺点就是,它只作用在一个Redis节点上,如果该节点挂了,那就挂了. 那可不可'},\n",
       "   'published': '2020-10-07T08:04:00Z',\n",
       "   'published_parsed': time.struct_time(tm_year=2020, tm_mon=10, tm_mday=7, tm_hour=8, tm_min=4, tm_sec=0, tm_wday=2, tm_yday=281, tm_isdst=0),\n",
       "   'updated': '2020-10-07T08:04:00Z',\n",
       "   'updated_parsed': time.struct_time(tm_year=2020, tm_mon=10, tm_mday=7, tm_hour=8, tm_min=4, tm_sec=0, tm_wday=2, tm_yday=281, tm_isdst=0),\n",
       "   'authors': [{'name': '热敷哥', 'href': 'http://www.cnblogs.com/refuge/'}],\n",
       "   'author_detail': {'name': '热敷哥', 'href': 'http://www.cnblogs.com/refuge/'},\n",
       "   'href': 'http://www.cnblogs.com/refuge/',\n",
       "   'author': '热敷哥',\n",
       "   'links': [{'rel': 'alternate',\n",
       "     'href': 'http://www.cnblogs.com/refuge/p/13777704.html',\n",
       "     'type': 'text/html'},\n",
       "    {'rel': 'alternate',\n",
       "     'type': 'text/html',\n",
       "     'href': 'http://www.cnblogs.com/refuge/p/13777704.html'}],\n",
       "   'content': [{'type': 'text/html',\n",
       "     'language': None,\n",
       "     'base': 'http://feed.cnblogs.com/blog/sitehome/rss',\n",
       "     'value': '【摘要】Redis单节点的分布式锁只需要注意三点就可以了: 1.加锁并设置锁的过期时间必须是原子操作; 2.锁的value值必须要有唯一性; 3.释放锁的时候要验证其value值,不是自己加的锁不能释放. 但是单节点分布式锁最大的缺点就是,它只作用在一个Redis节点上,如果该节点挂了,那就挂了. 那可不可 <a href=\"http://www.cnblogs.com/refuge/p/13777704.html\" target=\"_blank\">阅读全文</a>'}]},\n",
       "  {'id': 'http://www.cnblogs.com/ruanjianlaowang/p/13777510.html',\n",
       "   'guidislink': True,\n",
       "   'link': 'http://www.cnblogs.com/ruanjianlaowang/p/13777510.html',\n",
       "   'title': '程序员让计算机替自己完成工作，老板该不该解雇他？（老王观点） - 软件老王',\n",
       "   'title_detail': {'type': 'text/plain',\n",
       "    'language': None,\n",
       "    'base': 'http://feed.cnblogs.com/blog/sitehome/rss',\n",
       "    'value': '程序员让计算机替自己完成工作，老板该不该解雇他？（老王观点） - 软件老王'},\n",
       "   'summary': '程序员让计算机替自己完成工作，老板该不该解雇他？（老王观点）',\n",
       "   'summary_detail': {'type': 'text/plain',\n",
       "    'language': None,\n",
       "    'base': 'http://feed.cnblogs.com/blog/sitehome/rss',\n",
       "    'value': '程序员让计算机替自己完成工作，老板该不该解雇他？（老王观点）'},\n",
       "   'published': '2020-10-07T07:56:00Z',\n",
       "   'published_parsed': time.struct_time(tm_year=2020, tm_mon=10, tm_mday=7, tm_hour=7, tm_min=56, tm_sec=0, tm_wday=2, tm_yday=281, tm_isdst=0),\n",
       "   'updated': '2020-10-07T07:56:00Z',\n",
       "   'updated_parsed': time.struct_time(tm_year=2020, tm_mon=10, tm_mday=7, tm_hour=7, tm_min=56, tm_sec=0, tm_wday=2, tm_yday=281, tm_isdst=0),\n",
       "   'authors': [{'name': '软件老王',\n",
       "     'href': 'http://www.cnblogs.com/ruanjianlaowang/'}],\n",
       "   'author_detail': {'name': '软件老王',\n",
       "    'href': 'http://www.cnblogs.com/ruanjianlaowang/'},\n",
       "   'href': 'http://www.cnblogs.com/ruanjianlaowang/',\n",
       "   'author': '软件老王',\n",
       "   'links': [{'rel': 'alternate',\n",
       "     'href': 'http://www.cnblogs.com/ruanjianlaowang/p/13777510.html',\n",
       "     'type': 'text/html'},\n",
       "    {'rel': 'alternate',\n",
       "     'type': 'text/html',\n",
       "     'href': 'http://www.cnblogs.com/ruanjianlaowang/p/13777510.html'}],\n",
       "   'content': [{'type': 'text/html',\n",
       "     'language': None,\n",
       "     'base': 'http://feed.cnblogs.com/blog/sitehome/rss',\n",
       "     'value': '【摘要】程序员让计算机替自己完成工作，老板该不该解雇他？（老王观点） <a href=\"http://www.cnblogs.com/ruanjianlaowang/p/13777510.html\" target=\"_blank\">阅读全文</a>'}]},\n",
       "  {'id': 'http://www.cnblogs.com/Riv3r1and/p/13777631.html',\n",
       "   'guidislink': True,\n",
       "   'link': 'http://www.cnblogs.com/Riv3r1and/p/13777631.html',\n",
       "   'title': '成理信安协会题目反序列化02 - Riv3r1and',\n",
       "   'title_detail': {'type': 'text/plain',\n",
       "    'language': None,\n",
       "    'base': 'http://feed.cnblogs.com/blog/sitehome/rss',\n",
       "    'value': '成理信安协会题目反序列化02 - Riv3r1and'},\n",
       "   'summary': '明面上看着不可能的题一般就预示着有空子可钻。 ###直接上源码### <?php show_source(__FILE__); class CDUTSEC { public $var1; public $var2; function __construct($var1, $var2) { $var1',\n",
       "   'summary_detail': {'type': 'text/plain',\n",
       "    'language': None,\n",
       "    'base': 'http://feed.cnblogs.com/blog/sitehome/rss',\n",
       "    'value': '明面上看着不可能的题一般就预示着有空子可钻。 ###直接上源码### <?php show_source(__FILE__); class CDUTSEC { public $var1; public $var2; function __construct($var1, $var2) { $var1'},\n",
       "   'published': '2020-10-07T07:50:00Z',\n",
       "   'published_parsed': time.struct_time(tm_year=2020, tm_mon=10, tm_mday=7, tm_hour=7, tm_min=50, tm_sec=0, tm_wday=2, tm_yday=281, tm_isdst=0),\n",
       "   'updated': '2020-10-07T07:50:00Z',\n",
       "   'updated_parsed': time.struct_time(tm_year=2020, tm_mon=10, tm_mday=7, tm_hour=7, tm_min=50, tm_sec=0, tm_wday=2, tm_yday=281, tm_isdst=0),\n",
       "   'authors': [{'name': 'Riv3r1and',\n",
       "     'href': 'http://www.cnblogs.com/Riv3r1and/'}],\n",
       "   'author_detail': {'name': 'Riv3r1and',\n",
       "    'href': 'http://www.cnblogs.com/Riv3r1and/'},\n",
       "   'href': 'http://www.cnblogs.com/Riv3r1and/',\n",
       "   'author': 'Riv3r1and',\n",
       "   'links': [{'rel': 'alternate',\n",
       "     'href': 'http://www.cnblogs.com/Riv3r1and/p/13777631.html',\n",
       "     'type': 'text/html'},\n",
       "    {'rel': 'alternate',\n",
       "     'type': 'text/html',\n",
       "     'href': 'http://www.cnblogs.com/Riv3r1and/p/13777631.html'}],\n",
       "   'content': [{'type': 'text/html',\n",
       "     'language': None,\n",
       "     'base': 'http://feed.cnblogs.com/blog/sitehome/rss',\n",
       "     'value': '【摘要】明面上看着不可能的题一般就预示着有空子可钻。 ###直接上源码### <?php show_source(__FILE__); class CDUTSEC { public $var1; public $var2; function __construct($var1, $var2) { $var1 <a href=\"http://www.cnblogs.com/Riv3r1and/p/13777631.html\" target=\"_blank\">阅读全文</a>'}]},\n",
       "  {'id': 'http://www.cnblogs.com/drnkcff/p/13777001.html',\n",
       "   'guidislink': True,\n",
       "   'link': 'http://www.cnblogs.com/drnkcff/p/13777001.html',\n",
       "   'title': 'Unity Shader 00 - 梳理 Unity Shader 的基本结构 - drnkcff',\n",
       "   'title_detail': {'type': 'text/plain',\n",
       "    'language': None,\n",
       "    'base': 'http://feed.cnblogs.com/blog/sitehome/rss',\n",
       "    'value': 'Unity Shader 00 - 梳理 Unity Shader 的基本结构 - drnkcff'},\n",
       "   'summary': '0x00 写在前面 之前一直在阅读 The Book of Shaders 一书，为什么会开始写 Unity Shader 呢？一方面，因为该书目前尚未完结，写下此文时已阅读到该书的最新章节；另一方面，也需要通过一些实践来检验以及巩固所学的知识。Unity 引擎提供的环境正好是一个不错的媒介。 本文',\n",
       "   'summary_detail': {'type': 'text/plain',\n",
       "    'language': None,\n",
       "    'base': 'http://feed.cnblogs.com/blog/sitehome/rss',\n",
       "    'value': '0x00 写在前面 之前一直在阅读 The Book of Shaders 一书，为什么会开始写 Unity Shader 呢？一方面，因为该书目前尚未完结，写下此文时已阅读到该书的最新章节；另一方面，也需要通过一些实践来检验以及巩固所学的知识。Unity 引擎提供的环境正好是一个不错的媒介。 本文'},\n",
       "   'published': '2020-10-07T07:14:00Z',\n",
       "   'published_parsed': time.struct_time(tm_year=2020, tm_mon=10, tm_mday=7, tm_hour=7, tm_min=14, tm_sec=0, tm_wday=2, tm_yday=281, tm_isdst=0),\n",
       "   'updated': '2020-10-07T07:14:00Z',\n",
       "   'updated_parsed': time.struct_time(tm_year=2020, tm_mon=10, tm_mday=7, tm_hour=7, tm_min=14, tm_sec=0, tm_wday=2, tm_yday=281, tm_isdst=0),\n",
       "   'authors': [{'name': 'drnkcff', 'href': 'http://www.cnblogs.com/drnkcff/'}],\n",
       "   'author_detail': {'name': 'drnkcff',\n",
       "    'href': 'http://www.cnblogs.com/drnkcff/'},\n",
       "   'href': 'http://www.cnblogs.com/drnkcff/',\n",
       "   'author': 'drnkcff',\n",
       "   'links': [{'rel': 'alternate',\n",
       "     'href': 'http://www.cnblogs.com/drnkcff/p/13777001.html',\n",
       "     'type': 'text/html'},\n",
       "    {'rel': 'alternate',\n",
       "     'type': 'text/html',\n",
       "     'href': 'http://www.cnblogs.com/drnkcff/p/13777001.html'}],\n",
       "   'content': [{'type': 'text/html',\n",
       "     'language': None,\n",
       "     'base': 'http://feed.cnblogs.com/blog/sitehome/rss',\n",
       "     'value': '【摘要】0x00 写在前面 之前一直在阅读 The Book of Shaders 一书，为什么会开始写 Unity Shader 呢？一方面，因为该书目前尚未完结，写下此文时已阅读到该书的最新章节；另一方面，也需要通过一些实践来检验以及巩固所学的知识。Unity 引擎提供的环境正好是一个不错的媒介。 本文 <a href=\"http://www.cnblogs.com/drnkcff/p/13777001.html\" target=\"_blank\">阅读全文</a>'}]},\n",
       "  {'id': 'http://www.cnblogs.com/binfun/p/13777469.html',\n",
       "   'guidislink': True,\n",
       "   'link': 'http://www.cnblogs.com/binfun/p/13777469.html',\n",
       "   'title': '我竟在arm汇编除法算法里找到了leetcode某道题的解法 - Binfun',\n",
       "   'title_detail': {'type': 'text/plain',\n",
       "    'language': None,\n",
       "    'base': 'http://feed.cnblogs.com/blog/sitehome/rss',\n",
       "    'value': '我竟在arm汇编除法算法里找到了leetcode某道题的解法 - Binfun'},\n",
       "   'summary': '今天讲讲arm汇编中除法的底层实现。汇编代码本身比较长了，如需参考请直接拉到文末。 下面我直接把arm的除法算法的汇编代码转译成C语言的代码贴出来，并进行解析。 因为篇幅有限，所以在此只解析无符号整型的除法运算，关于无符号除法和有符号除法的区别请参考上一篇推送。 代码较长如下，电脑端看效果更佳，如无',\n",
       "   'summary_detail': {'type': 'text/plain',\n",
       "    'language': None,\n",
       "    'base': 'http://feed.cnblogs.com/blog/sitehome/rss',\n",
       "    'value': '今天讲讲arm汇编中除法的底层实现。汇编代码本身比较长了，如需参考请直接拉到文末。 下面我直接把arm的除法算法的汇编代码转译成C语言的代码贴出来，并进行解析。 因为篇幅有限，所以在此只解析无符号整型的除法运算，关于无符号除法和有符号除法的区别请参考上一篇推送。 代码较长如下，电脑端看效果更佳，如无'},\n",
       "   'published': '2020-10-07T07:13:00Z',\n",
       "   'published_parsed': time.struct_time(tm_year=2020, tm_mon=10, tm_mday=7, tm_hour=7, tm_min=13, tm_sec=0, tm_wday=2, tm_yday=281, tm_isdst=0),\n",
       "   'updated': '2020-10-07T07:13:00Z',\n",
       "   'updated_parsed': time.struct_time(tm_year=2020, tm_mon=10, tm_mday=7, tm_hour=7, tm_min=13, tm_sec=0, tm_wday=2, tm_yday=281, tm_isdst=0),\n",
       "   'authors': [{'name': 'Binfun', 'href': 'http://www.cnblogs.com/binfun/'}],\n",
       "   'author_detail': {'name': 'Binfun',\n",
       "    'href': 'http://www.cnblogs.com/binfun/'},\n",
       "   'href': 'http://www.cnblogs.com/binfun/',\n",
       "   'author': 'Binfun',\n",
       "   'links': [{'rel': 'alternate',\n",
       "     'href': 'http://www.cnblogs.com/binfun/p/13777469.html',\n",
       "     'type': 'text/html'},\n",
       "    {'rel': 'alternate',\n",
       "     'type': 'text/html',\n",
       "     'href': 'http://www.cnblogs.com/binfun/p/13777469.html'}],\n",
       "   'content': [{'type': 'text/html',\n",
       "     'language': None,\n",
       "     'base': 'http://feed.cnblogs.com/blog/sitehome/rss',\n",
       "     'value': '【摘要】今天讲讲arm汇编中除法的底层实现。汇编代码本身比较长了，如需参考请直接拉到文末。 下面我直接把arm的除法算法的汇编代码转译成C语言的代码贴出来，并进行解析。 因为篇幅有限，所以在此只解析无符号整型的除法运算，关于无符号除法和有符号除法的区别请参考上一篇推送。 代码较长如下，电脑端看效果更佳，如无 <a href=\"http://www.cnblogs.com/binfun/p/13777469.html\" target=\"_blank\">阅读全文</a>'}]},\n",
       "  {'id': 'http://www.cnblogs.com/Chenjiabing/p/13777338.html',\n",
       "   'guidislink': True,\n",
       "   'link': 'http://www.cnblogs.com/Chenjiabing/p/13777338.html',\n",
       "   'title': 'Spring Boot第五弹，WEB开发初了解~ - 爱撒谎的男孩',\n",
       "   'title_detail': {'type': 'text/plain',\n",
       "    'language': None,\n",
       "    'base': 'http://feed.cnblogs.com/blog/sitehome/rss',\n",
       "    'value': 'Spring Boot第五弹，WEB开发初了解~ - 爱撒谎的男孩'},\n",
       "   'summary': '持续原创输出，点击上方蓝字关注我吧 目录 前言Spring Boot 版本前提条件（必须注意）添加依赖第一个接口开发 如何自定义tomcat的端口？如何自定义项目路径？ JSON格式化 日期格式的设置其他属性的配置如何在配置类配置？ 总结 前言 今天是Spring Boot专栏的第五篇文章，相信大家',\n",
       "   'summary_detail': {'type': 'text/plain',\n",
       "    'language': None,\n",
       "    'base': 'http://feed.cnblogs.com/blog/sitehome/rss',\n",
       "    'value': '持续原创输出，点击上方蓝字关注我吧 目录 前言Spring Boot 版本前提条件（必须注意）添加依赖第一个接口开发 如何自定义tomcat的端口？如何自定义项目路径？ JSON格式化 日期格式的设置其他属性的配置如何在配置类配置？ 总结 前言 今天是Spring Boot专栏的第五篇文章，相信大家'},\n",
       "   'published': '2020-10-07T06:44:00Z',\n",
       "   'published_parsed': time.struct_time(tm_year=2020, tm_mon=10, tm_mday=7, tm_hour=6, tm_min=44, tm_sec=0, tm_wday=2, tm_yday=281, tm_isdst=0),\n",
       "   'updated': '2020-10-07T06:44:00Z',\n",
       "   'updated_parsed': time.struct_time(tm_year=2020, tm_mon=10, tm_mday=7, tm_hour=6, tm_min=44, tm_sec=0, tm_wday=2, tm_yday=281, tm_isdst=0),\n",
       "   'authors': [{'name': '爱撒谎的男孩',\n",
       "     'href': 'http://www.cnblogs.com/Chenjiabing/'}],\n",
       "   'author_detail': {'name': '爱撒谎的男孩',\n",
       "    'href': 'http://www.cnblogs.com/Chenjiabing/'},\n",
       "   'href': 'http://www.cnblogs.com/Chenjiabing/',\n",
       "   'author': '爱撒谎的男孩',\n",
       "   'links': [{'rel': 'alternate',\n",
       "     'href': 'http://www.cnblogs.com/Chenjiabing/p/13777338.html',\n",
       "     'type': 'text/html'},\n",
       "    {'rel': 'alternate',\n",
       "     'type': 'text/html',\n",
       "     'href': 'http://www.cnblogs.com/Chenjiabing/p/13777338.html'}],\n",
       "   'content': [{'type': 'text/html',\n",
       "     'language': None,\n",
       "     'base': 'http://feed.cnblogs.com/blog/sitehome/rss',\n",
       "     'value': '【摘要】持续原创输出，点击上方蓝字关注我吧 目录 前言Spring Boot 版本前提条件（必须注意）添加依赖第一个接口开发 如何自定义tomcat的端口？如何自定义项目路径？ JSON格式化 日期格式的设置其他属性的配置如何在配置类配置？ 总结 前言 今天是Spring Boot专栏的第五篇文章，相信大家 <a href=\"http://www.cnblogs.com/Chenjiabing/p/13777338.html\" target=\"_blank\">阅读全文</a>'}]},\n",
       "  {'id': 'http://www.cnblogs.com/Qing-LKY/p/Eagle-on-a-Roof.html',\n",
       "   'guidislink': True,\n",
       "   'link': 'http://www.cnblogs.com/Qing-LKY/p/Eagle-on-a-Roof.html',\n",
       "   'title': 'What number should I guess next ？——由《鹰蛋》一题引发的思考 - 喵乖乖喵',\n",
       "   'title_detail': {'type': 'text/plain',\n",
       "    'language': None,\n",
       "    'base': 'http://feed.cnblogs.com/blog/sitehome/rss',\n",
       "    'value': 'What number should I guess next ？——由《鹰蛋》一题引发的思考 - 喵乖乖喵'},\n",
       "   'summary': '本文针对两种受众，详细讲述了鹰蛋问题的决策思路，并对朱晨光《优化，再优化！——从《鹰蛋》一题浅析对动态规划算法的优化》中比较难懂的内容进行了自己的解读。不过由于水平有限，我没能完成最后一种做法的复杂度证明。只能利用打表做简单的分析。',\n",
       "   'summary_detail': {'type': 'text/plain',\n",
       "    'language': None,\n",
       "    'base': 'http://feed.cnblogs.com/blog/sitehome/rss',\n",
       "    'value': '本文针对两种受众，详细讲述了鹰蛋问题的决策思路，并对朱晨光《优化，再优化！——从《鹰蛋》一题浅析对动态规划算法的优化》中比较难懂的内容进行了自己的解读。不过由于水平有限，我没能完成最后一种做法的复杂度证明。只能利用打表做简单的分析。'},\n",
       "   'published': '2020-10-07T05:38:00Z',\n",
       "   'published_parsed': time.struct_time(tm_year=2020, tm_mon=10, tm_mday=7, tm_hour=5, tm_min=38, tm_sec=0, tm_wday=2, tm_yday=281, tm_isdst=0),\n",
       "   'updated': '2020-10-07T05:38:00Z',\n",
       "   'updated_parsed': time.struct_time(tm_year=2020, tm_mon=10, tm_mday=7, tm_hour=5, tm_min=38, tm_sec=0, tm_wday=2, tm_yday=281, tm_isdst=0),\n",
       "   'authors': [{'name': '喵乖乖喵', 'href': 'http://www.cnblogs.com/Qing-LKY/'}],\n",
       "   'author_detail': {'name': '喵乖乖喵',\n",
       "    'href': 'http://www.cnblogs.com/Qing-LKY/'},\n",
       "   'href': 'http://www.cnblogs.com/Qing-LKY/',\n",
       "   'author': '喵乖乖喵',\n",
       "   'links': [{'rel': 'alternate',\n",
       "     'href': 'http://www.cnblogs.com/Qing-LKY/p/Eagle-on-a-Roof.html',\n",
       "     'type': 'text/html'},\n",
       "    {'rel': 'alternate',\n",
       "     'type': 'text/html',\n",
       "     'href': 'http://www.cnblogs.com/Qing-LKY/p/Eagle-on-a-Roof.html'}],\n",
       "   'content': [{'type': 'text/html',\n",
       "     'language': None,\n",
       "     'base': 'http://feed.cnblogs.com/blog/sitehome/rss',\n",
       "     'value': '【摘要】本文针对两种受众，详细讲述了鹰蛋问题的决策思路，并对朱晨光《优化，再优化！——从《鹰蛋》一题浅析对动态规划算法的优化》中比较难懂的内容进行了自己的解读。不过由于水平有限，我没能完成最后一种做法的复杂度证明。只能利用打表做简单的分析。 <a href=\"http://www.cnblogs.com/Qing-LKY/p/Eagle-on-a-Roof.html\" target=\"_blank\">阅读全文</a>'}]},\n",
       "  {'id': 'http://www.cnblogs.com/0pen1/p/13768880.html',\n",
       "   'guidislink': True,\n",
       "   'link': 'http://www.cnblogs.com/0pen1/p/13768880.html',\n",
       "   'title': '2020我终于成功搭建了Metasploitable3靶机 - 0pen1',\n",
       "   'title_detail': {'type': 'text/plain',\n",
       "    'language': None,\n",
       "    'base': 'http://feed.cnblogs.com/blog/sitehome/rss',\n",
       "    'value': '2020我终于成功搭建了Metasploitable3靶机 - 0pen1'},\n",
       "   'summary': '0x00前言 在学习metasploit时我们往往需要一个靶场，下面为大家介绍一下如何在虚拟机中安装metasploitable 3靶场。Metasploitable3是Metasploitable2的升级版本，它是一个虚拟靶机系统，里面含有大量未被修复的安全漏洞，它主要是用于metasploit-',\n",
       "   'summary_detail': {'type': 'text/plain',\n",
       "    'language': None,\n",
       "    'base': 'http://feed.cnblogs.com/blog/sitehome/rss',\n",
       "    'value': '0x00前言 在学习metasploit时我们往往需要一个靶场，下面为大家介绍一下如何在虚拟机中安装metasploitable 3靶场。Metasploitable3是Metasploitable2的升级版本，它是一个虚拟靶机系统，里面含有大量未被修复的安全漏洞，它主要是用于metasploit-'},\n",
       "   'published': '2020-10-07T05:30:00Z',\n",
       "   'published_parsed': time.struct_time(tm_year=2020, tm_mon=10, tm_mday=7, tm_hour=5, tm_min=30, tm_sec=0, tm_wday=2, tm_yday=281, tm_isdst=0),\n",
       "   'updated': '2020-10-07T05:30:00Z',\n",
       "   'updated_parsed': time.struct_time(tm_year=2020, tm_mon=10, tm_mday=7, tm_hour=5, tm_min=30, tm_sec=0, tm_wday=2, tm_yday=281, tm_isdst=0),\n",
       "   'authors': [{'name': '0pen1', 'href': 'http://www.cnblogs.com/0pen1/'}],\n",
       "   'author_detail': {'name': '0pen1', 'href': 'http://www.cnblogs.com/0pen1/'},\n",
       "   'href': 'http://www.cnblogs.com/0pen1/',\n",
       "   'author': '0pen1',\n",
       "   'links': [{'rel': 'alternate',\n",
       "     'href': 'http://www.cnblogs.com/0pen1/p/13768880.html',\n",
       "     'type': 'text/html'},\n",
       "    {'rel': 'alternate',\n",
       "     'type': 'text/html',\n",
       "     'href': 'http://www.cnblogs.com/0pen1/p/13768880.html'}],\n",
       "   'content': [{'type': 'text/html',\n",
       "     'language': None,\n",
       "     'base': 'http://feed.cnblogs.com/blog/sitehome/rss',\n",
       "     'value': '【摘要】0x00前言 在学习metasploit时我们往往需要一个靶场，下面为大家介绍一下如何在虚拟机中安装metasploitable 3靶场。Metasploitable3是Metasploitable2的升级版本，它是一个虚拟靶机系统，里面含有大量未被修复的安全漏洞，它主要是用于metasploit- <a href=\"http://www.cnblogs.com/0pen1/p/13768880.html\" target=\"_blank\">阅读全文</a>'}]},\n",
       "  {'id': 'http://www.cnblogs.com/javadoudi/p/13777033.html',\n",
       "   'guidislink': True,\n",
       "   'link': 'http://www.cnblogs.com/javadoudi/p/13777033.html',\n",
       "   'title': '4 个问题图解浏览器垃圾回收的过程。 - Java斗帝之路',\n",
       "   'title_detail': {'type': 'text/plain',\n",
       "    'language': None,\n",
       "    'base': 'http://feed.cnblogs.com/blog/sitehome/rss',\n",
       "    'value': '4 个问题图解浏览器垃圾回收的过程。 - Java斗帝之路'},\n",
       "   'summary': '浏览器垃圾回收一直是前端面试常考的部分，我一直不太理解。最近深入学习了一下，争取一篇文章说清楚。 我们首先带着这 4 个问题，来了解浏览器垃圾回收的过程，后面会逐一解答： 浏览器怎么进行垃圾回收？ 浏览器中不同类型变量的内存都是何时释放？ 哪些情况会导致内存泄露？如何避免？ weakMap weak',\n",
       "   'summary_detail': {'type': 'text/plain',\n",
       "    'language': None,\n",
       "    'base': 'http://feed.cnblogs.com/blog/sitehome/rss',\n",
       "    'value': '浏览器垃圾回收一直是前端面试常考的部分，我一直不太理解。最近深入学习了一下，争取一篇文章说清楚。 我们首先带着这 4 个问题，来了解浏览器垃圾回收的过程，后面会逐一解答： 浏览器怎么进行垃圾回收？ 浏览器中不同类型变量的内存都是何时释放？ 哪些情况会导致内存泄露？如何避免？ weakMap weak'},\n",
       "   'published': '2020-10-07T05:03:00Z',\n",
       "   'published_parsed': time.struct_time(tm_year=2020, tm_mon=10, tm_mday=7, tm_hour=5, tm_min=3, tm_sec=0, tm_wday=2, tm_yday=281, tm_isdst=0),\n",
       "   'updated': '2020-10-07T05:03:00Z',\n",
       "   'updated_parsed': time.struct_time(tm_year=2020, tm_mon=10, tm_mday=7, tm_hour=5, tm_min=3, tm_sec=0, tm_wday=2, tm_yday=281, tm_isdst=0),\n",
       "   'authors': [{'name': 'Java斗帝之路',\n",
       "     'href': 'http://www.cnblogs.com/javadoudi/'}],\n",
       "   'author_detail': {'name': 'Java斗帝之路',\n",
       "    'href': 'http://www.cnblogs.com/javadoudi/'},\n",
       "   'href': 'http://www.cnblogs.com/javadoudi/',\n",
       "   'author': 'Java斗帝之路',\n",
       "   'links': [{'rel': 'alternate',\n",
       "     'href': 'http://www.cnblogs.com/javadoudi/p/13777033.html',\n",
       "     'type': 'text/html'},\n",
       "    {'rel': 'alternate',\n",
       "     'type': 'text/html',\n",
       "     'href': 'http://www.cnblogs.com/javadoudi/p/13777033.html'}],\n",
       "   'content': [{'type': 'text/html',\n",
       "     'language': None,\n",
       "     'base': 'http://feed.cnblogs.com/blog/sitehome/rss',\n",
       "     'value': '【摘要】浏览器垃圾回收一直是前端面试常考的部分，我一直不太理解。最近深入学习了一下，争取一篇文章说清楚。 我们首先带着这 4 个问题，来了解浏览器垃圾回收的过程，后面会逐一解答： 浏览器怎么进行垃圾回收？ 浏览器中不同类型变量的内存都是何时释放？ 哪些情况会导致内存泄露？如何避免？ weakMap weak <a href=\"http://www.cnblogs.com/javadoudi/p/13777033.html\" target=\"_blank\">阅读全文</a>'}]},\n",
       "  {'id': 'http://www.cnblogs.com/lavezhang/p/13777018.html',\n",
       "   'guidislink': True,\n",
       "   'link': 'http://www.cnblogs.com/lavezhang/p/13777018.html',\n",
       "   'title': '如何用5000行JS撸一个关系型数据库 - 卡卡西村长',\n",
       "   'title_detail': {'type': 'text/plain',\n",
       "    'language': None,\n",
       "    'base': 'http://feed.cnblogs.com/blog/sitehome/rss',\n",
       "    'value': '如何用5000行JS撸一个关系型数据库 - 卡卡西村长'},\n",
       "   'summary': '首先声明，我不是标题党，我真的是用5000行左右的JS实现了一个轻量级的关系型数据库JSDB，核心是一个SQL编译器，支持增删改查。 源代码放到github上了：https://github.com/lavezhang/jsdb 如果你需要修改程序引入新的特性，请严格遵守GPL协议。 如果转发此文，',\n",
       "   'summary_detail': {'type': 'text/plain',\n",
       "    'language': None,\n",
       "    'base': 'http://feed.cnblogs.com/blog/sitehome/rss',\n",
       "    'value': '首先声明，我不是标题党，我真的是用5000行左右的JS实现了一个轻量级的关系型数据库JSDB，核心是一个SQL编译器，支持增删改查。 源代码放到github上了：https://github.com/lavezhang/jsdb 如果你需要修改程序引入新的特性，请严格遵守GPL协议。 如果转发此文，'},\n",
       "   'published': '2020-10-07T04:56:00Z',\n",
       "   'published_parsed': time.struct_time(tm_year=2020, tm_mon=10, tm_mday=7, tm_hour=4, tm_min=56, tm_sec=0, tm_wday=2, tm_yday=281, tm_isdst=0),\n",
       "   'updated': '2020-10-07T04:56:00Z',\n",
       "   'updated_parsed': time.struct_time(tm_year=2020, tm_mon=10, tm_mday=7, tm_hour=4, tm_min=56, tm_sec=0, tm_wday=2, tm_yday=281, tm_isdst=0),\n",
       "   'authors': [{'name': '卡卡西村长', 'href': 'http://www.cnblogs.com/lavezhang/'}],\n",
       "   'author_detail': {'name': '卡卡西村长',\n",
       "    'href': 'http://www.cnblogs.com/lavezhang/'},\n",
       "   'href': 'http://www.cnblogs.com/lavezhang/',\n",
       "   'author': '卡卡西村长',\n",
       "   'links': [{'rel': 'alternate',\n",
       "     'href': 'http://www.cnblogs.com/lavezhang/p/13777018.html',\n",
       "     'type': 'text/html'},\n",
       "    {'rel': 'alternate',\n",
       "     'type': 'text/html',\n",
       "     'href': 'http://www.cnblogs.com/lavezhang/p/13777018.html'}],\n",
       "   'content': [{'type': 'text/html',\n",
       "     'language': None,\n",
       "     'base': 'http://feed.cnblogs.com/blog/sitehome/rss',\n",
       "     'value': '【摘要】首先声明，我不是标题党，我真的是用5000行左右的JS实现了一个轻量级的关系型数据库JSDB，核心是一个SQL编译器，支持增删改查。 源代码放到github上了：https://github.com/lavezhang/jsdb 如果你需要修改程序引入新的特性，请严格遵守GPL协议。 如果转发此文， <a href=\"http://www.cnblogs.com/lavezhang/p/13777018.html\" target=\"_blank\">阅读全文</a>'}]},\n",
       "  {'id': 'http://www.cnblogs.com/zhixie/p/13777007.html',\n",
       "   'guidislink': True,\n",
       "   'link': 'http://www.cnblogs.com/zhixie/p/13777007.html',\n",
       "   'title': 'spring-boot-route（七）整合jdbcTemplate操作数据库 - Java旅途',\n",
       "   'title_detail': {'type': 'text/plain',\n",
       "    'language': None,\n",
       "    'base': 'http://feed.cnblogs.com/blog/sitehome/rss',\n",
       "    'value': 'spring-boot-route（七）整合jdbcTemplate操作数据库 - Java旅途'},\n",
       "   'summary': '在一部分内容中，我们学习了Restful接口的编写，及接口文档的生成。我们需要将接口数据进行持久化存储，这一部分我们主要学习几种持久化框架将数据进行存储。本部分内容中，我们都将使用mysql为例来做为演示数据库。 在刚开始接触数据库操作的时候我们都会使用JDBC来进行数据库操作，但是每次都要创建连接',\n",
       "   'summary_detail': {'type': 'text/plain',\n",
       "    'language': None,\n",
       "    'base': 'http://feed.cnblogs.com/blog/sitehome/rss',\n",
       "    'value': '在一部分内容中，我们学习了Restful接口的编写，及接口文档的生成。我们需要将接口数据进行持久化存储，这一部分我们主要学习几种持久化框架将数据进行存储。本部分内容中，我们都将使用mysql为例来做为演示数据库。 在刚开始接触数据库操作的时候我们都会使用JDBC来进行数据库操作，但是每次都要创建连接'},\n",
       "   'published': '2020-10-07T04:53:00Z',\n",
       "   'published_parsed': time.struct_time(tm_year=2020, tm_mon=10, tm_mday=7, tm_hour=4, tm_min=53, tm_sec=0, tm_wday=2, tm_yday=281, tm_isdst=0),\n",
       "   'updated': '2020-10-07T04:53:00Z',\n",
       "   'updated_parsed': time.struct_time(tm_year=2020, tm_mon=10, tm_mday=7, tm_hour=4, tm_min=53, tm_sec=0, tm_wday=2, tm_yday=281, tm_isdst=0),\n",
       "   'authors': [{'name': 'Java旅途', 'href': 'http://www.cnblogs.com/zhixie/'}],\n",
       "   'author_detail': {'name': 'Java旅途',\n",
       "    'href': 'http://www.cnblogs.com/zhixie/'},\n",
       "   'href': 'http://www.cnblogs.com/zhixie/',\n",
       "   'author': 'Java旅途',\n",
       "   'links': [{'rel': 'alternate',\n",
       "     'href': 'http://www.cnblogs.com/zhixie/p/13777007.html',\n",
       "     'type': 'text/html'},\n",
       "    {'rel': 'alternate',\n",
       "     'type': 'text/html',\n",
       "     'href': 'http://www.cnblogs.com/zhixie/p/13777007.html'}],\n",
       "   'content': [{'type': 'text/html',\n",
       "     'language': None,\n",
       "     'base': 'http://feed.cnblogs.com/blog/sitehome/rss',\n",
       "     'value': '【摘要】在一部分内容中，我们学习了Restful接口的编写，及接口文档的生成。我们需要将接口数据进行持久化存储，这一部分我们主要学习几种持久化框架将数据进行存储。本部分内容中，我们都将使用mysql为例来做为演示数据库。 在刚开始接触数据库操作的时候我们都会使用JDBC来进行数据库操作，但是每次都要创建连接 <a href=\"http://www.cnblogs.com/zhixie/p/13777007.html\" target=\"_blank\">阅读全文</a>'}]},\n",
       "  {'id': 'http://www.cnblogs.com/yychuyu/p/13776831.html',\n",
       "   'guidislink': True,\n",
       "   'link': 'http://www.cnblogs.com/yychuyu/p/13776831.html',\n",
       "   'title': 'Linux系统编程—信号集操作函数 - 良许Linux',\n",
       "   'title_detail': {'type': 'text/plain',\n",
       "    'language': None,\n",
       "    'base': 'http://feed.cnblogs.com/blog/sitehome/rss',\n",
       "    'value': 'Linux系统编程—信号集操作函数 - 良许Linux'},\n",
       "   'summary': '先来回顾一下未决信号集是怎么回事。 信号从产生到抵达目的地，叫作信号递达。而信号从产生到递达的中间状态，叫作信号的未决状态。产生未决状态的原因有可能是信号受到阻塞了，也就是信号屏蔽字（或称阻塞信号集，mask）对应位被置1。阻塞信号集和未决信号集均是由内核维护的，整个过程如下图示： 我们有时需要屏蔽',\n",
       "   'summary_detail': {'type': 'text/plain',\n",
       "    'language': None,\n",
       "    'base': 'http://feed.cnblogs.com/blog/sitehome/rss',\n",
       "    'value': '先来回顾一下未决信号集是怎么回事。 信号从产生到抵达目的地，叫作信号递达。而信号从产生到递达的中间状态，叫作信号的未决状态。产生未决状态的原因有可能是信号受到阻塞了，也就是信号屏蔽字（或称阻塞信号集，mask）对应位被置1。阻塞信号集和未决信号集均是由内核维护的，整个过程如下图示： 我们有时需要屏蔽'},\n",
       "   'published': '2020-10-07T03:54:00Z',\n",
       "   'published_parsed': time.struct_time(tm_year=2020, tm_mon=10, tm_mday=7, tm_hour=3, tm_min=54, tm_sec=0, tm_wday=2, tm_yday=281, tm_isdst=0),\n",
       "   'updated': '2020-10-07T03:54:00Z',\n",
       "   'updated_parsed': time.struct_time(tm_year=2020, tm_mon=10, tm_mday=7, tm_hour=3, tm_min=54, tm_sec=0, tm_wday=2, tm_yday=281, tm_isdst=0),\n",
       "   'authors': [{'name': '良许Linux', 'href': 'http://www.cnblogs.com/yychuyu/'}],\n",
       "   'author_detail': {'name': '良许Linux',\n",
       "    'href': 'http://www.cnblogs.com/yychuyu/'},\n",
       "   'href': 'http://www.cnblogs.com/yychuyu/',\n",
       "   'author': '良许Linux',\n",
       "   'links': [{'rel': 'alternate',\n",
       "     'href': 'http://www.cnblogs.com/yychuyu/p/13776831.html',\n",
       "     'type': 'text/html'},\n",
       "    {'rel': 'alternate',\n",
       "     'type': 'text/html',\n",
       "     'href': 'http://www.cnblogs.com/yychuyu/p/13776831.html'}],\n",
       "   'content': [{'type': 'text/html',\n",
       "     'language': None,\n",
       "     'base': 'http://feed.cnblogs.com/blog/sitehome/rss',\n",
       "     'value': '【摘要】先来回顾一下未决信号集是怎么回事。 信号从产生到抵达目的地，叫作信号递达。而信号从产生到递达的中间状态，叫作信号的未决状态。产生未决状态的原因有可能是信号受到阻塞了，也就是信号屏蔽字（或称阻塞信号集，mask）对应位被置1。阻塞信号集和未决信号集均是由内核维护的，整个过程如下图示： 我们有时需要屏蔽 <a href=\"http://www.cnblogs.com/yychuyu/p/13776831.html\" target=\"_blank\">阅读全文</a>'}]},\n",
       "  {'id': 'http://www.cnblogs.com/throwable/p/13776819.html',\n",
       "   'guidislink': True,\n",
       "   'link': 'http://www.cnblogs.com/throwable/p/13776819.html',\n",
       "   'title': '简化ETL工作，编写一个Canal胶水层 - throwable',\n",
       "   'title_detail': {'type': 'text/plain',\n",
       "    'language': None,\n",
       "    'base': 'http://feed.cnblogs.com/blog/sitehome/rss',\n",
       "    'value': '简化ETL工作，编写一个Canal胶水层 - throwable'},\n",
       "   'summary': '前提 这是一篇憋了很久的文章，一直想写，却又一直忘记了写。整篇文章可能会有点流水账，相对详细地介绍怎么写一个小型的\"框架\"。这个精悍的胶水层已经在生产环境服役超过半年，这里尝试把耦合业务的代码去掉，提炼出一个相对简洁的版本。 之前写的几篇文章里面其中一篇曾经提到过Canal解析MySQL的binlo',\n",
       "   'summary_detail': {'type': 'text/plain',\n",
       "    'language': None,\n",
       "    'base': 'http://feed.cnblogs.com/blog/sitehome/rss',\n",
       "    'value': '前提 这是一篇憋了很久的文章，一直想写，却又一直忘记了写。整篇文章可能会有点流水账，相对详细地介绍怎么写一个小型的\"框架\"。这个精悍的胶水层已经在生产环境服役超过半年，这里尝试把耦合业务的代码去掉，提炼出一个相对简洁的版本。 之前写的几篇文章里面其中一篇曾经提到过Canal解析MySQL的binlo'},\n",
       "   'published': '2020-10-07T03:51:00Z',\n",
       "   'published_parsed': time.struct_time(tm_year=2020, tm_mon=10, tm_mday=7, tm_hour=3, tm_min=51, tm_sec=0, tm_wday=2, tm_yday=281, tm_isdst=0),\n",
       "   'updated': '2020-10-07T03:51:00Z',\n",
       "   'updated_parsed': time.struct_time(tm_year=2020, tm_mon=10, tm_mday=7, tm_hour=3, tm_min=51, tm_sec=0, tm_wday=2, tm_yday=281, tm_isdst=0),\n",
       "   'authors': [{'name': 'throwable',\n",
       "     'href': 'http://www.cnblogs.com/throwable/'}],\n",
       "   'author_detail': {'name': 'throwable',\n",
       "    'href': 'http://www.cnblogs.com/throwable/'},\n",
       "   'href': 'http://www.cnblogs.com/throwable/',\n",
       "   'author': 'throwable',\n",
       "   'links': [{'rel': 'alternate',\n",
       "     'href': 'http://www.cnblogs.com/throwable/p/13776819.html',\n",
       "     'type': 'text/html'},\n",
       "    {'rel': 'alternate',\n",
       "     'type': 'text/html',\n",
       "     'href': 'http://www.cnblogs.com/throwable/p/13776819.html'}],\n",
       "   'content': [{'type': 'text/html',\n",
       "     'language': None,\n",
       "     'base': 'http://feed.cnblogs.com/blog/sitehome/rss',\n",
       "     'value': '【摘要】前提 这是一篇憋了很久的文章，一直想写，却又一直忘记了写。整篇文章可能会有点流水账，相对详细地介绍怎么写一个小型的\"框架\"。这个精悍的胶水层已经在生产环境服役超过半年，这里尝试把耦合业务的代码去掉，提炼出一个相对简洁的版本。 之前写的几篇文章里面其中一篇曾经提到过Canal解析MySQL的binlo <a href=\"http://www.cnblogs.com/throwable/p/13776819.html\" target=\"_blank\">阅读全文</a>'}]},\n",
       "  {'id': 'http://www.cnblogs.com/diffx/p/13776794.html',\n",
       "   'guidislink': True,\n",
       "   'link': 'http://www.cnblogs.com/diffx/p/13776794.html',\n",
       "   'title': 'VPS教程：搭建个人网盘教程—kodexplorer - 这个人在加班',\n",
       "   'title_detail': {'type': 'text/plain',\n",
       "    'language': None,\n",
       "    'base': 'http://feed.cnblogs.com/blog/sitehome/rss',\n",
       "    'value': 'VPS教程：搭建个人网盘教程—kodexplorer - 这个人在加班'},\n",
       "   'summary': 'kodexplorer网盘系统。Kodexplorer，也叫芒果云、可道云、kodcloud，总之名字改了不少。但其本身作为一个网盘文件系统，还是有很多可圈可点的地方。 seafile、h5ai、kodexplorer 三者的特点优劣势分析比较，参考《VPS 搭个人网盘，seafile、kodexp',\n",
       "   'summary_detail': {'type': 'text/plain',\n",
       "    'language': None,\n",
       "    'base': 'http://feed.cnblogs.com/blog/sitehome/rss',\n",
       "    'value': 'kodexplorer网盘系统。Kodexplorer，也叫芒果云、可道云、kodcloud，总之名字改了不少。但其本身作为一个网盘文件系统，还是有很多可圈可点的地方。 seafile、h5ai、kodexplorer 三者的特点优劣势分析比较，参考《VPS 搭个人网盘，seafile、kodexp'},\n",
       "   'published': '2020-10-07T03:43:00Z',\n",
       "   'published_parsed': time.struct_time(tm_year=2020, tm_mon=10, tm_mday=7, tm_hour=3, tm_min=43, tm_sec=0, tm_wday=2, tm_yday=281, tm_isdst=0),\n",
       "   'updated': '2020-10-07T03:43:00Z',\n",
       "   'updated_parsed': time.struct_time(tm_year=2020, tm_mon=10, tm_mday=7, tm_hour=3, tm_min=43, tm_sec=0, tm_wday=2, tm_yday=281, tm_isdst=0),\n",
       "   'authors': [{'name': '这个人在加班', 'href': 'http://www.cnblogs.com/diffx/'}],\n",
       "   'author_detail': {'name': '这个人在加班',\n",
       "    'href': 'http://www.cnblogs.com/diffx/'},\n",
       "   'href': 'http://www.cnblogs.com/diffx/',\n",
       "   'author': '这个人在加班',\n",
       "   'links': [{'rel': 'alternate',\n",
       "     'href': 'http://www.cnblogs.com/diffx/p/13776794.html',\n",
       "     'type': 'text/html'},\n",
       "    {'rel': 'alternate',\n",
       "     'type': 'text/html',\n",
       "     'href': 'http://www.cnblogs.com/diffx/p/13776794.html'}],\n",
       "   'content': [{'type': 'text/html',\n",
       "     'language': None,\n",
       "     'base': 'http://feed.cnblogs.com/blog/sitehome/rss',\n",
       "     'value': '【摘要】kodexplorer网盘系统。Kodexplorer，也叫芒果云、可道云、kodcloud，总之名字改了不少。但其本身作为一个网盘文件系统，还是有很多可圈可点的地方。 seafile、h5ai、kodexplorer 三者的特点优劣势分析比较，参考《VPS 搭个人网盘，seafile、kodexp <a href=\"http://www.cnblogs.com/diffx/p/13776794.html\" target=\"_blank\">阅读全文</a>'}]},\n",
       "  {'id': 'http://www.cnblogs.com/PythonLearner/p/13776682.html',\n",
       "   'guidislink': True,\n",
       "   'link': 'http://www.cnblogs.com/PythonLearner/p/13776682.html',\n",
       "   'title': '【小白学PyTorch】19 TF2模型的存储与载入 - 忽逢桃林',\n",
       "   'title_detail': {'type': 'text/plain',\n",
       "    'language': None,\n",
       "    'base': 'http://feed.cnblogs.com/blog/sitehome/rss',\n",
       "    'value': '【小白学PyTorch】19 TF2模型的存储与载入 - 忽逢桃林'},\n",
       "   'summary': '【新闻】：机器学习炼丹术的粉丝的人工智能交流群已经建立，目前有目标检测、医学图像、时间序列等多个目标为技术学习的分群和水群唠嗑的总群，欢迎大家加炼丹兄为好友，加入炼丹协会。微信：cyx645016617. 参考目录： 本文主要讲述TF2.0的模型文件的存储和载入的多种方法。主要分成两类型：模型结构和',\n",
       "   'summary_detail': {'type': 'text/plain',\n",
       "    'language': None,\n",
       "    'base': 'http://feed.cnblogs.com/blog/sitehome/rss',\n",
       "    'value': '【新闻】：机器学习炼丹术的粉丝的人工智能交流群已经建立，目前有目标检测、医学图像、时间序列等多个目标为技术学习的分群和水群唠嗑的总群，欢迎大家加炼丹兄为好友，加入炼丹协会。微信：cyx645016617. 参考目录： 本文主要讲述TF2.0的模型文件的存储和载入的多种方法。主要分成两类型：模型结构和'},\n",
       "   'published': '2020-10-07T03:15:00Z',\n",
       "   'published_parsed': time.struct_time(tm_year=2020, tm_mon=10, tm_mday=7, tm_hour=3, tm_min=15, tm_sec=0, tm_wday=2, tm_yday=281, tm_isdst=0),\n",
       "   'updated': '2020-10-07T03:15:00Z',\n",
       "   'updated_parsed': time.struct_time(tm_year=2020, tm_mon=10, tm_mday=7, tm_hour=3, tm_min=15, tm_sec=0, tm_wday=2, tm_yday=281, tm_isdst=0),\n",
       "   'authors': [{'name': '忽逢桃林',\n",
       "     'href': 'http://www.cnblogs.com/PythonLearner/'}],\n",
       "   'author_detail': {'name': '忽逢桃林',\n",
       "    'href': 'http://www.cnblogs.com/PythonLearner/'},\n",
       "   'href': 'http://www.cnblogs.com/PythonLearner/',\n",
       "   'author': '忽逢桃林',\n",
       "   'links': [{'rel': 'alternate',\n",
       "     'href': 'http://www.cnblogs.com/PythonLearner/p/13776682.html',\n",
       "     'type': 'text/html'},\n",
       "    {'rel': 'alternate',\n",
       "     'type': 'text/html',\n",
       "     'href': 'http://www.cnblogs.com/PythonLearner/p/13776682.html'}],\n",
       "   'content': [{'type': 'text/html',\n",
       "     'language': None,\n",
       "     'base': 'http://feed.cnblogs.com/blog/sitehome/rss',\n",
       "     'value': '【摘要】【新闻】：机器学习炼丹术的粉丝的人工智能交流群已经建立，目前有目标检测、医学图像、时间序列等多个目标为技术学习的分群和水群唠嗑的总群，欢迎大家加炼丹兄为好友，加入炼丹协会。微信：cyx645016617. 参考目录： 本文主要讲述TF2.0的模型文件的存储和载入的多种方法。主要分成两类型：模型结构和 <a href=\"http://www.cnblogs.com/PythonLearner/p/13776682.html\" target=\"_blank\">阅读全文</a>'}]},\n",
       "  {'id': 'http://www.cnblogs.com/xiaxiangx/p/13776670.html',\n",
       "   'guidislink': True,\n",
       "   'link': 'http://www.cnblogs.com/xiaxiangx/p/13776670.html',\n",
       "   'title': 'three.js学习5_渲染器 - 随遇丿而安',\n",
       "   'title_detail': {'type': 'text/plain',\n",
       "    'language': None,\n",
       "    'base': 'http://feed.cnblogs.com/blog/sitehome/rss',\n",
       "    'value': 'three.js学习5_渲染器 - 随遇丿而安'},\n",
       "   'summary': 'THREE.WebGLRenderer WebGL Render 用WebGL渲染出你精心制作的场景 介绍 在之前的介绍中, 已经介绍过场景, 相机, 光源, 有了这些后, 就可以形成一个可观的三维展示效果, 但是, 若想让它展示在网页上, 就需要渲染器渲染到网页上 那WebGL又是啥, 这里借用百',\n",
       "   'summary_detail': {'type': 'text/plain',\n",
       "    'language': None,\n",
       "    'base': 'http://feed.cnblogs.com/blog/sitehome/rss',\n",
       "    'value': 'THREE.WebGLRenderer WebGL Render 用WebGL渲染出你精心制作的场景 介绍 在之前的介绍中, 已经介绍过场景, 相机, 光源, 有了这些后, 就可以形成一个可观的三维展示效果, 但是, 若想让它展示在网页上, 就需要渲染器渲染到网页上 那WebGL又是啥, 这里借用百'},\n",
       "   'published': '2020-10-07T03:12:00Z',\n",
       "   'published_parsed': time.struct_time(tm_year=2020, tm_mon=10, tm_mday=7, tm_hour=3, tm_min=12, tm_sec=0, tm_wday=2, tm_yday=281, tm_isdst=0),\n",
       "   'updated': '2020-10-07T03:12:00Z',\n",
       "   'updated_parsed': time.struct_time(tm_year=2020, tm_mon=10, tm_mday=7, tm_hour=3, tm_min=12, tm_sec=0, tm_wday=2, tm_yday=281, tm_isdst=0),\n",
       "   'authors': [{'name': '随遇丿而安', 'href': 'http://www.cnblogs.com/xiaxiangx/'}],\n",
       "   'author_detail': {'name': '随遇丿而安',\n",
       "    'href': 'http://www.cnblogs.com/xiaxiangx/'},\n",
       "   'href': 'http://www.cnblogs.com/xiaxiangx/',\n",
       "   'author': '随遇丿而安',\n",
       "   'links': [{'rel': 'alternate',\n",
       "     'href': 'http://www.cnblogs.com/xiaxiangx/p/13776670.html',\n",
       "     'type': 'text/html'},\n",
       "    {'rel': 'alternate',\n",
       "     'type': 'text/html',\n",
       "     'href': 'http://www.cnblogs.com/xiaxiangx/p/13776670.html'}],\n",
       "   'content': [{'type': 'text/html',\n",
       "     'language': None,\n",
       "     'base': 'http://feed.cnblogs.com/blog/sitehome/rss',\n",
       "     'value': '【摘要】THREE.WebGLRenderer WebGL Render 用WebGL渲染出你精心制作的场景 介绍 在之前的介绍中, 已经介绍过场景, 相机, 光源, 有了这些后, 就可以形成一个可观的三维展示效果, 但是, 若想让它展示在网页上, 就需要渲染器渲染到网页上 那WebGL又是啥, 这里借用百 <a href=\"http://www.cnblogs.com/xiaxiangx/p/13776670.html\" target=\"_blank\">阅读全文</a>'}]},\n",
       "  {'id': 'http://www.cnblogs.com/mxjhaima/p/13775844.html',\n",
       "   'guidislink': True,\n",
       "   'link': 'http://www.cnblogs.com/mxjhaima/p/13775844.html',\n",
       "   'title': 'python使用xpath（超详细） - 梦想家haima',\n",
       "   'title_detail': {'type': 'text/plain',\n",
       "    'language': None,\n",
       "    'base': 'http://feed.cnblogs.com/blog/sitehome/rss',\n",
       "    'value': 'python使用xpath（超详细） - 梦想家haima'},\n",
       "   'summary': '使用时先安装 lxml 包 开始使用 和beautifulsoup类似，首先我们需要得到一个文档树 把文本转换成一个文档树对象 from lxml import etree if __name__ == \\'__main__\\': doc=\\'\\'\\' <div> <ul> <li class=\"item-0',\n",
       "   'summary_detail': {'type': 'text/plain',\n",
       "    'language': None,\n",
       "    'base': 'http://feed.cnblogs.com/blog/sitehome/rss',\n",
       "    'value': '使用时先安装 lxml 包 开始使用 和beautifulsoup类似，首先我们需要得到一个文档树 把文本转换成一个文档树对象 from lxml import etree if __name__ == \\'__main__\\': doc=\\'\\'\\' <div> <ul> <li class=\"item-0'},\n",
       "   'published': '2020-10-07T03:08:00Z',\n",
       "   'published_parsed': time.struct_time(tm_year=2020, tm_mon=10, tm_mday=7, tm_hour=3, tm_min=8, tm_sec=0, tm_wday=2, tm_yday=281, tm_isdst=0),\n",
       "   'updated': '2020-10-07T03:08:00Z',\n",
       "   'updated_parsed': time.struct_time(tm_year=2020, tm_mon=10, tm_mday=7, tm_hour=3, tm_min=8, tm_sec=0, tm_wday=2, tm_yday=281, tm_isdst=0),\n",
       "   'authors': [{'name': '梦想家haima',\n",
       "     'href': 'http://www.cnblogs.com/mxjhaima/'}],\n",
       "   'author_detail': {'name': '梦想家haima',\n",
       "    'href': 'http://www.cnblogs.com/mxjhaima/'},\n",
       "   'href': 'http://www.cnblogs.com/mxjhaima/',\n",
       "   'author': '梦想家haima',\n",
       "   'links': [{'rel': 'alternate',\n",
       "     'href': 'http://www.cnblogs.com/mxjhaima/p/13775844.html',\n",
       "     'type': 'text/html'},\n",
       "    {'rel': 'alternate',\n",
       "     'type': 'text/html',\n",
       "     'href': 'http://www.cnblogs.com/mxjhaima/p/13775844.html'}],\n",
       "   'content': [{'type': 'text/html',\n",
       "     'language': None,\n",
       "     'base': 'http://feed.cnblogs.com/blog/sitehome/rss',\n",
       "     'value': '【摘要】使用时先安装 lxml 包 开始使用 和beautifulsoup类似，首先我们需要得到一个文档树 把文本转换成一个文档树对象 from lxml import etree if __name__ == \\'__main__\\': doc=\\'\\'\\' <div> <ul> <li class=\"item-0 <a href=\"http://www.cnblogs.com/mxjhaima/p/13775844.html\" target=\"_blank\">阅读全文</a>'}]},\n",
       "  {'id': 'http://www.cnblogs.com/binghe001/p/13776627.html',\n",
       "   'guidislink': True,\n",
       "   'link': 'http://www.cnblogs.com/binghe001/p/13776627.html',\n",
       "   'title': '我把这个贼好用的Excel导出工具开源了！！ - 冰河团队',\n",
       "   'title_detail': {'type': 'text/plain',\n",
       "    'language': None,\n",
       "    'base': 'http://feed.cnblogs.com/blog/sitehome/rss',\n",
       "    'value': '我把这个贼好用的Excel导出工具开源了！！ - 冰河团队'},\n",
       "   'summary': '写在前面 不管是传统软件企业还是互联网企业，不管是管理软件还是面向C端的互联网应用。都不可避免的会涉及到报表操作，而对于报表业务来说，一个很重要的功能就是将数据导出到Excel。如果我们在业务代码中，嵌入很多导出Excel的逻辑，那我们的代码就会变得异常臃肿，不利于维护，而且导出Excel的核心逻辑',\n",
       "   'summary_detail': {'type': 'text/plain',\n",
       "    'language': None,\n",
       "    'base': 'http://feed.cnblogs.com/blog/sitehome/rss',\n",
       "    'value': '写在前面 不管是传统软件企业还是互联网企业，不管是管理软件还是面向C端的互联网应用。都不可避免的会涉及到报表操作，而对于报表业务来说，一个很重要的功能就是将数据导出到Excel。如果我们在业务代码中，嵌入很多导出Excel的逻辑，那我们的代码就会变得异常臃肿，不利于维护，而且导出Excel的核心逻辑'},\n",
       "   'published': '2020-10-07T02:59:00Z',\n",
       "   'published_parsed': time.struct_time(tm_year=2020, tm_mon=10, tm_mday=7, tm_hour=2, tm_min=59, tm_sec=0, tm_wday=2, tm_yday=281, tm_isdst=0),\n",
       "   'updated': '2020-10-07T02:59:00Z',\n",
       "   'updated_parsed': time.struct_time(tm_year=2020, tm_mon=10, tm_mday=7, tm_hour=2, tm_min=59, tm_sec=0, tm_wday=2, tm_yday=281, tm_isdst=0),\n",
       "   'authors': [{'name': '冰河团队', 'href': 'http://www.cnblogs.com/binghe001/'}],\n",
       "   'author_detail': {'name': '冰河团队',\n",
       "    'href': 'http://www.cnblogs.com/binghe001/'},\n",
       "   'href': 'http://www.cnblogs.com/binghe001/',\n",
       "   'author': '冰河团队',\n",
       "   'links': [{'rel': 'alternate',\n",
       "     'href': 'http://www.cnblogs.com/binghe001/p/13776627.html',\n",
       "     'type': 'text/html'},\n",
       "    {'rel': 'alternate',\n",
       "     'type': 'text/html',\n",
       "     'href': 'http://www.cnblogs.com/binghe001/p/13776627.html'}],\n",
       "   'content': [{'type': 'text/html',\n",
       "     'language': None,\n",
       "     'base': 'http://feed.cnblogs.com/blog/sitehome/rss',\n",
       "     'value': '【摘要】写在前面 不管是传统软件企业还是互联网企业，不管是管理软件还是面向C端的互联网应用。都不可避免的会涉及到报表操作，而对于报表业务来说，一个很重要的功能就是将数据导出到Excel。如果我们在业务代码中，嵌入很多导出Excel的逻辑，那我们的代码就会变得异常臃肿，不利于维护，而且导出Excel的核心逻辑 <a href=\"http://www.cnblogs.com/binghe001/p/13776627.html\" target=\"_blank\">阅读全文</a>'}]},\n",
       "  {'id': 'http://www.cnblogs.com/xingrenguanxue/p/13776610.html',\n",
       "   'guidislink': True,\n",
       "   'link': 'http://www.cnblogs.com/xingrenguanxue/p/13776610.html',\n",
       "   'title': '【保姆级教程】手把手教你进行Go语言环境安装及相关VSCode配置 - 行人观学',\n",
       "   'title_detail': {'type': 'text/plain',\n",
       "    'language': None,\n",
       "    'base': 'http://feed.cnblogs.com/blog/sitehome/rss',\n",
       "    'value': '【保姆级教程】手把手教你进行Go语言环境安装及相关VSCode配置 - 行人观学'},\n",
       "   'summary': '【Go语言入门系列】前面的文章： 【Go语言入门系列】（七）如何使用Go的方法？ 【Go语言入门系列】（八）Go语言是不是面向对象语言？ 【Go语言入门系列】（九）写这些就是为了搞懂怎么用接口 本篇文章介绍Go的环境安装和VSCode的配置使用。 所需环境： Windows 10 Go语言安装包 V',\n",
       "   'summary_detail': {'type': 'text/plain',\n",
       "    'language': None,\n",
       "    'base': 'http://feed.cnblogs.com/blog/sitehome/rss',\n",
       "    'value': '【Go语言入门系列】前面的文章： 【Go语言入门系列】（七）如何使用Go的方法？ 【Go语言入门系列】（八）Go语言是不是面向对象语言？ 【Go语言入门系列】（九）写这些就是为了搞懂怎么用接口 本篇文章介绍Go的环境安装和VSCode的配置使用。 所需环境： Windows 10 Go语言安装包 V'},\n",
       "   'published': '2020-10-07T02:54:00Z',\n",
       "   'published_parsed': time.struct_time(tm_year=2020, tm_mon=10, tm_mday=7, tm_hour=2, tm_min=54, tm_sec=0, tm_wday=2, tm_yday=281, tm_isdst=0),\n",
       "   'updated': '2020-10-07T02:54:00Z',\n",
       "   'updated_parsed': time.struct_time(tm_year=2020, tm_mon=10, tm_mday=7, tm_hour=2, tm_min=54, tm_sec=0, tm_wday=2, tm_yday=281, tm_isdst=0),\n",
       "   'authors': [{'name': '行人观学',\n",
       "     'href': 'http://www.cnblogs.com/xingrenguanxue/'}],\n",
       "   'author_detail': {'name': '行人观学',\n",
       "    'href': 'http://www.cnblogs.com/xingrenguanxue/'},\n",
       "   'href': 'http://www.cnblogs.com/xingrenguanxue/',\n",
       "   'author': '行人观学',\n",
       "   'links': [{'rel': 'alternate',\n",
       "     'href': 'http://www.cnblogs.com/xingrenguanxue/p/13776610.html',\n",
       "     'type': 'text/html'},\n",
       "    {'rel': 'alternate',\n",
       "     'type': 'text/html',\n",
       "     'href': 'http://www.cnblogs.com/xingrenguanxue/p/13776610.html'}],\n",
       "   'content': [{'type': 'text/html',\n",
       "     'language': None,\n",
       "     'base': 'http://feed.cnblogs.com/blog/sitehome/rss',\n",
       "     'value': '【摘要】【Go语言入门系列】前面的文章： 【Go语言入门系列】（七）如何使用Go的方法？ 【Go语言入门系列】（八）Go语言是不是面向对象语言？ 【Go语言入门系列】（九）写这些就是为了搞懂怎么用接口 本篇文章介绍Go的环境安装和VSCode的配置使用。 所需环境： Windows 10 Go语言安装包 V <a href=\"http://www.cnblogs.com/xingrenguanxue/p/13776610.html\" target=\"_blank\">阅读全文</a>'}]},\n",
       "  {'id': 'http://www.cnblogs.com/xiximayou/p/13776568.html',\n",
       "   'guidislink': True,\n",
       "   'link': 'http://www.cnblogs.com/xiximayou/p/13776568.html',\n",
       "   'title': 'pytorch和tensorflow的爱恨情仇之参数初始化 - 西西嘛呦',\n",
       "   'title_detail': {'type': 'text/plain',\n",
       "    'language': None,\n",
       "    'base': 'http://feed.cnblogs.com/blog/sitehome/rss',\n",
       "    'value': 'pytorch和tensorflow的爱恨情仇之参数初始化 - 西西嘛呦'},\n",
       "   'summary': 'pytorch和tensorflow的爱恨情仇之基本数据类型 pytorch和tensorflow的爱恨情仇之张量 pytorch和tensorflow的爱恨情仇之定义可训练的参数 pytorch版本：1.6.0 tensorflow版本：1.15.0 关于参数初始化，主要的就是一些数学中的分布，比',\n",
       "   'summary_detail': {'type': 'text/plain',\n",
       "    'language': None,\n",
       "    'base': 'http://feed.cnblogs.com/blog/sitehome/rss',\n",
       "    'value': 'pytorch和tensorflow的爱恨情仇之基本数据类型 pytorch和tensorflow的爱恨情仇之张量 pytorch和tensorflow的爱恨情仇之定义可训练的参数 pytorch版本：1.6.0 tensorflow版本：1.15.0 关于参数初始化，主要的就是一些数学中的分布，比'},\n",
       "   'published': '2020-10-07T02:39:00Z',\n",
       "   'published_parsed': time.struct_time(tm_year=2020, tm_mon=10, tm_mday=7, tm_hour=2, tm_min=39, tm_sec=0, tm_wday=2, tm_yday=281, tm_isdst=0),\n",
       "   'updated': '2020-10-07T02:39:00Z',\n",
       "   'updated_parsed': time.struct_time(tm_year=2020, tm_mon=10, tm_mday=7, tm_hour=2, tm_min=39, tm_sec=0, tm_wday=2, tm_yday=281, tm_isdst=0),\n",
       "   'authors': [{'name': '西西嘛呦', 'href': 'http://www.cnblogs.com/xiximayou/'}],\n",
       "   'author_detail': {'name': '西西嘛呦',\n",
       "    'href': 'http://www.cnblogs.com/xiximayou/'},\n",
       "   'href': 'http://www.cnblogs.com/xiximayou/',\n",
       "   'author': '西西嘛呦',\n",
       "   'links': [{'rel': 'alternate',\n",
       "     'href': 'http://www.cnblogs.com/xiximayou/p/13776568.html',\n",
       "     'type': 'text/html'},\n",
       "    {'rel': 'alternate',\n",
       "     'type': 'text/html',\n",
       "     'href': 'http://www.cnblogs.com/xiximayou/p/13776568.html'}],\n",
       "   'content': [{'type': 'text/html',\n",
       "     'language': None,\n",
       "     'base': 'http://feed.cnblogs.com/blog/sitehome/rss',\n",
       "     'value': '【摘要】pytorch和tensorflow的爱恨情仇之基本数据类型 pytorch和tensorflow的爱恨情仇之张量 pytorch和tensorflow的爱恨情仇之定义可训练的参数 pytorch版本：1.6.0 tensorflow版本：1.15.0 关于参数初始化，主要的就是一些数学中的分布，比 <a href=\"http://www.cnblogs.com/xiximayou/p/13776568.html\" target=\"_blank\">阅读全文</a>'}]}],\n",
       " 'bozo': 0,\n",
       " 'headers': {'Cache-Control': 'private',\n",
       "  'Content-Type': 'application/xml',\n",
       "  'Server': 'Microsoft-IIS/8.5',\n",
       "  'Set-Cookie': 'ASP.NET_SessionId=1gv1jlt2010yuceo0igmrjco; path=/; HttpOnly; SameSite=Lax',\n",
       "  'X-AspNetMvc-Version': '4.0',\n",
       "  'X-AspNet-Version': '4.0.30319',\n",
       "  'X-Powered-By': 'ASP.NET',\n",
       "  'X-UA-Compatible': 'IE=10',\n",
       "  'Date': 'Wed, 07 Oct 2020 08:41:52 GMT',\n",
       "  'Connection': 'close',\n",
       "  'Content-Length': '29464'},\n",
       " 'href': 'http://feed.cnblogs.com/blog/sitehome/rss',\n",
       " 'status': 200,\n",
       " 'encoding': 'utf-8',\n",
       " 'version': 'atom10',\n",
       " 'namespaces': {'': 'http://www.w3.org/2005/Atom'}}"
      ]
     },
     "execution_count": 22,
     "metadata": {},
     "output_type": "execute_result"
    }
   ],
   "source": [
    "d"
   ]
  },
  {
   "cell_type": "code",
   "execution_count": null,
   "metadata": {},
   "outputs": [],
   "source": []
  }
 ],
 "metadata": {
  "kernelspec": {
   "display_name": "Python 3",
   "language": "python",
   "name": "python3"
  },
  "language_info": {
   "codemirror_mode": {
    "name": "ipython",
    "version": 3
   },
   "file_extension": ".py",
   "mimetype": "text/x-python",
   "name": "python",
   "nbconvert_exporter": "python",
   "pygments_lexer": "ipython3",
   "version": "3.7.3"
  }
 },
 "nbformat": 4,
 "nbformat_minor": 2
}
