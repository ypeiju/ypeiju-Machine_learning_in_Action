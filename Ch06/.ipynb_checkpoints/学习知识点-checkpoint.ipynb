{
 "cells": [
  {
   "cell_type": "code",
   "execution_count": 1,
   "metadata": {},
   "outputs": [],
   "source": [
    "import numpy as np"
   ]
  },
  {
   "cell_type": "code",
   "execution_count": 6,
   "metadata": {},
   "outputs": [],
   "source": [
    "j = int(random.uniform(0,10))"
   ]
  },
  {
   "cell_type": "code",
   "execution_count": 7,
   "metadata": {},
   "outputs": [],
   "source": [
    "t=np.arange(4)"
   ]
  },
  {
   "cell_type": "code",
   "execution_count": 8,
   "metadata": {},
   "outputs": [
    {
     "name": "stdout",
     "output_type": "stream",
     "text": [
      "[0 1 2 3]\n"
     ]
    }
   ],
   "source": [
    "print(t)"
   ]
  },
  {
   "cell_type": "code",
   "execution_count": 9,
   "metadata": {},
   "outputs": [],
   "source": [
    "j=mat(t)"
   ]
  },
  {
   "cell_type": "code",
   "execution_count": 10,
   "metadata": {},
   "outputs": [
    {
     "name": "stdout",
     "output_type": "stream",
     "text": [
      "[[0 1 2 3]]\n"
     ]
    }
   ],
   "source": [
    "print(j)"
   ]
  },
  {
   "cell_type": "code",
   "execution_count": 11,
   "metadata": {},
   "outputs": [
    {
     "data": {
      "text/plain": [
       "matrix([[0],\n",
       "        [1],\n",
       "        [2],\n",
       "        [3]])"
      ]
     },
     "execution_count": 11,
     "metadata": {},
     "output_type": "execute_result"
    }
   ],
   "source": [
    "j.transpose()"
   ]
  },
  {
   "cell_type": "code",
   "execution_count": 2,
   "metadata": {},
   "outputs": [],
   "source": [
    " x1 = np.arange(9.0).reshape((3, 3))"
   ]
  },
  {
   "cell_type": "code",
   "execution_count": 3,
   "metadata": {},
   "outputs": [
    {
     "data": {
      "text/plain": [
       "array([[0., 1., 2.],\n",
       "       [3., 4., 5.],\n",
       "       [6., 7., 8.]])"
      ]
     },
     "execution_count": 3,
     "metadata": {},
     "output_type": "execute_result"
    }
   ],
   "source": [
    "x1"
   ]
  },
  {
   "cell_type": "code",
   "execution_count": 4,
   "metadata": {},
   "outputs": [],
   "source": [
    " x2 = np.arange(3.0)"
   ]
  },
  {
   "cell_type": "code",
   "execution_count": 5,
   "metadata": {},
   "outputs": [
    {
     "data": {
      "text/plain": [
       "array([0., 1., 2.])"
      ]
     },
     "execution_count": 5,
     "metadata": {},
     "output_type": "execute_result"
    }
   ],
   "source": [
    "x2"
   ]
  },
  {
   "cell_type": "code",
   "execution_count": 6,
   "metadata": {},
   "outputs": [
    {
     "data": {
      "text/plain": [
       "array([[ 0.,  1.,  4.],\n",
       "       [ 0.,  4., 10.],\n",
       "       [ 0.,  7., 16.]])"
      ]
     },
     "execution_count": 6,
     "metadata": {},
     "output_type": "execute_result"
    }
   ],
   "source": [
    "np.multiply(x1, x2)"
   ]
  },
  {
   "cell_type": "code",
   "execution_count": 8,
   "metadata": {},
   "outputs": [
    {
     "ename": "SyntaxError",
     "evalue": "invalid syntax (<ipython-input-8-01250e4a0ceb>, line 2)",
     "output_type": "error",
     "traceback": [
      "\u001b[1;36m  File \u001b[1;32m\"<ipython-input-8-01250e4a0ceb>\"\u001b[1;36m, line \u001b[1;32m2\u001b[0m\n\u001b[1;33m    another_two_dim_matrix_one = np.array([[7, 8, 9])\u001b[0m\n\u001b[1;37m                                                    ^\u001b[0m\n\u001b[1;31mSyntaxError\u001b[0m\u001b[1;31m:\u001b[0m invalid syntax\n"
     ]
    }
   ],
   "source": [
    "two_dim_matrix_one = np.array([[1, 2, 3], [4, 5, 6]])\n",
    "another_two_dim_matrix_one = np.array([[7, 8, 9])\n",
    "\n",
    "# 对应元素相乘 element-wise product\n",
    "element_wise = two_dim_matrix_one * another_two_dim_matrix_one\n",
    "print('element wise product: %s' %(element_wise))"
   ]
  },
  {
   "cell_type": "code",
   "execution_count": 10,
   "metadata": {},
   "outputs": [
    {
     "data": {
      "image/png": "[encoded data removed]",
      "text/plain": [
       "<Figure size 432x288 with 1 Axes>"
      ]
     },
     "metadata": {
      "needs_background": "light"
     },
     "output_type": "display_data"
    }
   ],
   "source": [
    "# -*- coding:UTF-8 -*-\n",
    "import matplotlib.pyplot as plt\n",
    "import numpy as np\n",
    "%matplotlib inline\n",
    "\"\"\"\n",
    "函数说明:读取数据\n",
    "\n",
    "Parameters:\n",
    "    fileName - 文件名\n",
    "Returns:\n",
    "    dataMat - 数据矩阵\n",
    "    labelMat - 数据标签\n",
    "Author:\n",
    "    Jack Cui\n",
    "Blog:\n",
    "    http://blog.csdn.net/c406495762\n",
    "Zhihu:\n",
    "    https://www.zhihu.com/people/Jack--Cui/\n",
    "Modify:\n",
    "    2017-09-21\n",
    "\"\"\"\n",
    "def loadDataSet(fileName):\n",
    "    dataMat = []; labelMat = []\n",
    "    fr = open(fileName)\n",
    "    for line in fr.readlines():                                     #逐行读取，滤除空格等\n",
    "        lineArr = line.strip().split('\\t')\n",
    "        dataMat.append([float(lineArr[0]), float(lineArr[1])])      #添加数据\n",
    "        labelMat.append(float(lineArr[2]))                          #添加标签\n",
    "    return dataMat,labelMat\n",
    "\n",
    "\"\"\"\n",
    "函数说明:数据可视化\n",
    "\n",
    "Parameters:\n",
    "    dataMat - 数据矩阵\n",
    "    labelMat - 数据标签\n",
    "Returns:\n",
    "    无\n",
    "Author:\n",
    "    Jack Cui\n",
    "Blog:\n",
    "    http://blog.csdn.net/c406495762\n",
    "Zhihu:\n",
    "    https://www.zhihu.com/people/Jack--Cui/\n",
    "Modify:\n",
    "    2017-09-21\n",
    "\"\"\"\n",
    "def showDataSet(dataMat, labelMat):\n",
    "    data_plus = []                                  #正样本\n",
    "    data_minus = []                                 #负样本\n",
    "    for i in range(len(dataMat)):\n",
    "        if labelMat[i] > 0:\n",
    "            data_plus.append(dataMat[i])\n",
    "        else:\n",
    "            data_minus.append(dataMat[i])\n",
    "    data_plus_np = np.array(data_plus)              #转换为numpy矩阵\n",
    "    data_minus_np = np.array(data_minus)            #转换为numpy矩阵\n",
    "    plt.scatter(np.transpose(data_plus_np)[0], np.transpose(data_plus_np)[1])   #正样本散点图\n",
    "    plt.scatter(np.transpose(data_minus_np)[0], np.transpose(data_minus_np)[1]) #负样本散点图\n",
    "    plt.show()\n",
    "\n",
    "if __name__ == '__main__':\n",
    "    dataMat, labelMat = loadDataSet('testSet.txt')\n",
    "    showDataSet(dataMat, labelMat)\n",
    "dataArr,labelArr=loadDataSet(\"testSet.txt\")"
   ]
  },
  {
   "cell_type": "code",
   "execution_count": 12,
   "metadata": {},
   "outputs": [],
   "source": [
    "dataMatrix = np.mat(dataMat); labelMat = np.mat(labelMat).transpose()"
   ]
  },
  {
   "cell_type": "code",
   "execution_count": 13,
   "metadata": {},
   "outputs": [
    {
     "data": {
      "text/plain": [
       "matrix([[ 3.542485e+00,  1.977398e+00],\n",
       "        [ 3.018896e+00,  2.556416e+00],\n",
       "        [ 7.551510e+00, -1.580030e+00],\n",
       "        [ 2.114999e+00, -4.466000e-03],\n",
       "        [ 8.127113e+00,  1.274372e+00],\n",
       "        [ 7.108772e+00, -9.869060e-01],\n",
       "        [ 8.610639e+00,  2.046708e+00],\n",
       "        [ 2.326297e+00,  2.652130e-01],\n",
       "        [ 3.634009e+00,  1.730537e+00],\n",
       "        [ 3.413670e-01, -8.949980e-01],\n",
       "        [ 3.125951e+00,  2.932510e-01],\n",
       "        [ 2.123252e+00, -7.835630e-01],\n",
       "        [ 8.878350e-01, -2.797792e+00],\n",
       "        [ 7.139979e+00, -2.329896e+00],\n",
       "        [ 1.696414e+00, -1.212496e+00],\n",
       "        [ 8.117032e+00,  6.234930e-01],\n",
       "        [ 8.497162e+00, -2.666490e-01],\n",
       "        [ 4.658191e+00,  3.507396e+00],\n",
       "        [ 8.197181e+00,  1.545132e+00],\n",
       "        [ 1.208047e+00,  2.131000e-01],\n",
       "        [ 1.928486e+00, -3.218700e-01],\n",
       "        [ 2.175808e+00, -1.452700e-02],\n",
       "        [ 7.886608e+00,  4.617550e-01],\n",
       "        [ 3.223038e+00, -5.523920e-01],\n",
       "        [ 3.628502e+00,  2.190585e+00],\n",
       "        [ 7.407860e+00, -1.219610e-01],\n",
       "        [ 7.286357e+00,  2.510770e-01],\n",
       "        [ 2.301095e+00, -5.339880e-01],\n",
       "        [-2.325420e-01, -5.476900e-01],\n",
       "        [ 3.457096e+00, -8.221600e-02],\n",
       "        [ 3.023938e+00, -5.739200e-02],\n",
       "        [ 8.015003e+00,  8.853250e-01],\n",
       "        [ 8.991748e+00,  9.231540e-01],\n",
       "        [ 7.916831e+00, -1.781735e+00],\n",
       "        [ 7.616862e+00, -2.179580e-01],\n",
       "        [ 2.450939e+00,  7.449670e-01],\n",
       "        [ 7.270337e+00, -2.507834e+00],\n",
       "        [ 1.749721e+00, -9.619020e-01],\n",
       "        [ 1.803111e+00, -1.763490e-01],\n",
       "        [ 8.804461e+00,  3.044301e+00],\n",
       "        [ 1.231257e+00, -5.685730e-01],\n",
       "        [ 2.074915e+00,  1.410550e+00],\n",
       "        [-7.430360e-01, -1.736103e+00],\n",
       "        [ 3.536555e+00,  3.964960e+00],\n",
       "        [ 8.410143e+00,  2.560600e-02],\n",
       "        [ 7.382988e+00, -4.787640e-01],\n",
       "        [ 6.960661e+00, -2.453530e-01],\n",
       "        [ 8.234460e+00,  7.018680e-01],\n",
       "        [ 8.168618e+00, -9.038350e-01],\n",
       "        [ 1.534187e+00, -6.224920e-01],\n",
       "        [ 9.229518e+00,  2.066088e+00],\n",
       "        [ 7.886242e+00,  1.918130e-01],\n",
       "        [ 2.893743e+00, -1.643468e+00],\n",
       "        [ 1.870457e+00, -1.040420e+00],\n",
       "        [ 5.286862e+00, -2.358286e+00],\n",
       "        [ 6.080573e+00,  4.188860e-01],\n",
       "        [ 2.544314e+00,  1.714165e+00],\n",
       "        [ 6.016004e+00, -3.753712e+00],\n",
       "        [ 9.263100e-01, -5.643590e-01],\n",
       "        [ 8.702960e-01, -1.099520e-01],\n",
       "        [ 2.369345e+00,  1.375695e+00],\n",
       "        [ 1.363782e+00, -2.540820e-01],\n",
       "        [ 7.279460e+00, -1.895720e-01],\n",
       "        [ 1.896005e+00,  5.150800e-01],\n",
       "        [ 8.102154e+00, -6.038750e-01],\n",
       "        [ 2.529893e+00,  6.626570e-01],\n",
       "        [ 1.963874e+00, -3.652330e-01],\n",
       "        [ 8.132048e+00,  7.859140e-01],\n",
       "        [ 8.245938e+00,  3.723660e-01],\n",
       "        [ 6.543888e+00,  4.331640e-01],\n",
       "        [-2.367130e-01, -5.766721e+00],\n",
       "        [ 8.112593e+00,  2.958390e-01],\n",
       "        [ 9.803425e+00,  1.495167e+00],\n",
       "        [ 1.497407e+00, -5.529160e-01],\n",
       "        [ 1.336267e+00, -1.632889e+00],\n",
       "        [ 9.205805e+00, -5.864800e-01],\n",
       "        [ 1.966279e+00, -1.840439e+00],\n",
       "        [ 8.398012e+00,  1.584918e+00],\n",
       "        [ 7.239953e+00, -1.764292e+00],\n",
       "        [ 7.556201e+00,  2.411850e-01],\n",
       "        [ 9.015509e+00,  3.450190e-01],\n",
       "        [ 8.266085e+00, -2.309770e-01],\n",
       "        [ 8.545620e+00,  2.788799e+00],\n",
       "        [ 9.295969e+00,  1.346332e+00],\n",
       "        [ 2.404234e+00,  5.702780e-01],\n",
       "        [ 2.037772e+00,  2.191900e-02],\n",
       "        [ 1.727631e+00, -4.531430e-01],\n",
       "        [ 1.979395e+00, -5.077300e-02],\n",
       "        [ 8.092288e+00, -1.372433e+00],\n",
       "        [ 1.667645e+00,  2.392040e-01],\n",
       "        [ 9.854303e+00,  1.365116e+00],\n",
       "        [ 7.921057e+00, -1.327587e+00],\n",
       "        [ 8.500757e+00,  1.492372e+00],\n",
       "        [ 1.339746e+00, -2.911830e-01],\n",
       "        [ 3.107511e+00,  7.583670e-01],\n",
       "        [ 2.609525e+00,  9.029790e-01],\n",
       "        [ 3.263585e+00,  1.367898e+00],\n",
       "        [ 2.912122e+00, -2.023590e-01],\n",
       "        [ 1.731786e+00,  5.890960e-01],\n",
       "        [ 2.387003e+00,  1.573131e+00]])"
      ]
     },
     "execution_count": 13,
     "metadata": {},
     "output_type": "execute_result"
    }
   ],
   "source": [
    "dataMatrix "
   ]
  },
  {
   "cell_type": "code",
   "execution_count": 14,
   "metadata": {},
   "outputs": [
    {
     "data": {
      "text/plain": [
       "matrix([[-1.],\n",
       "        [-1.],\n",
       "        [ 1.],\n",
       "        [-1.],\n",
       "        [ 1.],\n",
       "        [ 1.],\n",
       "        [ 1.],\n",
       "        [-1.],\n",
       "        [-1.],\n",
       "        [-1.],\n",
       "        [-1.],\n",
       "        [-1.],\n",
       "        [-1.],\n",
       "        [ 1.],\n",
       "        [-1.],\n",
       "        [ 1.],\n",
       "        [ 1.],\n",
       "        [-1.],\n",
       "        [ 1.],\n",
       "        [-1.],\n",
       "        [-1.],\n",
       "        [-1.],\n",
       "        [ 1.],\n",
       "        [-1.],\n",
       "        [-1.],\n",
       "        [ 1.],\n",
       "        [ 1.],\n",
       "        [-1.],\n",
       "        [-1.],\n",
       "        [-1.],\n",
       "        [-1.],\n",
       "        [ 1.],\n",
       "        [ 1.],\n",
       "        [ 1.],\n",
       "        [ 1.],\n",
       "        [-1.],\n",
       "        [ 1.],\n",
       "        [-1.],\n",
       "        [-1.],\n",
       "        [ 1.],\n",
       "        [-1.],\n",
       "        [-1.],\n",
       "        [-1.],\n",
       "        [-1.],\n",
       "        [ 1.],\n",
       "        [ 1.],\n",
       "        [ 1.],\n",
       "        [ 1.],\n",
       "        [ 1.],\n",
       "        [-1.],\n",
       "        [ 1.],\n",
       "        [ 1.],\n",
       "        [-1.],\n",
       "        [-1.],\n",
       "        [ 1.],\n",
       "        [ 1.],\n",
       "        [-1.],\n",
       "        [ 1.],\n",
       "        [-1.],\n",
       "        [-1.],\n",
       "        [-1.],\n",
       "        [-1.],\n",
       "        [ 1.],\n",
       "        [-1.],\n",
       "        [ 1.],\n",
       "        [-1.],\n",
       "        [-1.],\n",
       "        [ 1.],\n",
       "        [ 1.],\n",
       "        [ 1.],\n",
       "        [-1.],\n",
       "        [ 1.],\n",
       "        [ 1.],\n",
       "        [-1.],\n",
       "        [-1.],\n",
       "        [ 1.],\n",
       "        [-1.],\n",
       "        [ 1.],\n",
       "        [ 1.],\n",
       "        [ 1.],\n",
       "        [ 1.],\n",
       "        [ 1.],\n",
       "        [ 1.],\n",
       "        [ 1.],\n",
       "        [-1.],\n",
       "        [-1.],\n",
       "        [-1.],\n",
       "        [-1.],\n",
       "        [ 1.],\n",
       "        [-1.],\n",
       "        [ 1.],\n",
       "        [ 1.],\n",
       "        [ 1.],\n",
       "        [-1.],\n",
       "        [-1.],\n",
       "        [-1.],\n",
       "        [-1.],\n",
       "        [-1.],\n",
       "        [-1.],\n",
       "        [-1.]])"
      ]
     },
     "execution_count": 14,
     "metadata": {},
     "output_type": "execute_result"
    }
   ],
   "source": [
    "labelMat"
   ]
  },
  {
   "cell_type": "code",
   "execution_count": 17,
   "metadata": {},
   "outputs": [
    {
     "name": "stdout",
     "output_type": "stream",
     "text": [
      "[[23.62676274]\n",
      " [18.75800936]\n",
      " [59.52179808]\n",
      " [15.97849251]\n",
      " [59.3584291 ]\n",
      " [55.24130393]\n",
      " [61.78946647]\n",
      " [17.14801056]\n",
      " [24.70795493]\n",
      " [ 3.99196   ]\n",
      " [23.14230486]\n",
      " [17.27181176]\n",
      " [11.12509017]\n",
      " [57.5989284 ]\n",
      " [14.72626734]\n",
      " [60.31071067]\n",
      " [64.58771723]\n",
      " [29.63458502]\n",
      " [59.45973938]\n",
      " [ 8.78587461]\n",
      " [15.07154557]\n",
      " [16.45358897]\n",
      " [58.82621243]\n",
      " [25.21159962]\n",
      " [23.93947912]\n",
      " [56.13323091]\n",
      " [54.62628856]\n",
      " [18.22045896]\n",
      " [-0.89067661]\n",
      " [26.23619876]\n",
      " [22.92597913]\n",
      " [59.12653524]\n",
      " [66.44266392]\n",
      " [62.59922322]\n",
      " [57.86318974]\n",
      " [17.33122016]\n",
      " [58.86447551]\n",
      " [14.73286965]\n",
      " [13.89484746]\n",
      " [61.67688838]\n",
      " [10.19621195]\n",
      " [13.44003006]\n",
      " [-2.86794896]\n",
      " [20.4415747 ]\n",
      " [63.46882072]\n",
      " [56.50916919]\n",
      " [52.95116625]\n",
      " [61.07363454]\n",
      " [63.11348693]\n",
      " [12.56898451]\n",
      " [66.43231645]\n",
      " [59.24996503]\n",
      " [24.44885795]\n",
      " [15.76866955]\n",
      " [43.64995389]\n",
      " [45.25565537]\n",
      " [16.50498049]\n",
      " [51.36089194]\n",
      " [ 7.88674338]\n",
      " [ 6.74577641]\n",
      " [15.71849309]\n",
      " [10.70007059]\n",
      " [55.27044443]\n",
      " [13.50385887]\n",
      " [62.13763757]\n",
      " [18.05749435]\n",
      " [15.40729325]\n",
      " [60.1674741 ]\n",
      " [61.68093382]\n",
      " [48.73182356]\n",
      " [ 7.3240516 ]\n",
      " [60.79489267]\n",
      " [71.66825321]\n",
      " [12.1813078 ]\n",
      " [12.67084722]\n",
      " [70.44438451]\n",
      " [17.75632436]\n",
      " [60.91345361]\n",
      " [57.46021177]\n",
      " [56.67964788]\n",
      " [67.535566  ]\n",
      " [62.78637413]\n",
      " [60.1259488 ]\n",
      " [68.07135791]\n",
      " [17.25454075]\n",
      " [15.35362296]\n",
      " [13.76220231]\n",
      " [15.027644  ]\n",
      " [63.27747907]\n",
      " [12.2152884 ]\n",
      " [72.25794341]\n",
      " [61.91356843]\n",
      " [61.83555896]\n",
      " [10.57718319]\n",
      " [22.26815778]\n",
      " [18.27912022]\n",
      " [22.48367489]\n",
      " [22.31065169]\n",
      " [12.14680994]\n",
      " [15.53988285]]\n"
     ]
    }
   ],
   "source": [
    "print(dataMatrix*dataMatrix[2,:].T)"
   ]
  },
  {
   "cell_type": "code",
   "execution_count": 2,
   "metadata": {},
   "outputs": [
    {
     "data": {
      "image/png": "[encoded data removed]",
      "text/plain": [
       "<Figure size 432x288 with 1 Axes>"
      ]
     },
     "metadata": {
      "needs_background": "light"
     },
     "output_type": "display_data"
    }
   ],
   "source": [
    "'''\n",
    "Created on Nov 26, 2010\n",
    "\n",
    "@author: Peter\n",
    "'''\n",
    "from numpy import *\n",
    "import matplotlib\n",
    "import matplotlib.pyplot as plt\n",
    "%matplotlib inline\n",
    "xcord0 = []; ycord0 = []; xcord1 = []; ycord1 = []\n",
    "fw = open('testSetRBF2.txt', 'w')#generate data\n",
    "\n",
    "fig = plt.figure()\n",
    "ax = fig.add_subplot(111)\n",
    "xcord0 = []; ycord0 = []; xcord1 = []; ycord1 = []\n",
    "for i in range(100):\n",
    "    [x,y] = random.uniform(0,1,2)\n",
    "    xpt=x*cos(2.0*pi*y); ypt = x*sin(2.0*pi*y)\n",
    "    if (x > 0.5):\n",
    "        xcord0.append(xpt); ycord0.append(ypt)\n",
    "        label = -1.0\n",
    "    else:\n",
    "        xcord1.append(xpt); ycord1.append(ypt)\n",
    "        label = 1.0\n",
    "    fw.write('%f\\t%f\\t%f\\n' % (xpt, ypt, label))\n",
    "ax.scatter(xcord0,ycord0, marker='s', s=90)\n",
    "ax.scatter(xcord1,ycord1, marker='o', s=50, c='red')\n",
    "plt.title('Non-linearly Separable Data for Kernel Method')\n",
    "plt.show()\n",
    "fw.close()"
   ]
  },
  {
   "cell_type": "code",
   "execution_count": 3,
   "metadata": {},
   "outputs": [
    {
     "data": {
      "image/png": "[encoded data removed]",
      "text/plain": [
       "<Figure size 432x288 with 4 Axes>"
      ]
     },
     "metadata": {
      "needs_background": "light"
     },
     "output_type": "display_data"
    }
   ],
   "source": [
    "'''\n",
    "Created on Oct 6, 2010\n",
    "\n",
    "@author: Peter\n",
    "'''\n",
    "\n",
    "xcord0 = []; ycord0 = []; xcord1 = []; ycord1 = []\n",
    "markers =[]\n",
    "colors =[]\n",
    "fr = open('testSet.txt')#this file was generated by 2normalGen.py\n",
    "for line in fr.readlines():\n",
    "    lineSplit = line.strip().split('\\t')\n",
    "    xPt = float(lineSplit[0])\n",
    "    yPt = float(lineSplit[1])\n",
    "    label = int(lineSplit[2])\n",
    "    if (label == 0):\n",
    "        xcord0.append(xPt)\n",
    "        ycord0.append(yPt)\n",
    "    else:\n",
    "        xcord1.append(xPt)\n",
    "        ycord1.append(yPt)\n",
    "\n",
    "fr.close()\n",
    "fig = plt.figure()\n",
    "ax = fig.add_subplot(221)\n",
    "xcord0 = []; ycord0 = []; xcord1 = []; ycord1 = []\n",
    "for i in range(300):\n",
    "    [x,y] = random.uniform(0,1,2)\n",
    "    if ((x > 0.5) and (y < 0.5)) or ((x < 0.5) and (y > 0.5)):\n",
    "        xcord0.append(x); ycord0.append(y)\n",
    "    else:\n",
    "        xcord1.append(x); ycord1.append(y)\n",
    "ax.scatter(xcord0,ycord0, marker='s', s=90)\n",
    "ax.scatter(xcord1,ycord1, marker='o', s=50, c='red')\n",
    "plt.title('A')\n",
    "ax = fig.add_subplot(222)\n",
    "xcord0 = random.standard_normal(150); ycord0 = random.standard_normal(150)\n",
    "xcord1 = random.standard_normal(150)+2.0; ycord1 = random.standard_normal(150)+2.0\n",
    "ax.scatter(xcord0,ycord0, marker='s', s=90)\n",
    "ax.scatter(xcord1,ycord1, marker='o', s=50, c='red')\n",
    "plt.title('B')\n",
    "ax = fig.add_subplot(223)\n",
    "xcord0 = []; ycord0 = []; xcord1 = []; ycord1 = []\n",
    "for i in range(300):\n",
    "    [x,y] = random.uniform(0,1,2)\n",
    "    if (x > 0.5):\n",
    "        xcord0.append(x*cos(2.0*pi*y)); ycord0.append(x*sin(2.0*pi*y))\n",
    "    else:\n",
    "        xcord1.append(x*cos(2.0*pi*y)); ycord1.append(x*sin(2.0*pi*y))\n",
    "ax.scatter(xcord0,ycord0, marker='s', s=90)\n",
    "ax.scatter(xcord1,ycord1, marker='o', s=50, c='red')\n",
    "plt.title('C')\n",
    "ax = fig.add_subplot(224)\n",
    "xcord1 = zeros(150); ycord1 = zeros(150)\n",
    "xcord0 = random.uniform(-3,3,350); ycord0 = random.uniform(-3,3,350);\n",
    "xcord1[0:50] = 0.3*random.standard_normal(50)+2.0; ycord1[0:50] = 0.3*random.standard_normal(50)+2.0\n",
    "\n",
    "xcord1[50:100] = 0.3*random.standard_normal(50)-2.0; ycord1[50:100] = 0.3*random.standard_normal(50)-3.0\n",
    "\n",
    "xcord1[100:150] = 0.3*random.standard_normal(50)+1.0; ycord1[100:150] = 0.3*random.standard_normal(50)\n",
    "ax.scatter(xcord0,ycord0, marker='s', s=90)\n",
    "ax.scatter(xcord1,ycord1, marker='o', s=50, c='red')\n",
    "plt.title('D')\n",
    "plt.show()"
   ]
  },
  {
   "cell_type": "code",
   "execution_count": 4,
   "metadata": {},
   "outputs": [
    {
     "data": {
      "image/png": "[encoded data removed]",
      "text/plain": [
       "<Figure size 432x288 with 1 Axes>"
      ]
     },
     "metadata": {
      "needs_background": "light"
     },
     "output_type": "display_data"
    }
   ],
   "source": [
    "'''\n",
    "Created on Nov 22, 2010\n",
    "\n",
    "@author: Peter\n",
    "'''\n",
    "from matplotlib.patches import Circle\n",
    "\n",
    "xcord0 = []\n",
    "ycord0 = []\n",
    "xcord1 = []\n",
    "ycord1 = []\n",
    "markers =[]\n",
    "colors =[]\n",
    "fr = open('testSet.txt')#this file was generated by 2normalGen.py\n",
    "for line in fr.readlines():\n",
    "    lineSplit = line.strip().split('\\t')\n",
    "    xPt = float(lineSplit[0])\n",
    "    yPt = float(lineSplit[1])\n",
    "    label = int(lineSplit[2])\n",
    "    if (label == -1):\n",
    "        xcord0.append(xPt)\n",
    "        ycord0.append(yPt)\n",
    "    else:\n",
    "        xcord1.append(xPt)\n",
    "        ycord1.append(yPt)\n",
    "\n",
    "fr.close()\n",
    "fig = plt.figure()\n",
    "ax = fig.add_subplot(111)\n",
    "ax.scatter(xcord0,ycord0, marker='s', s=90)\n",
    "ax.scatter(xcord1,ycord1, marker='o', s=50, c='red')\n",
    "plt.title('Support Vectors Circled')\n",
    "circle = Circle((4.6581910000000004, 3.507396), 0.5, facecolor='none', edgecolor=(0,0.8,0.8), linewidth=3, alpha=0.5)\n",
    "ax.add_patch(circle)\n",
    "circle = Circle((3.4570959999999999, -0.082215999999999997), 0.5, facecolor='none', edgecolor=(0,0.8,0.8), linewidth=3, alpha=0.5)\n",
    "ax.add_patch(circle)\n",
    "circle = Circle((6.0805730000000002, 0.41888599999999998), 0.5, facecolor='none', edgecolor=(0,0.8,0.8), linewidth=3, alpha=0.5)\n",
    "ax.add_patch(circle)\n",
    "#plt.plot([2.3,8.5], [-6,6]) #seperating hyperplane\n",
    "b = -3.75567; w0=0.8065; w1=-0.2761\n",
    "x = arange(-2.0, 12.0, 0.1)\n",
    "y = (-w0*x - b)/w1\n",
    "ax.plot(x,y)\n",
    "ax.axis([-2,12,-8,6])\n",
    "plt.show()"
   ]
  },
  {
   "cell_type": "code",
   "execution_count": null,
   "metadata": {},
   "outputs": [],
   "source": []
  }
 ],
 "metadata": {
  "kernelspec": {
   "display_name": "Python 3",
   "language": "python",
   "name": "python3"
  },
  "language_info": {
   "codemirror_mode": {
    "name": "ipython",
    "version": 3
   },
   "file_extension": ".py",
   "mimetype": "text/x-python",
   "name": "python",
   "nbconvert_exporter": "python",
   "pygments_lexer": "ipython3",
   "version": "3.7.3"
  }
 },
 "nbformat": 4,
 "nbformat_minor": 2
}
