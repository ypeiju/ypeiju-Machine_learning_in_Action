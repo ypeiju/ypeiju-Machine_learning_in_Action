{
 "cells": [
  {
   "cell_type": "code",
   "execution_count": 7,
   "metadata": {},
   "outputs": [],
   "source": [
    "a=[[1,2,3],[1,5,6],[1,8,9]]\n",
    "b=len(a[0])"
   ]
  },
  {
   "cell_type": "code",
   "execution_count": 10,
   "metadata": {},
   "outputs": [
    {
     "data": {
      "text/plain": [
       "3"
      ]
     },
     "execution_count": 10,
     "metadata": {},
     "output_type": "execute_result"
    }
   ],
   "source": [
    "b"
   ]
  },
  {
   "cell_type": "code",
   "execution_count": 11,
   "metadata": {},
   "outputs": [],
   "source": [
    "from math import log\n",
    "import operator\n",
    "\n",
    "\"\"\"\n",
    "函数说明：计算给定数据集的经验熵（香农熵）\n",
    "Parameters：\n",
    "    dataSet：数据集\n",
    "Returns：\n",
    "    shannonEnt：经验熵\n",
    "Modify：\n",
    "    2018-03-12\n",
    "\n",
    "\"\"\"\n",
    "def calcShannonEnt(dataSet):\n",
    "    #返回数据集行数\n",
    "    numEntries=len(dataSet)\n",
    "    #保存每个标签（label）出现次数的字典\n",
    "    labelCounts={}\n",
    "    #对每组特征向量进行统计\n",
    "    for featVec in dataSet:\n",
    "        currentLabel=featVec[-1]                     #提取标签信息\n",
    "        if currentLabel not in labelCounts.keys():   #如果标签没有放入统计次数的字典，添加进去\n",
    "            labelCounts[currentLabel]=0\n",
    "        labelCounts[currentLabel]+=1                 #label计数\n",
    "\n",
    "    shannonEnt=0.0                                   #经验熵\n",
    "    #计算经验熵\n",
    "    for key in labelCounts:\n",
    "        prob=float(labelCounts[key])/numEntries      #选择该标签的概率\n",
    "        shannonEnt-=prob*log(prob,2)                 #利用公式计算\n",
    "    return shannonEnt                                #返回经验熵\n",
    "\n",
    "\"\"\"\n",
    "函数说明：创建测试数据集\n",
    "Parameters：无\n",
    "Returns：\n",
    "    dataSet：数据集\n",
    "    labels：分类属性\n",
    "Modify：\n",
    "    2018-03-13\n",
    "\n",
    "\"\"\"\n",
    "def createDataSet():\n",
    "    # 数据集\n",
    "    dataSet=[[0, 0, 0, 0, 'no'],\n",
    "            [0, 0, 0, 1, 'no'],\n",
    "            [0, 1, 0, 1, 'yes'],\n",
    "            [0, 1, 1, 0, 'yes'],\n",
    "            [0, 0, 0, 0, 'no'],\n",
    "            [1, 0, 0, 0, 'no'],\n",
    "            [1, 0, 0, 1, 'no'],\n",
    "            [1, 1, 1, 1, 'yes'],\n",
    "            [1, 0, 1, 2, 'yes'],\n",
    "            [1, 0, 1, 2, 'yes'],\n",
    "            [2, 0, 1, 2, 'yes'],\n",
    "            [2, 0, 1, 1, 'yes'],\n",
    "            [2, 1, 0, 1, 'yes'],\n",
    "            [2, 1, 0, 2, 'yes'],\n",
    "            [2, 0, 0, 0, 'no']]\n",
    "    #分类属性\n",
    "    labels=['年龄','有工作','有自己的房子','信贷情况']\n",
    "    #返回数据集和分类属性\n",
    "    return dataSet,labels\n",
    "\n",
    "\"\"\"\n",
    "函数说明：按照给定特征划分数据集\n",
    "\n",
    "Parameters：\n",
    "    dataSet:待划分的数据集\n",
    "    axis：划分数据集的特征\n",
    "    value：需要返回的特征值\n",
    "Returns：\n",
    "    无\n",
    "Modify：\n",
    "    2018-03-13\n",
    "\n",
    "\"\"\"\n",
    "def splitDataSet(dataSet,axis,value):\n",
    "    #创建返回的数据集列表\n",
    "    retDataSet=[]\n",
    "    #遍历数据集\n",
    "    for featVec in dataSet:\n",
    "        if featVec[axis]==value:\n",
    "            #去掉axis特征\n",
    "            reduceFeatVec=featVec[:axis]\n",
    "            #将符合条件的添加到返回的数据集\n",
    "            reduceFeatVec.extend(featVec[axis+1:])\n",
    "            retDataSet.append(reduceFeatVec)\n",
    "    #返回划分后的数据集\n",
    "    return retDataSet\n",
    "\n",
    "\"\"\"\n",
    "函数说明：计算给定数据集的经验熵（香农熵）\n",
    "Parameters：\n",
    "    dataSet：数据集\n",
    "Returns：\n",
    "    shannonEnt：信息增益最大特征的索引值\n",
    "Modify：\n",
    "    2018-03-13\n",
    "\n",
    "\"\"\"\n",
    "\n",
    "\n",
    "def chooseBestFeatureToSplit(dataSet):\n",
    "    #特征数量\n",
    "    numFeatures = len(dataSet[0]) - 1\n",
    "    #计数数据集的香农熵\n",
    "    baseEntropy = calcShannonEnt(dataSet)\n",
    "    #信息增益\n",
    "    bestInfoGain = 0.0\n",
    "    #最优特征的索引值\n",
    "    bestFeature = -1\n",
    "    #遍历所有特征\n",
    "    for i in range(numFeatures):\n",
    "        # 获取dataSet的第i个所有特征\n",
    "        featList = [example[i] for example in dataSet]\n",
    "        #创建set集合{}，元素不可重复\n",
    "        uniqueVals = set(featList)\n",
    "        #经验条件熵\n",
    "        newEntropy = 0.0\n",
    "        #计算信息增益\n",
    "        for value in uniqueVals:\n",
    "            #subDataSet划分后的子集\n",
    "            subDataSet = splitDataSet(dataSet, i, value)\n",
    "            #计算子集的概率\n",
    "            prob = len(subDataSet) / float(len(dataSet))\n",
    "            #根据公式计算经验条件熵\n",
    "            newEntropy += prob * calcShannonEnt((subDataSet))\n",
    "        #信息增益\n",
    "        infoGain = baseEntropy - newEntropy\n",
    "        #打印每个特征的信息增益\n",
    "        print(\"第%d个特征的增益为%.3f\" % (i, infoGain))\n",
    "        #计算信息增益\n",
    "        if (infoGain > bestInfoGain):\n",
    "            #更新信息增益，找到最大的信息增益\n",
    "            bestInfoGain = infoGain\n",
    "            #记录信息增益最大的特征的索引值\n",
    "            bestFeature = i\n",
    "            #返回信息增益最大特征的索引值\n",
    "    return bestFeature\n",
    "\n",
    "\"\"\"\n",
    "函数说明：统计classList中出现次数最多的元素（类标签）\n",
    "Parameters：\n",
    "    classList：类标签列表\n",
    "Returns：\n",
    "    sortedClassCount[0][0]：出现次数最多的元素（类标签）\n",
    "Modify：\n",
    "    2018-03-13\n",
    "\n",
    "\"\"\"\n",
    "def majorityCnt(classList):\n",
    "    classCount={}\n",
    "    #统计classList中每个元素出现的次数\n",
    "    for vote in classList:\n",
    "        if vote not in classCount.keys():\n",
    "            classCount[vote]=0\n",
    "            classCount[vote]+=1\n",
    "        #根据字典的值降序排列\n",
    "        sortedClassCount=sorted(classCount.items(),key=operator.itemgetter(1),reverse=True)\n",
    "        return sortedClassCount[0][0]\n",
    "\n",
    "\"\"\"\n",
    "函数说明：创建决策树\n",
    "\n",
    "Parameters:\n",
    "    dataSet：训练数据集\n",
    "    labels：分类属性标签\n",
    "    featLabels：存储选择的最优特征标签\n",
    "Returns：\n",
    "    myTree：决策树\n",
    "Modify：\n",
    "    2018-03-13\n",
    "\n",
    "\"\"\"\n",
    "def createTree(dataSet,labels,featLabels):\n",
    "    #取分类标签（是否放贷：yes or no）\n",
    "    classList=[example[-1] for example in dataSet]\n",
    "    #如果类别完全相同，则停止继续划分\n",
    "    if classList.count(classList[0])==len(classList):\n",
    "        return classList[0]\n",
    "    #遍历完所有特征时返回出现次数最多的类标签\n",
    "    if len(dataSet[0])==1:\n",
    "        return majorityCnt(classList)\n",
    "    #选择最优特征\n",
    "    bestFeat=chooseBestFeatureToSplit(dataSet)\n",
    "    #最优特征的标签\n",
    "    bestFeatLabel=labels[bestFeat]\n",
    "    featLabels.append(bestFeatLabel)\n",
    "    #根据最优特征的标签生成树\n",
    "    myTree={bestFeatLabel:{}}\n",
    "    #删除已经使用的特征标签\n",
    "    del(labels[bestFeat])\n",
    "    #得到训练集中所有最优特征的属性值\n",
    "    featValues=[example[bestFeat] for example in dataSet]\n",
    "    #去掉重复的属性值\n",
    "    uniqueVls=set(featValues)\n",
    "    #遍历特征，创建决策树\n",
    "    for value in uniqueVls:\n",
    "        myTree[bestFeatLabel][value]=createTree(splitDataSet(dataSet,bestFeat,value),\n",
    "                                               labels,featLabels)\n",
    "    return myTree"
   ]
  },
  {
   "cell_type": "code",
   "execution_count": 12,
   "metadata": {},
   "outputs": [
    {
     "name": "stdout",
     "output_type": "stream",
     "text": [
      "第0个特征的增益为0.083\n",
      "第1个特征的增益为0.324\n",
      "第2个特征的增益为0.420\n",
      "第3个特征的增益为0.363\n",
      "第0个特征的增益为0.252\n",
      "第1个特征的增益为0.918\n",
      "第2个特征的增益为0.474\n",
      "{'有自己的房子': {0: {'有工作': {0: 'no', 1: 'yes'}}, 1: 'yes'}}\n"
     ]
    }
   ],
   "source": [
    "if __name__=='__main__':\n",
    "    dataSet,labels=createDataSet()\n",
    "    featLabels=[]\n",
    "    myTree=createTree(dataSet,labels,featLabels)\n",
    "    print(myTree)"
   ]
  },
  {
   "cell_type": "code",
   "execution_count": 13,
   "metadata": {},
   "outputs": [],
   "source": [
    "%run trees.ipynb"
   ]
  },
  {
   "cell_type": "code",
   "execution_count": 14,
   "metadata": {},
   "outputs": [],
   "source": [
    "myDat,labels=createDataSet()"
   ]
  },
  {
   "cell_type": "code",
   "execution_count": 15,
   "metadata": {},
   "outputs": [],
   "source": [
    "myTree=createTree(myDat,labels)"
   ]
  },
  {
   "cell_type": "code",
   "execution_count": 16,
   "metadata": {},
   "outputs": [
    {
     "data": {
      "text/plain": [
       "{'no surfacing': {0: 'no', 1: {'flippers': {0: 'no', 1: 'yes'}}}}"
      ]
     },
     "execution_count": 16,
     "metadata": {},
     "output_type": "execute_result"
    }
   ],
   "source": [
    "myTree"
   ]
  },
  {
   "cell_type": "code",
   "execution_count": null,
   "metadata": {},
   "outputs": [],
   "source": []
  }
 ],
 "metadata": {
  "kernelspec": {
   "display_name": "Python 3",
   "language": "python",
   "name": "python3"
  },
  "language_info": {
   "codemirror_mode": {
    "name": "ipython",
    "version": 3
   },
   "file_extension": ".py",
   "mimetype": "text/x-python",
   "name": "python",
   "nbconvert_exporter": "python",
   "pygments_lexer": "ipython3",
   "version": "3.7.3"
  }
 },
 "nbformat": 4,
 "nbformat_minor": 2
}
